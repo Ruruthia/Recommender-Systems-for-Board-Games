{
 "cells": [
  {
   "cell_type": "code",
   "execution_count": 1,
   "metadata": {
    "collapsed": true
   },
   "outputs": [],
   "source": [
    "import pandas as pd\n",
    "import scipy.sparse\n",
    "\n",
    "from recommender.testing.custom_metric_utils import calculate_metric_scores\n",
    "from recommender.testing.custom_metric_utils import create_recommendations_profiles_embeddings\n",
    "from recommender.tools.lightfm_utils import LightFMTests"
   ]
  },
  {
   "cell_type": "code",
   "execution_count": 2,
   "outputs": [],
   "source": [
    "DATA_ROOT = '../../data'\n",
    "THREADS = 8"
   ],
   "metadata": {
    "collapsed": false,
    "pycharm": {
     "name": "#%%\n"
    }
   }
  },
  {
   "cell_type": "markdown",
   "source": [
    "## Data loading"
   ],
   "metadata": {
    "collapsed": false,
    "pycharm": {
     "name": "#%% md\n"
    }
   }
  },
  {
   "cell_type": "code",
   "execution_count": 3,
   "outputs": [],
   "source": [
    "full_df = pd.read_csv(f'{DATA_ROOT}/ratings_all_implicit.csv.gz')\n",
    "train_df = pd.read_csv(f'{DATA_ROOT}/ratings_train_implicit.csv.gz')\n",
    "games_df = pd.read_json(f'{DATA_ROOT}/bgg_GameItem.jl', lines=True)[[\n",
    "    'name', 'bgg_id', 'mechanic', 'category', 'complexity',\n",
    "    'max_players_best', 'min_players_best', 'max_players_rec', 'min_players_rec'\n",
    "]]\n",
    "\n",
    "features_names = pd.read_csv(f'{DATA_ROOT}/game_features_names.csv.gz').values.flatten()\n",
    "game_features = pd.read_csv(f'{DATA_ROOT}/game_features.csv.gz')\n",
    "\n",
    "model = pd.read_pickle('../notebooks_data/custom_model.pkl')\n",
    "dataset = pd.read_pickle(f'{DATA_ROOT}/dataset.pkl')\n",
    "item_features = pd.read_pickle(f'{DATA_ROOT}/item_features.pkl')\n",
    "\n",
    "train_interactions = scipy.sparse.load_npz(f'{DATA_ROOT}/train_interactions.npz')\n",
    "test_interactions = scipy.sparse.load_npz(f'{DATA_ROOT}/test_interactions.npz')"
   ],
   "metadata": {
    "collapsed": false,
    "pycharm": {
     "name": "#%%\n"
    }
   }
  },
  {
   "cell_type": "code",
   "execution_count": 4,
   "outputs": [],
   "source": [
    "test_users_profiles = pd.read_pickle(f'{DATA_ROOT}/test_users_profiles.pkl')"
   ],
   "metadata": {
    "collapsed": false,
    "pycharm": {
     "name": "#%%\n"
    }
   }
  },
  {
   "cell_type": "markdown",
   "source": [
    "## Data processing"
   ],
   "metadata": {
    "collapsed": false,
    "pycharm": {
     "name": "#%% md\n"
    }
   }
  },
  {
   "cell_type": "code",
   "execution_count": 5,
   "outputs": [],
   "source": [
    "mechanics_names = features_names[:20]\n",
    "categories_names = features_names[20:40]"
   ],
   "metadata": {
    "collapsed": false,
    "pycharm": {
     "name": "#%%\n"
    }
   }
  },
  {
   "cell_type": "code",
   "execution_count": 6,
   "outputs": [],
   "source": [
    "test_users_profiles.index = test_users_profiles.index.map(dataset.mapping()[0])\n",
    "test_users_profiles = test_users_profiles.sort_index()"
   ],
   "metadata": {
    "collapsed": false,
    "pycharm": {
     "name": "#%%\n"
    }
   }
  },
  {
   "cell_type": "code",
   "execution_count": 7,
   "outputs": [],
   "source": [
    "test_users_profiles.values[:, :40] *= 3"
   ],
   "metadata": {
    "collapsed": false,
    "pycharm": {
     "name": "#%%\n"
    }
   }
  },
  {
   "cell_type": "markdown",
   "source": [
    "## Evaluation"
   ],
   "metadata": {
    "collapsed": false,
    "pycharm": {
     "name": "#%% md\n"
    }
   }
  },
  {
   "cell_type": "code",
   "execution_count": 8,
   "outputs": [],
   "source": [
    "users_ids = test_users_profiles.index.values\n",
    "users_ids.sort()"
   ],
   "metadata": {
    "collapsed": false,
    "pycharm": {
     "name": "#%%\n"
    }
   }
  },
  {
   "cell_type": "code",
   "execution_count": 9,
   "outputs": [
    {
     "name": "stdout",
     "output_type": "stream",
     "text": [
      "Creating recommendation profiles\n"
     ]
    },
    {
     "name": "stderr",
     "output_type": "stream",
     "text": [
      "100%|██████████| 76543/76543 [04:59<00:00, 255.35it/s]\n"
     ]
    }
   ],
   "source": [
    "test_class = LightFMTests(model, train_df, dataset, train_interactions, test_interactions, item_features)\n",
    "num_recs = 5\n",
    "print(\"Creating recommendation profiles\")\n",
    "recommendation_profiles = create_recommendations_profiles_embeddings(\n",
    "    test_class.get_top_n(num_recs, users_ids), num_recs, games_df, categories_names, mechanics_names, 10, show_progress=True\n",
    ")\n",
    "recommendation_profiles.index = recommendation_profiles.index.map(dataset.mapping()[0])\n",
    "recommendation_profiles = recommendation_profiles.sort_index()\n",
    "metric = calculate_metric_scores(recommendation_profiles, test_users_profiles.loc[users_ids])"
   ],
   "metadata": {
    "collapsed": false,
    "pycharm": {
     "name": "#%%\n"
    }
   }
  },
  {
   "cell_type": "code",
   "execution_count": 10,
   "outputs": [
    {
     "data": {
      "text/plain": "array([1.51037832, 1.46374173, 0.70099428, 0.76516337, 4.44027771])"
     },
     "execution_count": 10,
     "metadata": {},
     "output_type": "execute_result"
    }
   ],
   "source": [
    "metric"
   ],
   "metadata": {
    "collapsed": false,
    "pycharm": {
     "name": "#%%\n"
    }
   }
  },
  {
   "cell_type": "code",
   "execution_count": null,
   "outputs": [],
   "source": [],
   "metadata": {
    "collapsed": false,
    "pycharm": {
     "name": "#%%\n"
    }
   }
  }
 ],
 "metadata": {
  "kernelspec": {
   "display_name": "Python 3",
   "language": "python",
   "name": "python3"
  },
  "language_info": {
   "codemirror_mode": {
    "name": "ipython",
    "version": 2
   },
   "file_extension": ".py",
   "mimetype": "text/x-python",
   "name": "python",
   "nbconvert_exporter": "python",
   "pygments_lexer": "ipython2",
   "version": "2.7.6"
  }
 },
 "nbformat": 4,
 "nbformat_minor": 0
}