{
 "cells": [
  {
   "cell_type": "code",
   "execution_count": 1,
   "id": "ancient-disaster",
   "metadata": {},
   "outputs": [],
   "source": [
    "import pandas as pd\n",
    "from surprise import Reader\n",
    "from surprise.dataset import DatasetAutoFolds\n",
    "\n",
    "from recommender.testing.custom_metric_utils import create_recommendations_profiles_embeddings, calculate_metric_scores\n",
    "from recommender.testing.custom_metric_utils import create_users_profiles_embeddings\n",
    "from recommender.tools.surprise_utils import train_model, SurpriseTests"
   ]
  },
  {
   "cell_type": "code",
   "execution_count": 2,
   "outputs": [],
   "source": [
    "DATA_ROOT = '../../data'"
   ],
   "metadata": {
    "collapsed": false,
    "pycharm": {
     "name": "#%%\n"
    }
   }
  },
  {
   "cell_type": "markdown",
   "id": "known-delay",
   "metadata": {},
   "source": [
    "## Loading data"
   ]
  },
  {
   "cell_type": "code",
   "execution_count": 3,
   "outputs": [],
   "source": [
    "columns = ['bgg_user_name', 'bgg_id', 'bgg_user_rating']\n",
    "test_df_implicit = pd.read_csv(f'{DATA_ROOT}/ratings_test_implicit.csv.gz')\n",
    "train_df_implicit = pd.read_csv(f'{DATA_ROOT}/ratings_train_implicit.csv.gz')\n",
    "test_df_explicit = pd.read_csv(f'{DATA_ROOT}/ratings_test_explicit.csv.gz')[columns]\n",
    "train_df_explicit = pd.read_csv(f'{DATA_ROOT}/ratings_train_explicit.csv.gz')[columns]\n",
    "games_df = pd.read_json(f'{DATA_ROOT}/bgg_GameItem.jl', lines=True)[[\n",
    "    'name', 'bgg_id', 'mechanic', 'category', 'complexity',\n",
    "    'max_players_best', 'min_players_best', 'max_players_rec', 'min_players_rec'\n",
    "]]\n",
    "\n",
    "features_names = pd.read_csv(f'{DATA_ROOT}/game_features_names.csv.gz').values.flatten()\n",
    "game_features = pd.read_csv(f'{DATA_ROOT}/game_features.csv.gz')"
   ],
   "metadata": {
    "collapsed": false,
    "pycharm": {
     "name": "#%%\n"
    }
   }
  },
  {
   "cell_type": "code",
   "execution_count": 4,
   "outputs": [],
   "source": [
    "users_profiles = pd.read_pickle(f'{DATA_ROOT}/users_profiles.pkl')\n",
    "games_profiles = pd.read_pickle(f'{DATA_ROOT}/games_profiles.pkl')"
   ],
   "metadata": {
    "collapsed": false,
    "pycharm": {
     "name": "#%%\n"
    }
   }
  },
  {
   "cell_type": "code",
   "execution_count": 5,
   "outputs": [],
   "source": [
    "mechanics_names = features_names[:20]\n",
    "categories_names = features_names[20:40]"
   ],
   "metadata": {
    "collapsed": false,
    "pycharm": {
     "name": "#%%\n"
    }
   }
  },
  {
   "cell_type": "markdown",
   "id": "domestic-strip",
   "metadata": {},
   "source": [
    "## Adding new users"
   ]
  },
  {
   "cell_type": "code",
   "execution_count": 6,
   "id": "endless-karma",
   "metadata": {},
   "outputs": [],
   "source": [
    "USERS_TO_ADD = {\n",
    "    # Family: Catan, Monopoly, UNO, Ticket to Ride\n",
    "    \"USER_1\": {\"games_ids\": [13, 1406, 2223, 9209],\n",
    "               \"ratings\": 4*[10.0]},\n",
    "    # Negative interactions: Game of Thrones, War of the Ring, Twilight Imperium (3rd edition),\n",
    "    # Battlestar Galactica, Scythe\n",
    "    \"USER_2\": {\"games_ids\":[103343, 2228, 12493, 37111, 169786],\n",
    "               \"ratings\": 5*[10.0]},\n",
    "    # Worker placement: Viticulture, Agricola, Feast for Odin, West Kingdom\n",
    "    \"USER_3\": {\"games_ids\":[183394, 31260, 177736, 236457, 266810, 296151],\n",
    "               \"ratings\": 6*[10.0]},\n",
    "    # Our games: Spirit Island, Citadel, Splendor, Avalon, Codenames, Crew, Love Letter, 7 wonders, viticulture, Descent\n",
    "    \"USER_4\": {\"games_ids\":[162886, 478, 148228, 1862, 178900, 324856, 129622, 68448, 183394, 150586],\n",
    "               \"ratings\": 10*[10.0]},\n",
    "    # Ameritrash: Runewars, Arkham Horror, Starcraft, Last Night on Earth, Talisman, Divine Right \n",
    "    \"USER_5\": {\"games_ids\":[59294, 15987, 22827, 29368, 27627, 23],\n",
    "               \"ratings\": 6*[10.0]},\n",
    "    # Eurogames: Catan, Puerto Rico, Carcassone, Ra, El Grande, Five Tribes\n",
    "    \"USER_6\": {\"games_ids\":[13, 3076, 822, 12, 93, 157354],\n",
    "               \"ratings\": 6*[10.0]},\n",
    "}"
   ]
  },
  {
   "cell_type": "code",
   "execution_count": 7,
   "id": "bacterial-invitation",
   "metadata": {},
   "outputs": [],
   "source": [
    "def append_users_to_train_df_explicit(train_df, users):\n",
    "    for user, data in users.items():\n",
    "        train_df = train_df.append(pd.DataFrame(data={'bgg_user_name': [user]*len(data['games_ids']), 'bgg_id': data['games_ids'], 'bgg_user_rating': data['ratings']}))\n",
    "    return train_df\n",
    "\n",
    "def append_users_to_train_df_implicit(train_df, users):\n",
    "    for user, data in users.items():\n",
    "        games = data['games_ids']\n",
    "        train_df = train_df.append(pd.DataFrame(data={'bgg_user_name': [user]*len(games), 'bgg_id': games, 'value':[1]*len(games)}))\n",
    "    return train_df"
   ]
  },
  {
   "cell_type": "code",
   "execution_count": 8,
   "id": "brutal-unemployment",
   "metadata": {},
   "outputs": [],
   "source": [
    "train_df_explicit = append_users_to_train_df_explicit(train_df_explicit, USERS_TO_ADD)\n",
    "train_df_implicit = append_users_to_train_df_implicit(train_df_implicit, USERS_TO_ADD)"
   ]
  },
  {
   "cell_type": "code",
   "execution_count": 9,
   "outputs": [
    {
     "name": "stderr",
     "output_type": "stream",
     "text": [
      "100%|██████████| 6/6 [00:00<00:00, 218.48it/s]\n"
     ]
    }
   ],
   "source": [
    "profiles_to_add = create_users_profiles_embeddings(\n",
    "    train_df_implicit, games_df, categories_names, mechanics_names, 10, show_progress=True, users_subset=[f'USER_{i}' for i in range(1,7)]\n",
    ")\n",
    "users_profiles = users_profiles.append(profiles_to_add)"
   ],
   "metadata": {
    "collapsed": false,
    "pycharm": {
     "name": "#%%\n"
    }
   }
  },
  {
   "cell_type": "code",
   "execution_count": 10,
   "outputs": [],
   "source": [
    "users_profiles.values[:, :40] *= 3"
   ],
   "metadata": {
    "collapsed": false,
    "pycharm": {
     "name": "#%%\n"
    }
   }
  },
  {
   "cell_type": "markdown",
   "id": "medium-egyptian",
   "metadata": {},
   "source": [
    "## Model training"
   ]
  },
  {
   "cell_type": "code",
   "execution_count": 11,
   "id": "spoken-washer",
   "metadata": {},
   "outputs": [],
   "source": [
    "reader = Reader(rating_scale=(1, 10))\n",
    "trainset = DatasetAutoFolds.load_from_df(train_df_explicit, reader).build_full_trainset()"
   ]
  },
  {
   "cell_type": "code",
   "execution_count": 12,
   "id": "silent-marathon",
   "metadata": {},
   "outputs": [
    {
     "name": "stdout",
     "output_type": "stream",
     "text": [
      "Processing epoch 0\n",
      "Processing epoch 1\n",
      "Processing epoch 2\n",
      "Processing epoch 3\n",
      "Processing epoch 4\n",
      "Processing epoch 5\n",
      "Processing epoch 6\n",
      "Processing epoch 7\n",
      "Processing epoch 8\n",
      "Processing epoch 9\n",
      "Processing epoch 10\n",
      "Processing epoch 11\n",
      "Processing epoch 12\n",
      "Processing epoch 13\n",
      "Processing epoch 14\n",
      "Processing epoch 15\n"
     ]
    }
   ],
   "source": [
    "ALGO = 'SVD'\n",
    "PARAMS = {\n",
    "    'n_epochs': 16,\n",
    "    'n_factors': 70,\n",
    "}\n",
    "model = train_model(ALGO, PARAMS, trainset, verbose=True)"
   ]
  },
  {
   "cell_type": "markdown",
   "id": "simple-memorabilia",
   "metadata": {},
   "source": [
    "## Inspecting predictions"
   ]
  },
  {
   "cell_type": "code",
   "execution_count": 13,
   "outputs": [],
   "source": [
    "tests = SurpriseTests(model, test_df_explicit, trainset)"
   ],
   "metadata": {
    "collapsed": false,
    "pycharm": {
     "name": "#%%\n"
    }
   }
  },
  {
   "cell_type": "code",
   "execution_count": 14,
   "id": "treated-popularity",
   "metadata": {},
   "outputs": [],
   "source": [
    "def analyze(user_name):\n",
    "    def game_id_to_name(game_id, games_df):\n",
    "        game_info = games_df.loc[games_df['bgg_id'] == game_id]\n",
    "        return game_info\n",
    "    top_5 = tests.get_top_n_for_user_by_name(user_name=user_name, n=5)\n",
    "    top_20 = tests.get_top_n_for_user_by_name(user_name=user_name, n=20)\n",
    "    top_5_df = pd.DataFrame(top_5, columns = ['bgg_user_name', 'bgg_id', 'rating'])\n",
    "    recommendations_profile = create_recommendations_profiles_embeddings(top_5_df, 5, games_df, categories_names, mechanics_names, 10)\n",
    "    print(\"Metric value:\", calculate_metric_scores(recommendations_profile, users_profiles.loc[user_name]))\n",
    "    top_20_names = [game_id_to_name(prediction[1], games_df) for prediction in top_20]\n",
    "    return pd.concat(top_20_names)"
   ]
  },
  {
   "cell_type": "code",
   "execution_count": 15,
   "id": "intermediate-cause",
   "metadata": {},
   "outputs": [
    {
     "name": "stdout",
     "output_type": "stream",
     "text": [
      "Metric value: [0.28333333 1.02372881 0.9        0.         2.20706215]\n"
     ]
    },
    {
     "data": {
      "text/plain": "                                         name  bgg_id  \\\n70395                          Too Many Bones  192135   \n15256            CATAN 3D Collector's Edition   17419   \n62819               Pandemic Legacy: Season 1  161936   \n37730                  Cards Against Humanity   50381   \n1864                                   Bridge    2181   \n64102                                 Nemesis  167355   \n3974                                 Pinochle    4583   \n57206                   Carcassonne Big Box 3  141007   \n62356        Ticket to Ride: 10th Anniversary  160069   \n65360            Exploding Kittens: NSFW Deck  172242   \n60327     Telestrations: 12 Player Party Pack  153016   \n2530           Trivial Pursuit: Genus Edition    2952   \n610                                 HeroQuest     699   \n24030           Talisman: Revised 4th Edition   27627   \n76383  Human Punishment: Social Deduction 2.0  225167   \n1634                                 Munchkin    1927   \n69250                Mythic Battles: Pantheon  186751   \n69737                           Secret Hitler  188834   \n65815                Telestrations After Dark  173761   \n78658                Too Many Bones: Undertow  235802   \n\n                                                mechanic  \\\n70395  [Cooperative Game:2023, Deck, Bag, and Pool Bu...   \n15256  [Dice Rolling:2072, Hand Management:2040, Memo...   \n62819  [Action Points:2001, Cooperative Game:2023, Ha...   \n37730  [Hand Management:2040, Player Judge:2865, Simu...   \n1864   [Auction/Bidding:2012, Hand Management:2040, P...   \n64102  [Campaign / Battle Card Driven:2018, Cooperati...   \n3974   [Auction/Bidding:2012, Melding and Splaying:29...   \n57206  [Area Majority / Influence:2080, Tile Placemen...   \n62356  [Card Drafting:2041, Connections:2883, End Gam...   \n65360  [Hand Management:2040, Player Elimination:2685...   \n60327         [Line Drawing:2039, Paper-and-Pencil:2055]   \n2530    [Roll / Spin and Move:2035, Set Collection:2004]   \n610    [Dice Rolling:2072, Die Icon Resolution:2856, ...   \n24030  [Dice Rolling:2072, Role Playing:2028, Roll / ...   \n76383  [Hidden Roles:2891, Take That:2686, Team-Based...   \n1634   [Hand Management:2040, Take That:2686, Variabl...   \n69250  [Area Movement:2046, Campaign / Battle Card Dr...   \n69737  [Hidden Roles:2891, Player Elimination:2685, T...   \n65815         [Line Drawing:2039, Paper-and-Pencil:2055]   \n78658  [Cooperative Game:2023, Deck, Bag, and Pool Bu...   \n\n                                                category  complexity  \\\n70395          [Adventure:1022, Dice:1017, Fantasy:1010]      3.8586   \n15256                                 [Negotiation:1026]      2.6583   \n62819                 [Environmental:1084, Medical:2145]      2.8336   \n37730  [Card Game:1002, Humor:1079, Mature / Adult:11...      1.1945   \n1864                                    [Card Game:1002]      3.8562   \n64102  [Adventure:1022, Horror:1024, Miniatures:1047,...      3.3735   \n3974                                    [Card Game:1002]      2.3023   \n57206                [City Building:1029, Medieval:1035]      2.0909   \n62356                         [Trains:1034, Travel:1097]      1.9028   \n65360  [Animals:1089, Card Game:1002, Comic Book / St...      1.0798   \n60327                                  [Party Game:1030]      1.0732   \n2530                      [Party Game:1030, Trivia:1027]      1.6449   \n610    [Adventure:1022, Exploration:1020, Fantasy:101...      2.1593   \n24030  [Adventure:1022, Exploration:1020, Fantasy:101...      2.1883   \n76383  [Bluffing:1023, Card Game:1002, Deduction:1039...      2.5750   \n1634   [Card Game:1002, Fantasy:1010, Fighting:1046, ...      1.8026   \n69250  [Ancient:1050, Card Game:1002, Miniatures:1047...      3.0270   \n69737  [Bluffing:1023, Card Game:1002, Deduction:1039...      1.6762   \n65815  [Humor:1079, Mature / Adult:1118, Party Game:1...      1.0000   \n78658  [Adventure:1022, Dice:1017, Fantasy:1010, Figh...      4.0120   \n\n       max_players_best  min_players_best  max_players_rec  min_players_rec  \n70395               3.0               3.0              4.0              1.0  \n15256               4.0               3.0              4.0              3.0  \n62819               4.0               4.0              4.0              2.0  \n37730               8.0               6.0             10.0              4.0  \n1864                4.0               4.0              4.0              4.0  \n64102               4.0               4.0              5.0              1.0  \n3974                4.0               4.0              4.0              3.0  \n57206               6.0               2.0              6.0              2.0  \n62356               5.0               4.0              5.0              2.0  \n65360               5.0               4.0              5.0              3.0  \n60327              12.0              12.0             12.0              6.0  \n2530                4.0               4.0              8.0              2.0  \n610                 5.0               5.0              5.0              2.0  \n24030               4.0               4.0              6.0              2.0  \n76383               7.0               5.0              9.0              4.0  \n1634                4.0               4.0              6.0              3.0  \n69250               2.0               2.0              4.0              2.0  \n69737              10.0               8.0             10.0              6.0  \n65815               8.0               4.0              8.0              4.0  \n78658               2.0               2.0              3.0              1.0  ",
      "text/html": "<div>\n<style scoped>\n    .dataframe tbody tr th:only-of-type {\n        vertical-align: middle;\n    }\n\n    .dataframe tbody tr th {\n        vertical-align: top;\n    }\n\n    .dataframe thead th {\n        text-align: right;\n    }\n</style>\n<table border=\"1\" class=\"dataframe\">\n  <thead>\n    <tr style=\"text-align: right;\">\n      <th></th>\n      <th>name</th>\n      <th>bgg_id</th>\n      <th>mechanic</th>\n      <th>category</th>\n      <th>complexity</th>\n      <th>max_players_best</th>\n      <th>min_players_best</th>\n      <th>max_players_rec</th>\n      <th>min_players_rec</th>\n    </tr>\n  </thead>\n  <tbody>\n    <tr>\n      <th>70395</th>\n      <td>Too Many Bones</td>\n      <td>192135</td>\n      <td>[Cooperative Game:2023, Deck, Bag, and Pool Bu...</td>\n      <td>[Adventure:1022, Dice:1017, Fantasy:1010]</td>\n      <td>3.8586</td>\n      <td>3.0</td>\n      <td>3.0</td>\n      <td>4.0</td>\n      <td>1.0</td>\n    </tr>\n    <tr>\n      <th>15256</th>\n      <td>CATAN 3D Collector's Edition</td>\n      <td>17419</td>\n      <td>[Dice Rolling:2072, Hand Management:2040, Memo...</td>\n      <td>[Negotiation:1026]</td>\n      <td>2.6583</td>\n      <td>4.0</td>\n      <td>3.0</td>\n      <td>4.0</td>\n      <td>3.0</td>\n    </tr>\n    <tr>\n      <th>62819</th>\n      <td>Pandemic Legacy: Season 1</td>\n      <td>161936</td>\n      <td>[Action Points:2001, Cooperative Game:2023, Ha...</td>\n      <td>[Environmental:1084, Medical:2145]</td>\n      <td>2.8336</td>\n      <td>4.0</td>\n      <td>4.0</td>\n      <td>4.0</td>\n      <td>2.0</td>\n    </tr>\n    <tr>\n      <th>37730</th>\n      <td>Cards Against Humanity</td>\n      <td>50381</td>\n      <td>[Hand Management:2040, Player Judge:2865, Simu...</td>\n      <td>[Card Game:1002, Humor:1079, Mature / Adult:11...</td>\n      <td>1.1945</td>\n      <td>8.0</td>\n      <td>6.0</td>\n      <td>10.0</td>\n      <td>4.0</td>\n    </tr>\n    <tr>\n      <th>1864</th>\n      <td>Bridge</td>\n      <td>2181</td>\n      <td>[Auction/Bidding:2012, Hand Management:2040, P...</td>\n      <td>[Card Game:1002]</td>\n      <td>3.8562</td>\n      <td>4.0</td>\n      <td>4.0</td>\n      <td>4.0</td>\n      <td>4.0</td>\n    </tr>\n    <tr>\n      <th>64102</th>\n      <td>Nemesis</td>\n      <td>167355</td>\n      <td>[Campaign / Battle Card Driven:2018, Cooperati...</td>\n      <td>[Adventure:1022, Horror:1024, Miniatures:1047,...</td>\n      <td>3.3735</td>\n      <td>4.0</td>\n      <td>4.0</td>\n      <td>5.0</td>\n      <td>1.0</td>\n    </tr>\n    <tr>\n      <th>3974</th>\n      <td>Pinochle</td>\n      <td>4583</td>\n      <td>[Auction/Bidding:2012, Melding and Splaying:29...</td>\n      <td>[Card Game:1002]</td>\n      <td>2.3023</td>\n      <td>4.0</td>\n      <td>4.0</td>\n      <td>4.0</td>\n      <td>3.0</td>\n    </tr>\n    <tr>\n      <th>57206</th>\n      <td>Carcassonne Big Box 3</td>\n      <td>141007</td>\n      <td>[Area Majority / Influence:2080, Tile Placemen...</td>\n      <td>[City Building:1029, Medieval:1035]</td>\n      <td>2.0909</td>\n      <td>6.0</td>\n      <td>2.0</td>\n      <td>6.0</td>\n      <td>2.0</td>\n    </tr>\n    <tr>\n      <th>62356</th>\n      <td>Ticket to Ride: 10th Anniversary</td>\n      <td>160069</td>\n      <td>[Card Drafting:2041, Connections:2883, End Gam...</td>\n      <td>[Trains:1034, Travel:1097]</td>\n      <td>1.9028</td>\n      <td>5.0</td>\n      <td>4.0</td>\n      <td>5.0</td>\n      <td>2.0</td>\n    </tr>\n    <tr>\n      <th>65360</th>\n      <td>Exploding Kittens: NSFW Deck</td>\n      <td>172242</td>\n      <td>[Hand Management:2040, Player Elimination:2685...</td>\n      <td>[Animals:1089, Card Game:1002, Comic Book / St...</td>\n      <td>1.0798</td>\n      <td>5.0</td>\n      <td>4.0</td>\n      <td>5.0</td>\n      <td>3.0</td>\n    </tr>\n    <tr>\n      <th>60327</th>\n      <td>Telestrations: 12 Player Party Pack</td>\n      <td>153016</td>\n      <td>[Line Drawing:2039, Paper-and-Pencil:2055]</td>\n      <td>[Party Game:1030]</td>\n      <td>1.0732</td>\n      <td>12.0</td>\n      <td>12.0</td>\n      <td>12.0</td>\n      <td>6.0</td>\n    </tr>\n    <tr>\n      <th>2530</th>\n      <td>Trivial Pursuit: Genus Edition</td>\n      <td>2952</td>\n      <td>[Roll / Spin and Move:2035, Set Collection:2004]</td>\n      <td>[Party Game:1030, Trivia:1027]</td>\n      <td>1.6449</td>\n      <td>4.0</td>\n      <td>4.0</td>\n      <td>8.0</td>\n      <td>2.0</td>\n    </tr>\n    <tr>\n      <th>610</th>\n      <td>HeroQuest</td>\n      <td>699</td>\n      <td>[Dice Rolling:2072, Die Icon Resolution:2856, ...</td>\n      <td>[Adventure:1022, Exploration:1020, Fantasy:101...</td>\n      <td>2.1593</td>\n      <td>5.0</td>\n      <td>5.0</td>\n      <td>5.0</td>\n      <td>2.0</td>\n    </tr>\n    <tr>\n      <th>24030</th>\n      <td>Talisman: Revised 4th Edition</td>\n      <td>27627</td>\n      <td>[Dice Rolling:2072, Role Playing:2028, Roll / ...</td>\n      <td>[Adventure:1022, Exploration:1020, Fantasy:101...</td>\n      <td>2.1883</td>\n      <td>4.0</td>\n      <td>4.0</td>\n      <td>6.0</td>\n      <td>2.0</td>\n    </tr>\n    <tr>\n      <th>76383</th>\n      <td>Human Punishment: Social Deduction 2.0</td>\n      <td>225167</td>\n      <td>[Hidden Roles:2891, Take That:2686, Team-Based...</td>\n      <td>[Bluffing:1023, Card Game:1002, Deduction:1039...</td>\n      <td>2.5750</td>\n      <td>7.0</td>\n      <td>5.0</td>\n      <td>9.0</td>\n      <td>4.0</td>\n    </tr>\n    <tr>\n      <th>1634</th>\n      <td>Munchkin</td>\n      <td>1927</td>\n      <td>[Hand Management:2040, Take That:2686, Variabl...</td>\n      <td>[Card Game:1002, Fantasy:1010, Fighting:1046, ...</td>\n      <td>1.8026</td>\n      <td>4.0</td>\n      <td>4.0</td>\n      <td>6.0</td>\n      <td>3.0</td>\n    </tr>\n    <tr>\n      <th>69250</th>\n      <td>Mythic Battles: Pantheon</td>\n      <td>186751</td>\n      <td>[Area Movement:2046, Campaign / Battle Card Dr...</td>\n      <td>[Ancient:1050, Card Game:1002, Miniatures:1047...</td>\n      <td>3.0270</td>\n      <td>2.0</td>\n      <td>2.0</td>\n      <td>4.0</td>\n      <td>2.0</td>\n    </tr>\n    <tr>\n      <th>69737</th>\n      <td>Secret Hitler</td>\n      <td>188834</td>\n      <td>[Hidden Roles:2891, Player Elimination:2685, T...</td>\n      <td>[Bluffing:1023, Card Game:1002, Deduction:1039...</td>\n      <td>1.6762</td>\n      <td>10.0</td>\n      <td>8.0</td>\n      <td>10.0</td>\n      <td>6.0</td>\n    </tr>\n    <tr>\n      <th>65815</th>\n      <td>Telestrations After Dark</td>\n      <td>173761</td>\n      <td>[Line Drawing:2039, Paper-and-Pencil:2055]</td>\n      <td>[Humor:1079, Mature / Adult:1118, Party Game:1...</td>\n      <td>1.0000</td>\n      <td>8.0</td>\n      <td>4.0</td>\n      <td>8.0</td>\n      <td>4.0</td>\n    </tr>\n    <tr>\n      <th>78658</th>\n      <td>Too Many Bones: Undertow</td>\n      <td>235802</td>\n      <td>[Cooperative Game:2023, Deck, Bag, and Pool Bu...</td>\n      <td>[Adventure:1022, Dice:1017, Fantasy:1010, Figh...</td>\n      <td>4.0120</td>\n      <td>2.0</td>\n      <td>2.0</td>\n      <td>3.0</td>\n      <td>1.0</td>\n    </tr>\n  </tbody>\n</table>\n</div>"
     },
     "execution_count": 15,
     "metadata": {},
     "output_type": "execute_result"
    }
   ],
   "source": [
    "# Family: Catan, Monopoly, UNO, Ticket to Ride\n",
    "analyze(\"USER_1\")"
   ]
  },
  {
   "cell_type": "code",
   "execution_count": 16,
   "id": "sonic-establishment",
   "metadata": {},
   "outputs": [
    {
     "name": "stdout",
     "output_type": "stream",
     "text": [
      "Metric value: [0.26714286 1.67920094 0.34285714 0.21428571 2.50348665]\n"
     ]
    },
    {
     "data": {
      "text/plain": "                                                    name  bgg_id  \\\n62819                          Pandemic Legacy: Season 1  161936   \n78125                  Twilight Imperium: Fourth Edition  233078   \n39321                War of the Ring Collector's Edition   60153   \n10825                                  Twilight Struggle   12333   \n67696                                  The 7th Continent  180263   \n69475                               Star Wars: Rebellion  187645   \n95463                          Pandemic Legacy: Season 0  314040   \n84570                  Tainted Grail: The Fall of Avalon  264220   \n81648                                            Barrage  251247   \n66024                                         Gloomhaven  174430   \n87376                            Anachrony: Infinity Box  278292   \n15236                                       Here I Stand   17392   \n82728                                      Sleeping Gods  255984   \n90208                       Gloomhaven: Jaws of the Lion  291457   \n79994            Here I Stand: 500th Anniversary Edition  242722   \n73524                                       Quodd Heroes  207991   \n74592                          City of the Big Shoulders  214880   \n82638                    Trickerion: Collector's Edition  255668   \n2157   Sherlock Holmes Consulting Detective: The Tham...    2511   \n61355          Viticulture: Complete Collector's Edition  156455   \n\n                                                mechanic  \\\n62819  [Action Points:2001, Cooperative Game:2023, Ha...   \n78125  [Action Drafting:2838, Area Majority / Influen...   \n39321  [Area Majority / Influence:2080, Area Movement...   \n10825  [Action/Event:2840, Advantage Token:2847, Area...   \n67696  [Cooperative Game:2023, Grid Movement:2676, Ha...   \n69475  [Area Majority / Influence:2080, Area Movement...   \n95463  [Action Points:2001, Cooperative Game:2023, Ha...   \n84570  [Area Movement:2046, Campaign / Battle Card Dr...   \n81648  [Action Drafting:2838, Contracts:2912, End Gam...   \n66024  [Action Queue:2689, Action Retrieval:2839, Cam...   \n87376  [Action Points:2001, Card Drafting:2041, Dice ...   \n15236  [Campaign / Battle Card Driven:2018, Dice Roll...   \n82728  [Cooperative Game:2023, Events:2850, Hand Mana...   \n90208  [Action Queue:2689, Action Retrieval:2839, Cam...   \n79994  [Campaign / Battle Card Driven:2018, Dice Roll...   \n73524  [Action Queue:2689, Cooperative Game:2023, Gri...   \n74592  [Commodity Speculation:2013, Ownership:2911, S...   \n82638  [Action Points:2001, Simultaneous Action Selec...   \n2157   [Cooperative Game:2023, Narrative Choice / Par...   \n61355      [Hand Management:2040, Worker Placement:2082]   \n\n                                                category  complexity  \\\n62819                 [Environmental:1084, Medical:2145]      2.8336   \n78125  [Civilization:1015, Economic:1021, Exploration...      4.2416   \n39321  [Adventure:1022, Dice:1017, Fantasy:1010, Mini...      3.9915   \n10825  [Modern Warfare:1069, Political:1001, Wargame:...      3.5890   \n67696  [Adventure:1022, Card Game:1002, Exploration:1...      2.8821   \n69475  [Civil War:1102, Fighting:1046, Miniatures:104...      3.7252   \n95463                         [Spies/Secret Agents:1081]      3.0147   \n84570  [Adventure:1022, Exploration:1020, Fantasy:101...      3.2897   \n81648  [Economic:1021, Environmental:1084, Industry /...      4.0422   \n66024  [Adventure:1022, Exploration:1020, Fantasy:101...      3.8695   \n87376  [Economic:1021, Miniatures:1047, Science Ficti...      4.0000   \n15236  [Negotiation:1026, Pike and Shot:2725, Politic...      4.1710   \n82728  [Adventure:1022, Exploration:1020, Nautical:1008]      3.1102   \n90208  [Adventure:1022, Exploration:1020, Fantasy:101...      3.5705   \n79994  [Negotiation:1026, Political:1001, Religious:1...      4.4324   \n73524  [Adventure:1022, Fantasy:1010, Miniatures:1047...      3.2000   \n74592  [Economic:1021, Educational:1094, Industry / M...      4.0584   \n82638                                                NaN      4.5513   \n2157   [Deduction:1039, Murder/Mystery:1040, Novel-ba...      2.6803   \n61355                      [Economic:1021, Farming:1013]      3.3200   \n\n       max_players_best  min_players_best  max_players_rec  min_players_rec  \n62819               4.0               4.0              4.0              2.0  \n78125               6.0               6.0              6.0              3.0  \n39321               2.0               2.0              4.0              2.0  \n10825               2.0               2.0              2.0              2.0  \n67696               2.0               1.0              3.0              1.0  \n69475               2.0               2.0              2.0              2.0  \n95463               4.0               2.0              4.0              2.0  \n84570               2.0               1.0              3.0              1.0  \n81648               4.0               4.0              4.0              2.0  \n66024               3.0               3.0              4.0              1.0  \n87376               4.0               1.0              4.0              1.0  \n15236               6.0               6.0              6.0              3.0  \n82728               2.0               2.0              3.0              1.0  \n90208               4.0               1.0              4.0              1.0  \n79994               6.0               6.0              6.0              2.0  \n73524               4.0               1.0              5.0              1.0  \n74592               4.0               4.0              4.0              2.0  \n82638               4.0               3.0              4.0              1.0  \n2157                2.0               2.0              4.0              1.0  \n61355               6.0               1.0              6.0              1.0  ",
      "text/html": "<div>\n<style scoped>\n    .dataframe tbody tr th:only-of-type {\n        vertical-align: middle;\n    }\n\n    .dataframe tbody tr th {\n        vertical-align: top;\n    }\n\n    .dataframe thead th {\n        text-align: right;\n    }\n</style>\n<table border=\"1\" class=\"dataframe\">\n  <thead>\n    <tr style=\"text-align: right;\">\n      <th></th>\n      <th>name</th>\n      <th>bgg_id</th>\n      <th>mechanic</th>\n      <th>category</th>\n      <th>complexity</th>\n      <th>max_players_best</th>\n      <th>min_players_best</th>\n      <th>max_players_rec</th>\n      <th>min_players_rec</th>\n    </tr>\n  </thead>\n  <tbody>\n    <tr>\n      <th>62819</th>\n      <td>Pandemic Legacy: Season 1</td>\n      <td>161936</td>\n      <td>[Action Points:2001, Cooperative Game:2023, Ha...</td>\n      <td>[Environmental:1084, Medical:2145]</td>\n      <td>2.8336</td>\n      <td>4.0</td>\n      <td>4.0</td>\n      <td>4.0</td>\n      <td>2.0</td>\n    </tr>\n    <tr>\n      <th>78125</th>\n      <td>Twilight Imperium: Fourth Edition</td>\n      <td>233078</td>\n      <td>[Action Drafting:2838, Area Majority / Influen...</td>\n      <td>[Civilization:1015, Economic:1021, Exploration...</td>\n      <td>4.2416</td>\n      <td>6.0</td>\n      <td>6.0</td>\n      <td>6.0</td>\n      <td>3.0</td>\n    </tr>\n    <tr>\n      <th>39321</th>\n      <td>War of the Ring Collector's Edition</td>\n      <td>60153</td>\n      <td>[Area Majority / Influence:2080, Area Movement...</td>\n      <td>[Adventure:1022, Dice:1017, Fantasy:1010, Mini...</td>\n      <td>3.9915</td>\n      <td>2.0</td>\n      <td>2.0</td>\n      <td>4.0</td>\n      <td>2.0</td>\n    </tr>\n    <tr>\n      <th>10825</th>\n      <td>Twilight Struggle</td>\n      <td>12333</td>\n      <td>[Action/Event:2840, Advantage Token:2847, Area...</td>\n      <td>[Modern Warfare:1069, Political:1001, Wargame:...</td>\n      <td>3.5890</td>\n      <td>2.0</td>\n      <td>2.0</td>\n      <td>2.0</td>\n      <td>2.0</td>\n    </tr>\n    <tr>\n      <th>67696</th>\n      <td>The 7th Continent</td>\n      <td>180263</td>\n      <td>[Cooperative Game:2023, Grid Movement:2676, Ha...</td>\n      <td>[Adventure:1022, Card Game:1002, Exploration:1...</td>\n      <td>2.8821</td>\n      <td>2.0</td>\n      <td>1.0</td>\n      <td>3.0</td>\n      <td>1.0</td>\n    </tr>\n    <tr>\n      <th>69475</th>\n      <td>Star Wars: Rebellion</td>\n      <td>187645</td>\n      <td>[Area Majority / Influence:2080, Area Movement...</td>\n      <td>[Civil War:1102, Fighting:1046, Miniatures:104...</td>\n      <td>3.7252</td>\n      <td>2.0</td>\n      <td>2.0</td>\n      <td>2.0</td>\n      <td>2.0</td>\n    </tr>\n    <tr>\n      <th>95463</th>\n      <td>Pandemic Legacy: Season 0</td>\n      <td>314040</td>\n      <td>[Action Points:2001, Cooperative Game:2023, Ha...</td>\n      <td>[Spies/Secret Agents:1081]</td>\n      <td>3.0147</td>\n      <td>4.0</td>\n      <td>2.0</td>\n      <td>4.0</td>\n      <td>2.0</td>\n    </tr>\n    <tr>\n      <th>84570</th>\n      <td>Tainted Grail: The Fall of Avalon</td>\n      <td>264220</td>\n      <td>[Area Movement:2046, Campaign / Battle Card Dr...</td>\n      <td>[Adventure:1022, Exploration:1020, Fantasy:101...</td>\n      <td>3.2897</td>\n      <td>2.0</td>\n      <td>1.0</td>\n      <td>3.0</td>\n      <td>1.0</td>\n    </tr>\n    <tr>\n      <th>81648</th>\n      <td>Barrage</td>\n      <td>251247</td>\n      <td>[Action Drafting:2838, Contracts:2912, End Gam...</td>\n      <td>[Economic:1021, Environmental:1084, Industry /...</td>\n      <td>4.0422</td>\n      <td>4.0</td>\n      <td>4.0</td>\n      <td>4.0</td>\n      <td>2.0</td>\n    </tr>\n    <tr>\n      <th>66024</th>\n      <td>Gloomhaven</td>\n      <td>174430</td>\n      <td>[Action Queue:2689, Action Retrieval:2839, Cam...</td>\n      <td>[Adventure:1022, Exploration:1020, Fantasy:101...</td>\n      <td>3.8695</td>\n      <td>3.0</td>\n      <td>3.0</td>\n      <td>4.0</td>\n      <td>1.0</td>\n    </tr>\n    <tr>\n      <th>87376</th>\n      <td>Anachrony: Infinity Box</td>\n      <td>278292</td>\n      <td>[Action Points:2001, Card Drafting:2041, Dice ...</td>\n      <td>[Economic:1021, Miniatures:1047, Science Ficti...</td>\n      <td>4.0000</td>\n      <td>4.0</td>\n      <td>1.0</td>\n      <td>4.0</td>\n      <td>1.0</td>\n    </tr>\n    <tr>\n      <th>15236</th>\n      <td>Here I Stand</td>\n      <td>17392</td>\n      <td>[Campaign / Battle Card Driven:2018, Dice Roll...</td>\n      <td>[Negotiation:1026, Pike and Shot:2725, Politic...</td>\n      <td>4.1710</td>\n      <td>6.0</td>\n      <td>6.0</td>\n      <td>6.0</td>\n      <td>3.0</td>\n    </tr>\n    <tr>\n      <th>82728</th>\n      <td>Sleeping Gods</td>\n      <td>255984</td>\n      <td>[Cooperative Game:2023, Events:2850, Hand Mana...</td>\n      <td>[Adventure:1022, Exploration:1020, Nautical:1008]</td>\n      <td>3.1102</td>\n      <td>2.0</td>\n      <td>2.0</td>\n      <td>3.0</td>\n      <td>1.0</td>\n    </tr>\n    <tr>\n      <th>90208</th>\n      <td>Gloomhaven: Jaws of the Lion</td>\n      <td>291457</td>\n      <td>[Action Queue:2689, Action Retrieval:2839, Cam...</td>\n      <td>[Adventure:1022, Exploration:1020, Fantasy:101...</td>\n      <td>3.5705</td>\n      <td>4.0</td>\n      <td>1.0</td>\n      <td>4.0</td>\n      <td>1.0</td>\n    </tr>\n    <tr>\n      <th>79994</th>\n      <td>Here I Stand: 500th Anniversary Edition</td>\n      <td>242722</td>\n      <td>[Campaign / Battle Card Driven:2018, Dice Roll...</td>\n      <td>[Negotiation:1026, Political:1001, Religious:1...</td>\n      <td>4.4324</td>\n      <td>6.0</td>\n      <td>6.0</td>\n      <td>6.0</td>\n      <td>2.0</td>\n    </tr>\n    <tr>\n      <th>73524</th>\n      <td>Quodd Heroes</td>\n      <td>207991</td>\n      <td>[Action Queue:2689, Cooperative Game:2023, Gri...</td>\n      <td>[Adventure:1022, Fantasy:1010, Miniatures:1047...</td>\n      <td>3.2000</td>\n      <td>4.0</td>\n      <td>1.0</td>\n      <td>5.0</td>\n      <td>1.0</td>\n    </tr>\n    <tr>\n      <th>74592</th>\n      <td>City of the Big Shoulders</td>\n      <td>214880</td>\n      <td>[Commodity Speculation:2013, Ownership:2911, S...</td>\n      <td>[Economic:1021, Educational:1094, Industry / M...</td>\n      <td>4.0584</td>\n      <td>4.0</td>\n      <td>4.0</td>\n      <td>4.0</td>\n      <td>2.0</td>\n    </tr>\n    <tr>\n      <th>82638</th>\n      <td>Trickerion: Collector's Edition</td>\n      <td>255668</td>\n      <td>[Action Points:2001, Simultaneous Action Selec...</td>\n      <td>NaN</td>\n      <td>4.5513</td>\n      <td>4.0</td>\n      <td>3.0</td>\n      <td>4.0</td>\n      <td>1.0</td>\n    </tr>\n    <tr>\n      <th>2157</th>\n      <td>Sherlock Holmes Consulting Detective: The Tham...</td>\n      <td>2511</td>\n      <td>[Cooperative Game:2023, Narrative Choice / Par...</td>\n      <td>[Deduction:1039, Murder/Mystery:1040, Novel-ba...</td>\n      <td>2.6803</td>\n      <td>2.0</td>\n      <td>2.0</td>\n      <td>4.0</td>\n      <td>1.0</td>\n    </tr>\n    <tr>\n      <th>61355</th>\n      <td>Viticulture: Complete Collector's Edition</td>\n      <td>156455</td>\n      <td>[Hand Management:2040, Worker Placement:2082]</td>\n      <td>[Economic:1021, Farming:1013]</td>\n      <td>3.3200</td>\n      <td>6.0</td>\n      <td>1.0</td>\n      <td>6.0</td>\n      <td>1.0</td>\n    </tr>\n  </tbody>\n</table>\n</div>"
     },
     "execution_count": 16,
     "metadata": {},
     "output_type": "execute_result"
    }
   ],
   "source": [
    "# Negative interactions: Game of Thrones, War of the Ring, Twilight Imperium (3rd edition),\n",
    "# Battlestar Galactica, Scythe\n",
    "analyze(\"USER_2\")"
   ]
  },
  {
   "cell_type": "code",
   "execution_count": 17,
   "id": "serious-giant",
   "metadata": {},
   "outputs": [
    {
     "name": "stdout",
     "output_type": "stream",
     "text": [
      "Metric value: [0.025      0.98272182 1.05       0.1        2.15772182]\n"
     ]
    },
    {
     "data": {
      "text/plain": "                                            name  bgg_id  \\\n80878        Eclipse: Second Dawn for the Galaxy  246900   \n87376                    Anachrony: Infinity Box  278292   \n88623                                  Kanban EV  284378   \n82728                              Sleeping Gods  255984   \n84570          Tainted Grail: The Fall of Avalon  264220   \n64700                                     Scythe  169786   \n82638            Trickerion: Collector's Edition  255668   \n90208               Gloomhaven: Jaws of the Lion  291457   \n65258                    Orléans: Deluxe Edition  171905   \n64579       Middara: Unintentional Malum – Act 1  169427   \n51423                              Terra Mystica  120677   \n62819                  Pandemic Legacy: Season 1  161936   \n42845                                    Eclipse   72125   \n76251                          Brass: Birmingham  224517   \n61355  Viticulture: Complete Collector's Edition  156455   \n64197                          Terraforming Mars  167791   \n75582                               Gaia Project  220308   \n62701                                     Lisboa  161533   \n62237                             Fields of Arle  159675   \n86886                                  Maracaibo  276025   \n\n                                                mechanic  \\\n80878  [Alliances:2916, Area Majority / Influence:208...   \n87376  [Action Points:2001, Card Drafting:2041, Dice ...   \n88623  [Action Points:2001, Hand Management:2040, Var...   \n82728  [Cooperative Game:2023, Events:2850, Hand Mana...   \n84570  [Area Movement:2046, Campaign / Battle Card Dr...   \n64700  [Action Drafting:2838, Card Play Conflict Reso...   \n82638  [Action Points:2001, Simultaneous Action Selec...   \n90208  [Action Queue:2689, Action Retrieval:2839, Cam...   \n65258  [Card Drafting:2041, Deck, Bag, and Pool Build...   \n64579  [Action Points:2001, Cooperative Game:2023, Di...   \n51423  [End Game Bonuses:2875, Hexagon Grid:2026, Inc...   \n62819  [Action Points:2001, Cooperative Game:2023, Ha...   \n42845  [Area Majority / Influence:2080, Dice Rolling:...   \n76251  [Hand Management:2040, Income:2902, Loans:2904...   \n61355      [Hand Management:2040, Worker Placement:2082]   \n64197  [Drafting:2984, End Game Bonuses:2875, Hand Ma...   \n75582  [End Game Bonuses:2875, Hexagon Grid:2026, Inc...   \n62701  [Area Majority / Influence:2080, Card Drafting...   \n62237  [Automatic Resource Growth:2903, Highest-Lowes...   \n86886  [Contracts:2912, End Game Bonuses:2875, Events...   \n\n                                                category  complexity  \\\n80878  [Civilization:1015, Science Fiction:1016, Spac...      3.5341   \n87376  [Economic:1021, Miniatures:1047, Science Ficti...      4.0000   \n88623     [Economic:1021, Industry / Manufacturing:1088]      4.3391   \n82728  [Adventure:1022, Exploration:1020, Nautical:1008]      3.1102   \n84570  [Adventure:1022, Exploration:1020, Fantasy:101...      3.2897   \n64700  [Economic:1021, Fighting:1046, Miniatures:1047...      3.4225   \n82638                                                NaN      4.5513   \n90208  [Adventure:1022, Exploration:1020, Fantasy:101...      3.5705   \n65258       [Medieval:1035, Religious:1115, Travel:1097]      3.0588   \n64579  [Adventure:1022, Exploration:1020, Fantasy:101...      3.9505   \n51423  [Civilization:1015, Economic:1021, Fantasy:101...      3.9633   \n62819                 [Environmental:1084, Medical:2145]      2.8336   \n42845  [Civilization:1015, Fighting:1046, Science Fic...      3.7002   \n76251  [Economic:1021, Industry / Manufacturing:1088,...      3.9035   \n61355                      [Economic:1021, Farming:1013]      3.3200   \n64197  [Economic:1021, Environmental:1084, Industry /...      3.2428   \n75582  [Economic:1021, Science Fiction:1016, Space Ex...      4.3570   \n62701  [City Building:1029, Economic:1021, Industry /...      4.5667   \n62237  [Economic:1021, Farming:1013, Industry / Manuf...      3.8750   \n86886    [Economic:1021, Exploration:1020, Pirates:1090]      3.8930   \n\n       max_players_best  min_players_best  max_players_rec  min_players_rec  \n80878               6.0               4.0              6.0              2.0  \n87376               4.0               1.0              4.0              1.0  \n88623               3.0               3.0              4.0              1.0  \n82728               2.0               2.0              3.0              1.0  \n84570               2.0               1.0              3.0              1.0  \n64700               4.0               4.0              5.0              1.0  \n82638               4.0               3.0              4.0              1.0  \n90208               4.0               1.0              4.0              1.0  \n65258               5.0               2.0              5.0              2.0  \n64579               4.0               4.0              4.0              1.0  \n51423               4.0               4.0              5.0              2.0  \n62819               4.0               4.0              4.0              2.0  \n42845               6.0               4.0              6.0              2.0  \n76251               4.0               3.0              4.0              2.0  \n61355               6.0               1.0              6.0              1.0  \n64197               3.0               3.0              4.0              1.0  \n75582               4.0               3.0              4.0              1.0  \n62701               3.0               3.0              4.0              1.0  \n62237               2.0               2.0              2.0              1.0  \n86886               3.0               3.0              4.0              1.0  ",
      "text/html": "<div>\n<style scoped>\n    .dataframe tbody tr th:only-of-type {\n        vertical-align: middle;\n    }\n\n    .dataframe tbody tr th {\n        vertical-align: top;\n    }\n\n    .dataframe thead th {\n        text-align: right;\n    }\n</style>\n<table border=\"1\" class=\"dataframe\">\n  <thead>\n    <tr style=\"text-align: right;\">\n      <th></th>\n      <th>name</th>\n      <th>bgg_id</th>\n      <th>mechanic</th>\n      <th>category</th>\n      <th>complexity</th>\n      <th>max_players_best</th>\n      <th>min_players_best</th>\n      <th>max_players_rec</th>\n      <th>min_players_rec</th>\n    </tr>\n  </thead>\n  <tbody>\n    <tr>\n      <th>80878</th>\n      <td>Eclipse: Second Dawn for the Galaxy</td>\n      <td>246900</td>\n      <td>[Alliances:2916, Area Majority / Influence:208...</td>\n      <td>[Civilization:1015, Science Fiction:1016, Spac...</td>\n      <td>3.5341</td>\n      <td>6.0</td>\n      <td>4.0</td>\n      <td>6.0</td>\n      <td>2.0</td>\n    </tr>\n    <tr>\n      <th>87376</th>\n      <td>Anachrony: Infinity Box</td>\n      <td>278292</td>\n      <td>[Action Points:2001, Card Drafting:2041, Dice ...</td>\n      <td>[Economic:1021, Miniatures:1047, Science Ficti...</td>\n      <td>4.0000</td>\n      <td>4.0</td>\n      <td>1.0</td>\n      <td>4.0</td>\n      <td>1.0</td>\n    </tr>\n    <tr>\n      <th>88623</th>\n      <td>Kanban EV</td>\n      <td>284378</td>\n      <td>[Action Points:2001, Hand Management:2040, Var...</td>\n      <td>[Economic:1021, Industry / Manufacturing:1088]</td>\n      <td>4.3391</td>\n      <td>3.0</td>\n      <td>3.0</td>\n      <td>4.0</td>\n      <td>1.0</td>\n    </tr>\n    <tr>\n      <th>82728</th>\n      <td>Sleeping Gods</td>\n      <td>255984</td>\n      <td>[Cooperative Game:2023, Events:2850, Hand Mana...</td>\n      <td>[Adventure:1022, Exploration:1020, Nautical:1008]</td>\n      <td>3.1102</td>\n      <td>2.0</td>\n      <td>2.0</td>\n      <td>3.0</td>\n      <td>1.0</td>\n    </tr>\n    <tr>\n      <th>84570</th>\n      <td>Tainted Grail: The Fall of Avalon</td>\n      <td>264220</td>\n      <td>[Area Movement:2046, Campaign / Battle Card Dr...</td>\n      <td>[Adventure:1022, Exploration:1020, Fantasy:101...</td>\n      <td>3.2897</td>\n      <td>2.0</td>\n      <td>1.0</td>\n      <td>3.0</td>\n      <td>1.0</td>\n    </tr>\n    <tr>\n      <th>64700</th>\n      <td>Scythe</td>\n      <td>169786</td>\n      <td>[Action Drafting:2838, Card Play Conflict Reso...</td>\n      <td>[Economic:1021, Fighting:1046, Miniatures:1047...</td>\n      <td>3.4225</td>\n      <td>4.0</td>\n      <td>4.0</td>\n      <td>5.0</td>\n      <td>1.0</td>\n    </tr>\n    <tr>\n      <th>82638</th>\n      <td>Trickerion: Collector's Edition</td>\n      <td>255668</td>\n      <td>[Action Points:2001, Simultaneous Action Selec...</td>\n      <td>NaN</td>\n      <td>4.5513</td>\n      <td>4.0</td>\n      <td>3.0</td>\n      <td>4.0</td>\n      <td>1.0</td>\n    </tr>\n    <tr>\n      <th>90208</th>\n      <td>Gloomhaven: Jaws of the Lion</td>\n      <td>291457</td>\n      <td>[Action Queue:2689, Action Retrieval:2839, Cam...</td>\n      <td>[Adventure:1022, Exploration:1020, Fantasy:101...</td>\n      <td>3.5705</td>\n      <td>4.0</td>\n      <td>1.0</td>\n      <td>4.0</td>\n      <td>1.0</td>\n    </tr>\n    <tr>\n      <th>65258</th>\n      <td>Orléans: Deluxe Edition</td>\n      <td>171905</td>\n      <td>[Card Drafting:2041, Deck, Bag, and Pool Build...</td>\n      <td>[Medieval:1035, Religious:1115, Travel:1097]</td>\n      <td>3.0588</td>\n      <td>5.0</td>\n      <td>2.0</td>\n      <td>5.0</td>\n      <td>2.0</td>\n    </tr>\n    <tr>\n      <th>64579</th>\n      <td>Middara: Unintentional Malum – Act 1</td>\n      <td>169427</td>\n      <td>[Action Points:2001, Cooperative Game:2023, Di...</td>\n      <td>[Adventure:1022, Exploration:1020, Fantasy:101...</td>\n      <td>3.9505</td>\n      <td>4.0</td>\n      <td>4.0</td>\n      <td>4.0</td>\n      <td>1.0</td>\n    </tr>\n    <tr>\n      <th>51423</th>\n      <td>Terra Mystica</td>\n      <td>120677</td>\n      <td>[End Game Bonuses:2875, Hexagon Grid:2026, Inc...</td>\n      <td>[Civilization:1015, Economic:1021, Fantasy:101...</td>\n      <td>3.9633</td>\n      <td>4.0</td>\n      <td>4.0</td>\n      <td>5.0</td>\n      <td>2.0</td>\n    </tr>\n    <tr>\n      <th>62819</th>\n      <td>Pandemic Legacy: Season 1</td>\n      <td>161936</td>\n      <td>[Action Points:2001, Cooperative Game:2023, Ha...</td>\n      <td>[Environmental:1084, Medical:2145]</td>\n      <td>2.8336</td>\n      <td>4.0</td>\n      <td>4.0</td>\n      <td>4.0</td>\n      <td>2.0</td>\n    </tr>\n    <tr>\n      <th>42845</th>\n      <td>Eclipse</td>\n      <td>72125</td>\n      <td>[Area Majority / Influence:2080, Dice Rolling:...</td>\n      <td>[Civilization:1015, Fighting:1046, Science Fic...</td>\n      <td>3.7002</td>\n      <td>6.0</td>\n      <td>4.0</td>\n      <td>6.0</td>\n      <td>2.0</td>\n    </tr>\n    <tr>\n      <th>76251</th>\n      <td>Brass: Birmingham</td>\n      <td>224517</td>\n      <td>[Hand Management:2040, Income:2902, Loans:2904...</td>\n      <td>[Economic:1021, Industry / Manufacturing:1088,...</td>\n      <td>3.9035</td>\n      <td>4.0</td>\n      <td>3.0</td>\n      <td>4.0</td>\n      <td>2.0</td>\n    </tr>\n    <tr>\n      <th>61355</th>\n      <td>Viticulture: Complete Collector's Edition</td>\n      <td>156455</td>\n      <td>[Hand Management:2040, Worker Placement:2082]</td>\n      <td>[Economic:1021, Farming:1013]</td>\n      <td>3.3200</td>\n      <td>6.0</td>\n      <td>1.0</td>\n      <td>6.0</td>\n      <td>1.0</td>\n    </tr>\n    <tr>\n      <th>64197</th>\n      <td>Terraforming Mars</td>\n      <td>167791</td>\n      <td>[Drafting:2984, End Game Bonuses:2875, Hand Ma...</td>\n      <td>[Economic:1021, Environmental:1084, Industry /...</td>\n      <td>3.2428</td>\n      <td>3.0</td>\n      <td>3.0</td>\n      <td>4.0</td>\n      <td>1.0</td>\n    </tr>\n    <tr>\n      <th>75582</th>\n      <td>Gaia Project</td>\n      <td>220308</td>\n      <td>[End Game Bonuses:2875, Hexagon Grid:2026, Inc...</td>\n      <td>[Economic:1021, Science Fiction:1016, Space Ex...</td>\n      <td>4.3570</td>\n      <td>4.0</td>\n      <td>3.0</td>\n      <td>4.0</td>\n      <td>1.0</td>\n    </tr>\n    <tr>\n      <th>62701</th>\n      <td>Lisboa</td>\n      <td>161533</td>\n      <td>[Area Majority / Influence:2080, Card Drafting...</td>\n      <td>[City Building:1029, Economic:1021, Industry /...</td>\n      <td>4.5667</td>\n      <td>3.0</td>\n      <td>3.0</td>\n      <td>4.0</td>\n      <td>1.0</td>\n    </tr>\n    <tr>\n      <th>62237</th>\n      <td>Fields of Arle</td>\n      <td>159675</td>\n      <td>[Automatic Resource Growth:2903, Highest-Lowes...</td>\n      <td>[Economic:1021, Farming:1013, Industry / Manuf...</td>\n      <td>3.8750</td>\n      <td>2.0</td>\n      <td>2.0</td>\n      <td>2.0</td>\n      <td>1.0</td>\n    </tr>\n    <tr>\n      <th>86886</th>\n      <td>Maracaibo</td>\n      <td>276025</td>\n      <td>[Contracts:2912, End Game Bonuses:2875, Events...</td>\n      <td>[Economic:1021, Exploration:1020, Pirates:1090]</td>\n      <td>3.8930</td>\n      <td>3.0</td>\n      <td>3.0</td>\n      <td>4.0</td>\n      <td>1.0</td>\n    </tr>\n  </tbody>\n</table>\n</div>"
     },
     "execution_count": 17,
     "metadata": {},
     "output_type": "execute_result"
    }
   ],
   "source": [
    "# Worker placement: Viticulture, Agricola, Feast for Odin, West Kingdom\n",
    "analyze(\"USER_3\")"
   ]
  },
  {
   "cell_type": "code",
   "execution_count": 18,
   "id": "posted-charlotte",
   "metadata": {},
   "outputs": [
    {
     "name": "stdout",
     "output_type": "stream",
     "text": [
      "Metric value: [0.16670976 1.834914   0.64285714 0.18461538 2.82909628]\n"
     ]
    },
    {
     "data": {
      "text/plain": "                                            name  bgg_id  \\\n53662                                Viticulture  128621   \n64700                                     Scythe  169786   \n38362                     Kingdom Death: Monster   55690   \n62819                  Pandemic Legacy: Season 1  161936   \n75726                  Pandemic Legacy: Season 2  221107   \n90208               Gloomhaven: Jaws of the Lion  291457   \n78125          Twilight Imperium: Fourth Edition  233078   \n59814      Shadows of Brimstone: Swamps of Death  150997   \n82062                     Cthulhu: Death May Die  253344   \n96630              Everdell: Collector's Edition  319422   \n15256               CATAN 3D Collector's Edition   17419   \n80878        Eclipse: Second Dawn for the Galaxy  246900   \n64579       Middara: Unintentional Malum – Act 1  169427   \n85104   Clank! Legacy: Acquisitions Incorporated  266507   \n95909                 7 Wonders (Second Edition)  316377   \n91676                              Marvel United  298047   \n95463                  Pandemic Legacy: Season 0  314040   \n76383     Human Punishment: Social Deduction 2.0  225167   \n61355  Viticulture: Complete Collector's Edition  156455   \n87376                    Anachrony: Infinity Box  278292   \n\n                                                mechanic  \\\n53662  [Hand Management:2040, Turn Order: Progressive...   \n64700  [Action Drafting:2838, Card Play Conflict Reso...   \n38362  [Cooperative Game:2023, Dice Rolling:2072, Gri...   \n62819  [Action Points:2001, Cooperative Game:2023, Ha...   \n75726  [Cooperative Game:2023, Hand Management:2040, ...   \n90208  [Action Queue:2689, Action Retrieval:2839, Cam...   \n78125  [Action Drafting:2838, Area Majority / Influen...   \n59814  [Cooperative Game:2023, Dice Rolling:2072, Gri...   \n82062  [Action Points:2001, Cooperative Game:2023, Di...   \n96630  [Card Drafting:2041, End Game Bonuses:2875, Ha...   \n15256  [Dice Rolling:2072, Hand Management:2040, Memo...   \n80878  [Alliances:2916, Area Majority / Influence:208...   \n64579  [Action Points:2001, Cooperative Game:2023, Di...   \n85104  [Card Drafting:2041, Deck, Bag, and Pool Build...   \n95909  [Card Drafting:2041, Drafting:2984, Hand Manag...   \n91676  [Cooperative Game:2023, Hand Management:2040, ...   \n95463  [Action Points:2001, Cooperative Game:2023, Ha...   \n76383  [Hidden Roles:2891, Take That:2686, Team-Based...   \n61355      [Hand Management:2040, Worker Placement:2082]   \n87376  [Action Points:2001, Card Drafting:2041, Dice ...   \n\n                                                category  complexity  \\\n53662                      [Economic:1021, Farming:1013]      2.9321   \n64700  [Economic:1021, Fighting:1046, Miniatures:1047...      3.4225   \n38362  [Adventure:1022, Fantasy:1010, Horror:1024, Ma...      4.2590   \n62819                 [Environmental:1084, Medical:2145]      2.8336   \n75726  [Environmental:1084, Exploration:1020, Medical...      3.2292   \n90208  [Adventure:1022, Exploration:1020, Fantasy:101...      3.5705   \n78125  [Civilization:1015, Economic:1021, Exploration...      4.2416   \n59814  [Adventure:1022, American West:1055, Explorati...      3.3929   \n82062  [Fantasy:1010, Fighting:1046, Horror:1024, Min...      2.3784   \n96630  [Animals:1089, Card Game:1002, City Building:1...      2.8571   \n15256                                 [Negotiation:1026]      2.6583   \n80878  [Civilization:1015, Science Fiction:1016, Spac...      3.5341   \n64579  [Adventure:1022, Exploration:1020, Fantasy:101...      3.9505   \n85104    [Adventure:1022, Fantasy:1010, Miniatures:1047]      2.7105   \n95909  [Ancient:1050, Card Game:1002, City Building:1...      2.1778   \n91676  [Card Game:1002, Comic Book / Strip:1116, Figh...      1.8547   \n95463                         [Spies/Secret Agents:1081]      3.0147   \n76383  [Bluffing:1023, Card Game:1002, Deduction:1039...      2.5750   \n61355                      [Economic:1021, Farming:1013]      3.3200   \n87376  [Economic:1021, Miniatures:1047, Science Ficti...      4.0000   \n\n       max_players_best  min_players_best  max_players_rec  min_players_rec  \n53662               4.0               3.0              5.0              2.0  \n64700               4.0               4.0              5.0              1.0  \n38362               4.0               4.0              4.0              1.0  \n62819               4.0               4.0              4.0              2.0  \n75726               4.0               4.0              4.0              2.0  \n90208               4.0               1.0              4.0              1.0  \n78125               6.0               6.0              6.0              3.0  \n59814               4.0               1.0              4.0              1.0  \n82062               3.0               3.0              4.0              1.0  \n96630               4.0               1.0              4.0              1.0  \n15256               4.0               3.0              4.0              3.0  \n80878               6.0               4.0              6.0              2.0  \n64579               4.0               4.0              4.0              1.0  \n85104               4.0               4.0              4.0              2.0  \n95909               5.0               4.0              7.0              3.0  \n91676               3.0               3.0              4.0              1.0  \n95463               4.0               2.0              4.0              2.0  \n76383               7.0               5.0              9.0              4.0  \n61355               6.0               1.0              6.0              1.0  \n87376               4.0               1.0              4.0              1.0  ",
      "text/html": "<div>\n<style scoped>\n    .dataframe tbody tr th:only-of-type {\n        vertical-align: middle;\n    }\n\n    .dataframe tbody tr th {\n        vertical-align: top;\n    }\n\n    .dataframe thead th {\n        text-align: right;\n    }\n</style>\n<table border=\"1\" class=\"dataframe\">\n  <thead>\n    <tr style=\"text-align: right;\">\n      <th></th>\n      <th>name</th>\n      <th>bgg_id</th>\n      <th>mechanic</th>\n      <th>category</th>\n      <th>complexity</th>\n      <th>max_players_best</th>\n      <th>min_players_best</th>\n      <th>max_players_rec</th>\n      <th>min_players_rec</th>\n    </tr>\n  </thead>\n  <tbody>\n    <tr>\n      <th>53662</th>\n      <td>Viticulture</td>\n      <td>128621</td>\n      <td>[Hand Management:2040, Turn Order: Progressive...</td>\n      <td>[Economic:1021, Farming:1013]</td>\n      <td>2.9321</td>\n      <td>4.0</td>\n      <td>3.0</td>\n      <td>5.0</td>\n      <td>2.0</td>\n    </tr>\n    <tr>\n      <th>64700</th>\n      <td>Scythe</td>\n      <td>169786</td>\n      <td>[Action Drafting:2838, Card Play Conflict Reso...</td>\n      <td>[Economic:1021, Fighting:1046, Miniatures:1047...</td>\n      <td>3.4225</td>\n      <td>4.0</td>\n      <td>4.0</td>\n      <td>5.0</td>\n      <td>1.0</td>\n    </tr>\n    <tr>\n      <th>38362</th>\n      <td>Kingdom Death: Monster</td>\n      <td>55690</td>\n      <td>[Cooperative Game:2023, Dice Rolling:2072, Gri...</td>\n      <td>[Adventure:1022, Fantasy:1010, Horror:1024, Ma...</td>\n      <td>4.2590</td>\n      <td>4.0</td>\n      <td>4.0</td>\n      <td>4.0</td>\n      <td>1.0</td>\n    </tr>\n    <tr>\n      <th>62819</th>\n      <td>Pandemic Legacy: Season 1</td>\n      <td>161936</td>\n      <td>[Action Points:2001, Cooperative Game:2023, Ha...</td>\n      <td>[Environmental:1084, Medical:2145]</td>\n      <td>2.8336</td>\n      <td>4.0</td>\n      <td>4.0</td>\n      <td>4.0</td>\n      <td>2.0</td>\n    </tr>\n    <tr>\n      <th>75726</th>\n      <td>Pandemic Legacy: Season 2</td>\n      <td>221107</td>\n      <td>[Cooperative Game:2023, Hand Management:2040, ...</td>\n      <td>[Environmental:1084, Exploration:1020, Medical...</td>\n      <td>3.2292</td>\n      <td>4.0</td>\n      <td>4.0</td>\n      <td>4.0</td>\n      <td>2.0</td>\n    </tr>\n    <tr>\n      <th>90208</th>\n      <td>Gloomhaven: Jaws of the Lion</td>\n      <td>291457</td>\n      <td>[Action Queue:2689, Action Retrieval:2839, Cam...</td>\n      <td>[Adventure:1022, Exploration:1020, Fantasy:101...</td>\n      <td>3.5705</td>\n      <td>4.0</td>\n      <td>1.0</td>\n      <td>4.0</td>\n      <td>1.0</td>\n    </tr>\n    <tr>\n      <th>78125</th>\n      <td>Twilight Imperium: Fourth Edition</td>\n      <td>233078</td>\n      <td>[Action Drafting:2838, Area Majority / Influen...</td>\n      <td>[Civilization:1015, Economic:1021, Exploration...</td>\n      <td>4.2416</td>\n      <td>6.0</td>\n      <td>6.0</td>\n      <td>6.0</td>\n      <td>3.0</td>\n    </tr>\n    <tr>\n      <th>59814</th>\n      <td>Shadows of Brimstone: Swamps of Death</td>\n      <td>150997</td>\n      <td>[Cooperative Game:2023, Dice Rolling:2072, Gri...</td>\n      <td>[Adventure:1022, American West:1055, Explorati...</td>\n      <td>3.3929</td>\n      <td>4.0</td>\n      <td>1.0</td>\n      <td>4.0</td>\n      <td>1.0</td>\n    </tr>\n    <tr>\n      <th>82062</th>\n      <td>Cthulhu: Death May Die</td>\n      <td>253344</td>\n      <td>[Action Points:2001, Cooperative Game:2023, Di...</td>\n      <td>[Fantasy:1010, Fighting:1046, Horror:1024, Min...</td>\n      <td>2.3784</td>\n      <td>3.0</td>\n      <td>3.0</td>\n      <td>4.0</td>\n      <td>1.0</td>\n    </tr>\n    <tr>\n      <th>96630</th>\n      <td>Everdell: Collector's Edition</td>\n      <td>319422</td>\n      <td>[Card Drafting:2041, End Game Bonuses:2875, Ha...</td>\n      <td>[Animals:1089, Card Game:1002, City Building:1...</td>\n      <td>2.8571</td>\n      <td>4.0</td>\n      <td>1.0</td>\n      <td>4.0</td>\n      <td>1.0</td>\n    </tr>\n    <tr>\n      <th>15256</th>\n      <td>CATAN 3D Collector's Edition</td>\n      <td>17419</td>\n      <td>[Dice Rolling:2072, Hand Management:2040, Memo...</td>\n      <td>[Negotiation:1026]</td>\n      <td>2.6583</td>\n      <td>4.0</td>\n      <td>3.0</td>\n      <td>4.0</td>\n      <td>3.0</td>\n    </tr>\n    <tr>\n      <th>80878</th>\n      <td>Eclipse: Second Dawn for the Galaxy</td>\n      <td>246900</td>\n      <td>[Alliances:2916, Area Majority / Influence:208...</td>\n      <td>[Civilization:1015, Science Fiction:1016, Spac...</td>\n      <td>3.5341</td>\n      <td>6.0</td>\n      <td>4.0</td>\n      <td>6.0</td>\n      <td>2.0</td>\n    </tr>\n    <tr>\n      <th>64579</th>\n      <td>Middara: Unintentional Malum – Act 1</td>\n      <td>169427</td>\n      <td>[Action Points:2001, Cooperative Game:2023, Di...</td>\n      <td>[Adventure:1022, Exploration:1020, Fantasy:101...</td>\n      <td>3.9505</td>\n      <td>4.0</td>\n      <td>4.0</td>\n      <td>4.0</td>\n      <td>1.0</td>\n    </tr>\n    <tr>\n      <th>85104</th>\n      <td>Clank! Legacy: Acquisitions Incorporated</td>\n      <td>266507</td>\n      <td>[Card Drafting:2041, Deck, Bag, and Pool Build...</td>\n      <td>[Adventure:1022, Fantasy:1010, Miniatures:1047]</td>\n      <td>2.7105</td>\n      <td>4.0</td>\n      <td>4.0</td>\n      <td>4.0</td>\n      <td>2.0</td>\n    </tr>\n    <tr>\n      <th>95909</th>\n      <td>7 Wonders (Second Edition)</td>\n      <td>316377</td>\n      <td>[Card Drafting:2041, Drafting:2984, Hand Manag...</td>\n      <td>[Ancient:1050, Card Game:1002, City Building:1...</td>\n      <td>2.1778</td>\n      <td>5.0</td>\n      <td>4.0</td>\n      <td>7.0</td>\n      <td>3.0</td>\n    </tr>\n    <tr>\n      <th>91676</th>\n      <td>Marvel United</td>\n      <td>298047</td>\n      <td>[Cooperative Game:2023, Hand Management:2040, ...</td>\n      <td>[Card Game:1002, Comic Book / Strip:1116, Figh...</td>\n      <td>1.8547</td>\n      <td>3.0</td>\n      <td>3.0</td>\n      <td>4.0</td>\n      <td>1.0</td>\n    </tr>\n    <tr>\n      <th>95463</th>\n      <td>Pandemic Legacy: Season 0</td>\n      <td>314040</td>\n      <td>[Action Points:2001, Cooperative Game:2023, Ha...</td>\n      <td>[Spies/Secret Agents:1081]</td>\n      <td>3.0147</td>\n      <td>4.0</td>\n      <td>2.0</td>\n      <td>4.0</td>\n      <td>2.0</td>\n    </tr>\n    <tr>\n      <th>76383</th>\n      <td>Human Punishment: Social Deduction 2.0</td>\n      <td>225167</td>\n      <td>[Hidden Roles:2891, Take That:2686, Team-Based...</td>\n      <td>[Bluffing:1023, Card Game:1002, Deduction:1039...</td>\n      <td>2.5750</td>\n      <td>7.0</td>\n      <td>5.0</td>\n      <td>9.0</td>\n      <td>4.0</td>\n    </tr>\n    <tr>\n      <th>61355</th>\n      <td>Viticulture: Complete Collector's Edition</td>\n      <td>156455</td>\n      <td>[Hand Management:2040, Worker Placement:2082]</td>\n      <td>[Economic:1021, Farming:1013]</td>\n      <td>3.3200</td>\n      <td>6.0</td>\n      <td>1.0</td>\n      <td>6.0</td>\n      <td>1.0</td>\n    </tr>\n    <tr>\n      <th>87376</th>\n      <td>Anachrony: Infinity Box</td>\n      <td>278292</td>\n      <td>[Action Points:2001, Card Drafting:2041, Dice ...</td>\n      <td>[Economic:1021, Miniatures:1047, Science Ficti...</td>\n      <td>4.0000</td>\n      <td>4.0</td>\n      <td>1.0</td>\n      <td>4.0</td>\n      <td>1.0</td>\n    </tr>\n  </tbody>\n</table>\n</div>"
     },
     "execution_count": 18,
     "metadata": {},
     "output_type": "execute_result"
    }
   ],
   "source": [
    "# Our games: Spirit Island, Citadel, Splendor, Avalon, Codenames, Crew, Love Letter, 7 wonders, viticulture, Descent\n",
    "analyze(\"USER_4\")"
   ]
  },
  {
   "cell_type": "code",
   "execution_count": 19,
   "id": "returning-handle",
   "metadata": {},
   "outputs": [
    {
     "name": "stdout",
     "output_type": "stream",
     "text": [
      "Metric value: [0.16       2.43789136 0.26       0.02       2.87789136]\n"
     ]
    },
    {
     "data": {
      "text/plain": "                                          name  bgg_id  \\\n10959         Twilight Imperium: Third Edition   12493   \n64700                                   Scythe  169786   \n66024                               Gloomhaven  174430   \n67696                        The 7th Continent  180263   \n38362                   Kingdom Death: Monster   55690   \n90208             Gloomhaven: Jaws of the Lion  291457   \n78125        Twilight Imperium: Fourth Edition  233078   \n73141                               Rising Sun  205896   \n75384                    UBOOT: The Board Game  219100   \n43950           Xia: Legends of a Drift System   82222   \n70395                           Too Many Bones  192135   \n62335                                    Conan  160010   \n72414                             Deep Madness  202077   \n64579     Middara: Unintentional Malum – Act 1  169427   \n95463                Pandemic Legacy: Season 0  314040   \n76383   Human Punishment: Social Deduction 2.0  225167   \n77601             Time of Legends: Joan of Arc  230791   \n79994  Here I Stand: 500th Anniversary Edition  242722   \n84143                               Cloudspire  262211   \n79506                          Betrayal Legacy  240196   \n\n                                                mechanic  \\\n10959  [Action Points:2001, Area-Impulse:2021, Dice R...   \n64700  [Action Drafting:2838, Card Play Conflict Reso...   \n66024  [Action Queue:2689, Action Retrieval:2839, Cam...   \n67696  [Cooperative Game:2023, Grid Movement:2676, Ha...   \n38362  [Cooperative Game:2023, Dice Rolling:2072, Gri...   \n90208  [Action Queue:2689, Action Retrieval:2839, Cam...   \n78125  [Action Drafting:2838, Area Majority / Influen...   \n73141  [Action Drafting:2838, Alliances:2916, Area Ma...   \n75384  [Action Points:2001, Cooperative Game:2023, Si...   \n43950  [Action Points:2001, Dice Rolling:2072, Grid M...   \n70395  [Cooperative Game:2023, Deck, Bag, and Pool Bu...   \n62335  [Action Points:2001, Area Movement:2046, Dice ...   \n72414  [Action Points:2001, Cooperative Game:2023, Di...   \n64579  [Action Points:2001, Cooperative Game:2023, Di...   \n95463  [Action Points:2001, Cooperative Game:2023, Ha...   \n76383  [Hidden Roles:2891, Take That:2686, Team-Based...   \n77601  [Action Points:2001, Area Movement:2046, Dice ...   \n79994  [Campaign / Battle Card Driven:2018, Dice Roll...   \n84143  [Action Queue:2689, Bias:2957, Cooperative Gam...   \n79506  [Cooperative Game:2023, Dice Rolling:2072, Gri...   \n\n                                                category  complexity  \\\n10959  [Civilization:1015, Negotiation:1026, Politica...      4.2535   \n64700  [Economic:1021, Fighting:1046, Miniatures:1047...      3.4225   \n66024  [Adventure:1022, Exploration:1020, Fantasy:101...      3.8695   \n67696  [Adventure:1022, Card Game:1002, Exploration:1...      2.8821   \n38362  [Adventure:1022, Fantasy:1010, Horror:1024, Ma...      4.2590   \n90208  [Adventure:1022, Exploration:1020, Fantasy:101...      3.5705   \n78125  [Civilization:1015, Economic:1021, Exploration...      4.2416   \n73141  [Bluffing:1023, Fantasy:1010, Miniatures:1047,...      3.2832   \n75384  [Miniatures:1047, Nautical:1008, Real-time:103...      4.0873   \n43950  [Adventure:1022, Exploration:1020, Fighting:10...      3.1738   \n70395          [Adventure:1022, Dice:1017, Fantasy:1010]      3.8586   \n62335  [Adventure:1022, Fantasy:1010, Fighting:1046, ...      2.7615   \n72414  [Adventure:1022, Fighting:1046, Horror:1024, M...      3.3333   \n64579  [Adventure:1022, Exploration:1020, Fantasy:101...      3.9505   \n95463                         [Spies/Secret Agents:1081]      3.0147   \n76383  [Bluffing:1023, Card Game:1002, Deduction:1039...      2.5750   \n77601  [Adventure:1022, Fantasy:1010, Medieval:1035, ...      3.4833   \n79994  [Negotiation:1026, Political:1001, Religious:1...      4.4324   \n84143  [Exploration:1020, Fantasy:1010, Video Game Th...      4.2784   \n79506  [Adventure:1022, Exploration:1020, Horror:1024...      2.8308   \n\n       max_players_best  min_players_best  max_players_rec  min_players_rec  \n10959               6.0               6.0              6.0              4.0  \n64700               4.0               4.0              5.0              1.0  \n66024               3.0               3.0              4.0              1.0  \n67696               2.0               1.0              3.0              1.0  \n38362               4.0               4.0              4.0              1.0  \n90208               4.0               1.0              4.0              1.0  \n78125               6.0               6.0              6.0              3.0  \n73141               5.0               4.0              6.0              3.0  \n75384               4.0               4.0              4.0              1.0  \n43950               3.0               3.0              4.0              3.0  \n70395               3.0               3.0              4.0              1.0  \n62335               4.0               4.0              5.0              2.0  \n72414               4.0               3.0              6.0              1.0  \n64579               4.0               4.0              4.0              1.0  \n95463               4.0               2.0              4.0              2.0  \n76383               7.0               5.0              9.0              4.0  \n77601               2.0               2.0              4.0              2.0  \n79994               6.0               6.0              6.0              2.0  \n84143               2.0               1.0              4.0              1.0  \n79506               5.0               5.0              5.0              3.0  ",
      "text/html": "<div>\n<style scoped>\n    .dataframe tbody tr th:only-of-type {\n        vertical-align: middle;\n    }\n\n    .dataframe tbody tr th {\n        vertical-align: top;\n    }\n\n    .dataframe thead th {\n        text-align: right;\n    }\n</style>\n<table border=\"1\" class=\"dataframe\">\n  <thead>\n    <tr style=\"text-align: right;\">\n      <th></th>\n      <th>name</th>\n      <th>bgg_id</th>\n      <th>mechanic</th>\n      <th>category</th>\n      <th>complexity</th>\n      <th>max_players_best</th>\n      <th>min_players_best</th>\n      <th>max_players_rec</th>\n      <th>min_players_rec</th>\n    </tr>\n  </thead>\n  <tbody>\n    <tr>\n      <th>10959</th>\n      <td>Twilight Imperium: Third Edition</td>\n      <td>12493</td>\n      <td>[Action Points:2001, Area-Impulse:2021, Dice R...</td>\n      <td>[Civilization:1015, Negotiation:1026, Politica...</td>\n      <td>4.2535</td>\n      <td>6.0</td>\n      <td>6.0</td>\n      <td>6.0</td>\n      <td>4.0</td>\n    </tr>\n    <tr>\n      <th>64700</th>\n      <td>Scythe</td>\n      <td>169786</td>\n      <td>[Action Drafting:2838, Card Play Conflict Reso...</td>\n      <td>[Economic:1021, Fighting:1046, Miniatures:1047...</td>\n      <td>3.4225</td>\n      <td>4.0</td>\n      <td>4.0</td>\n      <td>5.0</td>\n      <td>1.0</td>\n    </tr>\n    <tr>\n      <th>66024</th>\n      <td>Gloomhaven</td>\n      <td>174430</td>\n      <td>[Action Queue:2689, Action Retrieval:2839, Cam...</td>\n      <td>[Adventure:1022, Exploration:1020, Fantasy:101...</td>\n      <td>3.8695</td>\n      <td>3.0</td>\n      <td>3.0</td>\n      <td>4.0</td>\n      <td>1.0</td>\n    </tr>\n    <tr>\n      <th>67696</th>\n      <td>The 7th Continent</td>\n      <td>180263</td>\n      <td>[Cooperative Game:2023, Grid Movement:2676, Ha...</td>\n      <td>[Adventure:1022, Card Game:1002, Exploration:1...</td>\n      <td>2.8821</td>\n      <td>2.0</td>\n      <td>1.0</td>\n      <td>3.0</td>\n      <td>1.0</td>\n    </tr>\n    <tr>\n      <th>38362</th>\n      <td>Kingdom Death: Monster</td>\n      <td>55690</td>\n      <td>[Cooperative Game:2023, Dice Rolling:2072, Gri...</td>\n      <td>[Adventure:1022, Fantasy:1010, Horror:1024, Ma...</td>\n      <td>4.2590</td>\n      <td>4.0</td>\n      <td>4.0</td>\n      <td>4.0</td>\n      <td>1.0</td>\n    </tr>\n    <tr>\n      <th>90208</th>\n      <td>Gloomhaven: Jaws of the Lion</td>\n      <td>291457</td>\n      <td>[Action Queue:2689, Action Retrieval:2839, Cam...</td>\n      <td>[Adventure:1022, Exploration:1020, Fantasy:101...</td>\n      <td>3.5705</td>\n      <td>4.0</td>\n      <td>1.0</td>\n      <td>4.0</td>\n      <td>1.0</td>\n    </tr>\n    <tr>\n      <th>78125</th>\n      <td>Twilight Imperium: Fourth Edition</td>\n      <td>233078</td>\n      <td>[Action Drafting:2838, Area Majority / Influen...</td>\n      <td>[Civilization:1015, Economic:1021, Exploration...</td>\n      <td>4.2416</td>\n      <td>6.0</td>\n      <td>6.0</td>\n      <td>6.0</td>\n      <td>3.0</td>\n    </tr>\n    <tr>\n      <th>73141</th>\n      <td>Rising Sun</td>\n      <td>205896</td>\n      <td>[Action Drafting:2838, Alliances:2916, Area Ma...</td>\n      <td>[Bluffing:1023, Fantasy:1010, Miniatures:1047,...</td>\n      <td>3.2832</td>\n      <td>5.0</td>\n      <td>4.0</td>\n      <td>6.0</td>\n      <td>3.0</td>\n    </tr>\n    <tr>\n      <th>75384</th>\n      <td>UBOOT: The Board Game</td>\n      <td>219100</td>\n      <td>[Action Points:2001, Cooperative Game:2023, Si...</td>\n      <td>[Miniatures:1047, Nautical:1008, Real-time:103...</td>\n      <td>4.0873</td>\n      <td>4.0</td>\n      <td>4.0</td>\n      <td>4.0</td>\n      <td>1.0</td>\n    </tr>\n    <tr>\n      <th>43950</th>\n      <td>Xia: Legends of a Drift System</td>\n      <td>82222</td>\n      <td>[Action Points:2001, Dice Rolling:2072, Grid M...</td>\n      <td>[Adventure:1022, Exploration:1020, Fighting:10...</td>\n      <td>3.1738</td>\n      <td>3.0</td>\n      <td>3.0</td>\n      <td>4.0</td>\n      <td>3.0</td>\n    </tr>\n    <tr>\n      <th>70395</th>\n      <td>Too Many Bones</td>\n      <td>192135</td>\n      <td>[Cooperative Game:2023, Deck, Bag, and Pool Bu...</td>\n      <td>[Adventure:1022, Dice:1017, Fantasy:1010]</td>\n      <td>3.8586</td>\n      <td>3.0</td>\n      <td>3.0</td>\n      <td>4.0</td>\n      <td>1.0</td>\n    </tr>\n    <tr>\n      <th>62335</th>\n      <td>Conan</td>\n      <td>160010</td>\n      <td>[Action Points:2001, Area Movement:2046, Dice ...</td>\n      <td>[Adventure:1022, Fantasy:1010, Fighting:1046, ...</td>\n      <td>2.7615</td>\n      <td>4.0</td>\n      <td>4.0</td>\n      <td>5.0</td>\n      <td>2.0</td>\n    </tr>\n    <tr>\n      <th>72414</th>\n      <td>Deep Madness</td>\n      <td>202077</td>\n      <td>[Action Points:2001, Cooperative Game:2023, Di...</td>\n      <td>[Adventure:1022, Fighting:1046, Horror:1024, M...</td>\n      <td>3.3333</td>\n      <td>4.0</td>\n      <td>3.0</td>\n      <td>6.0</td>\n      <td>1.0</td>\n    </tr>\n    <tr>\n      <th>64579</th>\n      <td>Middara: Unintentional Malum – Act 1</td>\n      <td>169427</td>\n      <td>[Action Points:2001, Cooperative Game:2023, Di...</td>\n      <td>[Adventure:1022, Exploration:1020, Fantasy:101...</td>\n      <td>3.9505</td>\n      <td>4.0</td>\n      <td>4.0</td>\n      <td>4.0</td>\n      <td>1.0</td>\n    </tr>\n    <tr>\n      <th>95463</th>\n      <td>Pandemic Legacy: Season 0</td>\n      <td>314040</td>\n      <td>[Action Points:2001, Cooperative Game:2023, Ha...</td>\n      <td>[Spies/Secret Agents:1081]</td>\n      <td>3.0147</td>\n      <td>4.0</td>\n      <td>2.0</td>\n      <td>4.0</td>\n      <td>2.0</td>\n    </tr>\n    <tr>\n      <th>76383</th>\n      <td>Human Punishment: Social Deduction 2.0</td>\n      <td>225167</td>\n      <td>[Hidden Roles:2891, Take That:2686, Team-Based...</td>\n      <td>[Bluffing:1023, Card Game:1002, Deduction:1039...</td>\n      <td>2.5750</td>\n      <td>7.0</td>\n      <td>5.0</td>\n      <td>9.0</td>\n      <td>4.0</td>\n    </tr>\n    <tr>\n      <th>77601</th>\n      <td>Time of Legends: Joan of Arc</td>\n      <td>230791</td>\n      <td>[Action Points:2001, Area Movement:2046, Dice ...</td>\n      <td>[Adventure:1022, Fantasy:1010, Medieval:1035, ...</td>\n      <td>3.4833</td>\n      <td>2.0</td>\n      <td>2.0</td>\n      <td>4.0</td>\n      <td>2.0</td>\n    </tr>\n    <tr>\n      <th>79994</th>\n      <td>Here I Stand: 500th Anniversary Edition</td>\n      <td>242722</td>\n      <td>[Campaign / Battle Card Driven:2018, Dice Roll...</td>\n      <td>[Negotiation:1026, Political:1001, Religious:1...</td>\n      <td>4.4324</td>\n      <td>6.0</td>\n      <td>6.0</td>\n      <td>6.0</td>\n      <td>2.0</td>\n    </tr>\n    <tr>\n      <th>84143</th>\n      <td>Cloudspire</td>\n      <td>262211</td>\n      <td>[Action Queue:2689, Bias:2957, Cooperative Gam...</td>\n      <td>[Exploration:1020, Fantasy:1010, Video Game Th...</td>\n      <td>4.2784</td>\n      <td>2.0</td>\n      <td>1.0</td>\n      <td>4.0</td>\n      <td>1.0</td>\n    </tr>\n    <tr>\n      <th>79506</th>\n      <td>Betrayal Legacy</td>\n      <td>240196</td>\n      <td>[Cooperative Game:2023, Dice Rolling:2072, Gri...</td>\n      <td>[Adventure:1022, Exploration:1020, Horror:1024...</td>\n      <td>2.8308</td>\n      <td>5.0</td>\n      <td>5.0</td>\n      <td>5.0</td>\n      <td>3.0</td>\n    </tr>\n  </tbody>\n</table>\n</div>"
     },
     "execution_count": 19,
     "metadata": {},
     "output_type": "execute_result"
    }
   ],
   "source": [
    "# Ameritrash: Runewars, Arkham Horror, Starcraft, Last Night on Earth, Talisman, Divine Right\n",
    "analyze(\"USER_5\")"
   ]
  },
  {
   "cell_type": "code",
   "execution_count": 20,
   "id": "cooked-finance",
   "metadata": {
    "pycharm": {
     "name": "#%%\n"
    }
   },
   "outputs": [
    {
     "name": "stdout",
     "output_type": "stream",
     "text": [
      "Metric value: [0.12631579 1.28805618 1.23157895 0.09473684 2.74068776]\n"
     ]
    },
    {
     "data": {
      "text/plain": "                                    name  bgg_id  \\\n48638  Puerto Rico (with two expansions)  108687   \n65260                  El Grande Big Box  171908   \n72165         Agricola (Revised Edition)  200680   \n87376            Anachrony: Infinity Box  278292   \n39730                   Dominant Species   62219   \n44240            The Castles of Burgundy   84876   \n58867        El Grande Decennial Edition  147170   \n51423                      Terra Mystica  120677   \n2279                          Power Grid    2651   \n73790          Dominion (Second Edition)  209418   \n39                    Tigris & Euphrates      42   \n81194      Mage Knight: Ultimate Edition  248562   \n15256       CATAN 3D Collector's Edition   17419   \n65258            Orléans: Deluxe Edition  171905   \n96630      Everdell: Collector's Edition  319422   \n86886                          Maracaibo  276025   \n52562                 Android: Netrunner  124742   \n88982            Marvel: Crisis Protocol  285905   \n10825                  Twilight Struggle   12333   \n27198                           Agricola   31260   \n\n                                                mechanic  \\\n48638  [Action Drafting:2838, End Game Bonuses:2875, ...   \n65260  [Area Majority / Influence:2080, Area Movement...   \n72165  [Enclosure:2043, Hand Management:2040, Worker ...   \n87376  [Action Points:2001, Card Drafting:2041, Dice ...   \n39730  [Action Queue:2689, Area Majority / Influence:...   \n44240  [Dice Rolling:2072, Grid Coverage:2978, Hexago...   \n58867  [Area Majority / Influence:2080, Auction/Biddi...   \n51423  [End Game Bonuses:2875, Hexagon Grid:2026, Inc...   \n2279   [Auction/Bidding:2012, Auction: Turn Order Unt...   \n73790  [Card Drafting:2041, Deck, Bag, and Pool Build...   \n39     [Area Majority / Influence:2080, Connections:2...   \n81194  [Card Drafting:2041, Cooperative Game:2023, De...   \n15256  [Dice Rolling:2072, Hand Management:2040, Memo...   \n65258  [Card Drafting:2041, Deck, Bag, and Pool Build...   \n96630  [Card Drafting:2041, End Game Bonuses:2875, Ha...   \n86886  [Contracts:2912, End Game Bonuses:2875, Events...   \n52562  [Action Points:2001, Deck Construction:3004, H...   \n88982  [Dice Rolling:2072, Measurement Movement:2949,...   \n10825  [Action/Event:2840, Advantage Token:2847, Area...   \n27198  [Advantage Token:2847, Automatic Resource Grow...   \n\n                                                category  complexity  \\\n48638  [City Building:1029, Economic:1021, Farming:1013]      3.2685   \n65260                                 [Renaissance:1070]      2.7742   \n72165        [Animals:1089, Economic:1021, Farming:1013]      3.5147   \n87376  [Economic:1021, Miniatures:1047, Science Ficti...      4.0000   \n39730  [Animals:1089, Environmental:1084, Prehistoric...      4.0416   \n44240  [Dice:1017, Medieval:1035, Territory Building:...      2.9992   \n58867                    [Medieval:1035, Political:1001]      2.9688   \n51423  [Civilization:1015, Economic:1021, Fantasy:101...      3.9633   \n2279      [Economic:1021, Industry / Manufacturing:1088]      3.2682   \n73790                    [Card Game:1002, Medieval:1035]      2.1712   \n39     [Ancient:1050, Civilization:1015, Territory Bu...      3.5079   \n81194  [Adventure:1022, Exploration:1020, Fantasy:101...      4.6290   \n15256                                 [Negotiation:1026]      2.6583   \n65258       [Medieval:1035, Religious:1115, Travel:1097]      3.0588   \n96630  [Animals:1089, Card Game:1002, City Building:1...      2.8571   \n86886    [Economic:1021, Exploration:1020, Pirates:1090]      3.8930   \n52562  [Bluffing:1023, Card Game:1002, Collectible Co...      3.3914   \n88982  [Comic Book / Strip:1116, Miniatures:1047, War...      2.8571   \n10825  [Modern Warfare:1069, Political:1001, Wargame:...      3.5890   \n27198        [Animals:1089, Economic:1021, Farming:1013]      3.6396   \n\n       max_players_best  min_players_best  max_players_rec  min_players_rec  \n48638               4.0               4.0              5.0              2.0  \n65260               5.0               5.0              5.0              3.0  \n72165               4.0               4.0              4.0              1.0  \n87376               4.0               1.0              4.0              1.0  \n39730               4.0               4.0              6.0              3.0  \n44240               2.0               2.0              4.0              2.0  \n58867               5.0               2.0              5.0              2.0  \n51423               4.0               4.0              5.0              2.0  \n2279                5.0               4.0              6.0              3.0  \n73790               3.0               2.0              4.0              2.0  \n39                  4.0               4.0              4.0              2.0  \n81194               1.0               1.0              3.0              1.0  \n15256               4.0               3.0              4.0              3.0  \n65258               5.0               2.0              5.0              2.0  \n96630               4.0               1.0              4.0              1.0  \n86886               3.0               3.0              4.0              1.0  \n52562               2.0               2.0              2.0              2.0  \n88982               2.0               2.0              2.0              2.0  \n10825               2.0               2.0              2.0              2.0  \n27198               4.0               3.0              5.0              1.0  ",
      "text/html": "<div>\n<style scoped>\n    .dataframe tbody tr th:only-of-type {\n        vertical-align: middle;\n    }\n\n    .dataframe tbody tr th {\n        vertical-align: top;\n    }\n\n    .dataframe thead th {\n        text-align: right;\n    }\n</style>\n<table border=\"1\" class=\"dataframe\">\n  <thead>\n    <tr style=\"text-align: right;\">\n      <th></th>\n      <th>name</th>\n      <th>bgg_id</th>\n      <th>mechanic</th>\n      <th>category</th>\n      <th>complexity</th>\n      <th>max_players_best</th>\n      <th>min_players_best</th>\n      <th>max_players_rec</th>\n      <th>min_players_rec</th>\n    </tr>\n  </thead>\n  <tbody>\n    <tr>\n      <th>48638</th>\n      <td>Puerto Rico (with two expansions)</td>\n      <td>108687</td>\n      <td>[Action Drafting:2838, End Game Bonuses:2875, ...</td>\n      <td>[City Building:1029, Economic:1021, Farming:1013]</td>\n      <td>3.2685</td>\n      <td>4.0</td>\n      <td>4.0</td>\n      <td>5.0</td>\n      <td>2.0</td>\n    </tr>\n    <tr>\n      <th>65260</th>\n      <td>El Grande Big Box</td>\n      <td>171908</td>\n      <td>[Area Majority / Influence:2080, Area Movement...</td>\n      <td>[Renaissance:1070]</td>\n      <td>2.7742</td>\n      <td>5.0</td>\n      <td>5.0</td>\n      <td>5.0</td>\n      <td>3.0</td>\n    </tr>\n    <tr>\n      <th>72165</th>\n      <td>Agricola (Revised Edition)</td>\n      <td>200680</td>\n      <td>[Enclosure:2043, Hand Management:2040, Worker ...</td>\n      <td>[Animals:1089, Economic:1021, Farming:1013]</td>\n      <td>3.5147</td>\n      <td>4.0</td>\n      <td>4.0</td>\n      <td>4.0</td>\n      <td>1.0</td>\n    </tr>\n    <tr>\n      <th>87376</th>\n      <td>Anachrony: Infinity Box</td>\n      <td>278292</td>\n      <td>[Action Points:2001, Card Drafting:2041, Dice ...</td>\n      <td>[Economic:1021, Miniatures:1047, Science Ficti...</td>\n      <td>4.0000</td>\n      <td>4.0</td>\n      <td>1.0</td>\n      <td>4.0</td>\n      <td>1.0</td>\n    </tr>\n    <tr>\n      <th>39730</th>\n      <td>Dominant Species</td>\n      <td>62219</td>\n      <td>[Action Queue:2689, Area Majority / Influence:...</td>\n      <td>[Animals:1089, Environmental:1084, Prehistoric...</td>\n      <td>4.0416</td>\n      <td>4.0</td>\n      <td>4.0</td>\n      <td>6.0</td>\n      <td>3.0</td>\n    </tr>\n    <tr>\n      <th>44240</th>\n      <td>The Castles of Burgundy</td>\n      <td>84876</td>\n      <td>[Dice Rolling:2072, Grid Coverage:2978, Hexago...</td>\n      <td>[Dice:1017, Medieval:1035, Territory Building:...</td>\n      <td>2.9992</td>\n      <td>2.0</td>\n      <td>2.0</td>\n      <td>4.0</td>\n      <td>2.0</td>\n    </tr>\n    <tr>\n      <th>58867</th>\n      <td>El Grande Decennial Edition</td>\n      <td>147170</td>\n      <td>[Area Majority / Influence:2080, Auction/Biddi...</td>\n      <td>[Medieval:1035, Political:1001]</td>\n      <td>2.9688</td>\n      <td>5.0</td>\n      <td>2.0</td>\n      <td>5.0</td>\n      <td>2.0</td>\n    </tr>\n    <tr>\n      <th>51423</th>\n      <td>Terra Mystica</td>\n      <td>120677</td>\n      <td>[End Game Bonuses:2875, Hexagon Grid:2026, Inc...</td>\n      <td>[Civilization:1015, Economic:1021, Fantasy:101...</td>\n      <td>3.9633</td>\n      <td>4.0</td>\n      <td>4.0</td>\n      <td>5.0</td>\n      <td>2.0</td>\n    </tr>\n    <tr>\n      <th>2279</th>\n      <td>Power Grid</td>\n      <td>2651</td>\n      <td>[Auction/Bidding:2012, Auction: Turn Order Unt...</td>\n      <td>[Economic:1021, Industry / Manufacturing:1088]</td>\n      <td>3.2682</td>\n      <td>5.0</td>\n      <td>4.0</td>\n      <td>6.0</td>\n      <td>3.0</td>\n    </tr>\n    <tr>\n      <th>73790</th>\n      <td>Dominion (Second Edition)</td>\n      <td>209418</td>\n      <td>[Card Drafting:2041, Deck, Bag, and Pool Build...</td>\n      <td>[Card Game:1002, Medieval:1035]</td>\n      <td>2.1712</td>\n      <td>3.0</td>\n      <td>2.0</td>\n      <td>4.0</td>\n      <td>2.0</td>\n    </tr>\n    <tr>\n      <th>39</th>\n      <td>Tigris &amp; Euphrates</td>\n      <td>42</td>\n      <td>[Area Majority / Influence:2080, Connections:2...</td>\n      <td>[Ancient:1050, Civilization:1015, Territory Bu...</td>\n      <td>3.5079</td>\n      <td>4.0</td>\n      <td>4.0</td>\n      <td>4.0</td>\n      <td>2.0</td>\n    </tr>\n    <tr>\n      <th>81194</th>\n      <td>Mage Knight: Ultimate Edition</td>\n      <td>248562</td>\n      <td>[Card Drafting:2041, Cooperative Game:2023, De...</td>\n      <td>[Adventure:1022, Exploration:1020, Fantasy:101...</td>\n      <td>4.6290</td>\n      <td>1.0</td>\n      <td>1.0</td>\n      <td>3.0</td>\n      <td>1.0</td>\n    </tr>\n    <tr>\n      <th>15256</th>\n      <td>CATAN 3D Collector's Edition</td>\n      <td>17419</td>\n      <td>[Dice Rolling:2072, Hand Management:2040, Memo...</td>\n      <td>[Negotiation:1026]</td>\n      <td>2.6583</td>\n      <td>4.0</td>\n      <td>3.0</td>\n      <td>4.0</td>\n      <td>3.0</td>\n    </tr>\n    <tr>\n      <th>65258</th>\n      <td>Orléans: Deluxe Edition</td>\n      <td>171905</td>\n      <td>[Card Drafting:2041, Deck, Bag, and Pool Build...</td>\n      <td>[Medieval:1035, Religious:1115, Travel:1097]</td>\n      <td>3.0588</td>\n      <td>5.0</td>\n      <td>2.0</td>\n      <td>5.0</td>\n      <td>2.0</td>\n    </tr>\n    <tr>\n      <th>96630</th>\n      <td>Everdell: Collector's Edition</td>\n      <td>319422</td>\n      <td>[Card Drafting:2041, End Game Bonuses:2875, Ha...</td>\n      <td>[Animals:1089, Card Game:1002, City Building:1...</td>\n      <td>2.8571</td>\n      <td>4.0</td>\n      <td>1.0</td>\n      <td>4.0</td>\n      <td>1.0</td>\n    </tr>\n    <tr>\n      <th>86886</th>\n      <td>Maracaibo</td>\n      <td>276025</td>\n      <td>[Contracts:2912, End Game Bonuses:2875, Events...</td>\n      <td>[Economic:1021, Exploration:1020, Pirates:1090]</td>\n      <td>3.8930</td>\n      <td>3.0</td>\n      <td>3.0</td>\n      <td>4.0</td>\n      <td>1.0</td>\n    </tr>\n    <tr>\n      <th>52562</th>\n      <td>Android: Netrunner</td>\n      <td>124742</td>\n      <td>[Action Points:2001, Deck Construction:3004, H...</td>\n      <td>[Bluffing:1023, Card Game:1002, Collectible Co...</td>\n      <td>3.3914</td>\n      <td>2.0</td>\n      <td>2.0</td>\n      <td>2.0</td>\n      <td>2.0</td>\n    </tr>\n    <tr>\n      <th>88982</th>\n      <td>Marvel: Crisis Protocol</td>\n      <td>285905</td>\n      <td>[Dice Rolling:2072, Measurement Movement:2949,...</td>\n      <td>[Comic Book / Strip:1116, Miniatures:1047, War...</td>\n      <td>2.8571</td>\n      <td>2.0</td>\n      <td>2.0</td>\n      <td>2.0</td>\n      <td>2.0</td>\n    </tr>\n    <tr>\n      <th>10825</th>\n      <td>Twilight Struggle</td>\n      <td>12333</td>\n      <td>[Action/Event:2840, Advantage Token:2847, Area...</td>\n      <td>[Modern Warfare:1069, Political:1001, Wargame:...</td>\n      <td>3.5890</td>\n      <td>2.0</td>\n      <td>2.0</td>\n      <td>2.0</td>\n      <td>2.0</td>\n    </tr>\n    <tr>\n      <th>27198</th>\n      <td>Agricola</td>\n      <td>31260</td>\n      <td>[Advantage Token:2847, Automatic Resource Grow...</td>\n      <td>[Animals:1089, Economic:1021, Farming:1013]</td>\n      <td>3.6396</td>\n      <td>4.0</td>\n      <td>3.0</td>\n      <td>5.0</td>\n      <td>1.0</td>\n    </tr>\n  </tbody>\n</table>\n</div>"
     },
     "execution_count": 20,
     "metadata": {},
     "output_type": "execute_result"
    }
   ],
   "source": [
    "# Eurogames: Catan, Puerto Rico, Carcassone, Ra, El Grande, Five Tribes\n",
    "analyze(\"USER_6\")"
   ]
  },
  {
   "cell_type": "code",
   "execution_count": null,
   "outputs": [],
   "source": [],
   "metadata": {
    "collapsed": false,
    "pycharm": {
     "name": "#%%\n"
    }
   }
  }
 ],
 "metadata": {
  "kernelspec": {
   "display_name": "Python 3",
   "language": "python",
   "name": "python3"
  },
  "language_info": {
   "codemirror_mode": {
    "name": "ipython",
    "version": 3
   },
   "file_extension": ".py",
   "mimetype": "text/x-python",
   "name": "python",
   "nbconvert_exporter": "python",
   "pygments_lexer": "ipython3",
   "version": "3.8.10"
  }
 },
 "nbformat": 4,
 "nbformat_minor": 5
}