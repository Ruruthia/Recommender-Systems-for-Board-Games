{
 "cells": [
  {
   "cell_type": "code",
   "execution_count": 1,
   "metadata": {
    "collapsed": true
   },
   "outputs": [],
   "source": [
    "from ast import literal_eval\n",
    "\n",
    "import numpy as np\n",
    "import pandas as pd\n",
    "import scipy.sparse\n",
    "\n",
    "from lightfm import LightFM\n",
    "from lightfm.data import Dataset\n",
    "from recommender.testing.custom_metric_utils import create_recommendations_profiles_embeddings, calculate_metric_scores\n",
    "from recommender.testing.custom_metric_utils import create_users_profiles_embeddings\n",
    "from recommender.testing.dataset_utils import prepare_interactions\n",
    "from recommender.tools.lightfm_utils import LightFMTests"
   ]
  },
  {
   "cell_type": "code",
   "execution_count": 2,
   "outputs": [],
   "source": [
    "DATA_ROOT = '../../data'\n",
    "THREADS = 8"
   ],
   "metadata": {
    "collapsed": false,
    "pycharm": {
     "name": "#%%\n"
    }
   }
  },
  {
   "cell_type": "markdown",
   "source": [
    "## Loading data"
   ],
   "metadata": {
    "collapsed": false,
    "pycharm": {
     "name": "#%% md\n"
    }
   }
  },
  {
   "cell_type": "code",
   "execution_count": 3,
   "outputs": [],
   "source": [
    "test_df = pd.read_csv(f'{DATA_ROOT}/ratings_test_implicit.csv.gz')\n",
    "train_df = pd.read_csv(f'{DATA_ROOT}/ratings_train_implicit.csv.gz')\n",
    "games_df = pd.read_json(f'{DATA_ROOT}/bgg_GameItem.jl', lines=True)[[\n",
    "    'name', 'bgg_id', 'mechanic', 'category', 'complexity',\n",
    "    'max_players_best', 'min_players_best', 'max_players_rec', 'min_players_rec'\n",
    "]]\n",
    "\n",
    "features_names = pd.read_csv(f'{DATA_ROOT}/game_features_names.csv.gz').values.flatten()\n",
    "game_features = pd.read_csv(f'{DATA_ROOT}/game_features.csv.gz')"
   ],
   "metadata": {
    "collapsed": false,
    "pycharm": {
     "name": "#%%\n"
    }
   }
  },
  {
   "cell_type": "code",
   "execution_count": 44,
   "outputs": [],
   "source": [
    "users_profiles = pd.read_pickle(f'{DATA_ROOT}/users_profiles.pkl')\n",
    "games_profiles = pd.read_pickle(f'{DATA_ROOT}/games_profiles.pkl')"
   ],
   "metadata": {
    "collapsed": false,
    "pycharm": {
     "name": "#%%\n"
    }
   }
  },
  {
   "cell_type": "code",
   "execution_count": 5,
   "outputs": [],
   "source": [
    "mechanics_names = features_names[:20]\n",
    "categories_names = features_names[20:40]"
   ],
   "metadata": {
    "collapsed": false,
    "pycharm": {
     "name": "#%%\n"
    }
   }
  },
  {
   "cell_type": "markdown",
   "source": [
    "## Adding new users"
   ],
   "metadata": {
    "collapsed": false,
    "pycharm": {
     "name": "#%% md\n"
    }
   }
  },
  {
   "cell_type": "code",
   "execution_count": 6,
   "outputs": [],
   "source": [
    "USERS_TO_ADD = {\n",
    "    # Family: Catan, Monopoly, UNO, Ticket to Ride\n",
    "    \"USER_1\": [13, 1406, 2223, 9209],\n",
    "    # Negative interactions: Game of Thrones, War of the Ring, Twilight Imperium (3rd edition),\n",
    "    # Battlestar Galactica, Scythe\n",
    "    \"USER_2\": [103343, 2228, 12493, 37111, 169786],\n",
    "    # Worker placement: Viticulture, Agricola, Feast for Odin, West Kingdom\n",
    "    \"USER_3\": [183394, 31260, 177736, 236457, 266810, 296151],\n",
    "    # Our games: Spirit Island, Citadel, Splendor, Avalon, Codenames, Crew, Love Letter, 7 wonders, viticulture, Descent\n",
    "    \"USER_4\": [162886, 478, 148228, 1862, 178900, 324856, 129622, 68448, 183394, 150586],\n",
    "    # Ameritrash: Runewars, Arkham Horror, Starcraft, Last Night on Earth, Talisman, Divine Right\n",
    "    \"USER_5\": [59294, 15987, 22827, 29368, 27627, 23],\n",
    "    # Eurogames: Catan, Puerto Rico, Carcassone, Ra, El Grande, Five Tribes\n",
    "    \"USER_6\": [13, 3076, 822, 12, 93, 157354],\n",
    "}"
   ],
   "metadata": {
    "collapsed": false,
    "pycharm": {
     "name": "#%%\n"
    }
   }
  },
  {
   "cell_type": "code",
   "execution_count": 7,
   "outputs": [],
   "source": [
    "def append_users_to_train_df(train_df, users):\n",
    "    for user, games in users.items():\n",
    "        train_df = train_df.append(pd.DataFrame(data={'bgg_user_name': [user]*len(games), 'bgg_id': games, 'value':[1]*len(games)}))\n",
    "    return train_df"
   ],
   "metadata": {
    "collapsed": false,
    "pycharm": {
     "name": "#%%\n"
    }
   }
  },
  {
   "cell_type": "code",
   "execution_count": 45,
   "outputs": [
    {
     "name": "stderr",
     "output_type": "stream",
     "text": [
      "100%|██████████| 6/6 [00:00<00:00, 232.50it/s]\n"
     ]
    }
   ],
   "source": [
    "train_df = append_users_to_train_df(train_df, USERS_TO_ADD)\n",
    "profiles_to_add = create_users_profiles_embeddings(\n",
    "    train_df, games_df, categories_names, mechanics_names, 10, show_progress=True, users_subset=[f'USER_{i}' for i in range(1,7)]\n",
    ")\n",
    "users_profiles = users_profiles.append(profiles_to_add)"
   ],
   "metadata": {
    "collapsed": false,
    "pycharm": {
     "name": "#%%\n"
    }
   }
  },
  {
   "cell_type": "markdown",
   "source": [
    "## Preparing interactions, item features & profiles"
   ],
   "metadata": {
    "collapsed": false,
    "pycharm": {
     "name": "#%% md\n"
    }
   }
  },
  {
   "cell_type": "code",
   "execution_count": 9,
   "outputs": [
    {
     "name": "stdout",
     "output_type": "stream",
     "text": [
      "Fitting dataset\n"
     ]
    }
   ],
   "source": [
    "full_df = pd.concat([train_df, test_df], ignore_index=True)\n",
    "dataset = Dataset()\n",
    "print(\"Fitting dataset\")\n",
    "dataset.fit((x for x in full_df['bgg_user_name']), (x for x in full_df['bgg_id']),\n",
    "            item_features=(x for x in features_names))"
   ],
   "metadata": {
    "collapsed": false,
    "pycharm": {
     "name": "#%%\n"
    }
   }
  },
  {
   "cell_type": "code",
   "execution_count": 10,
   "outputs": [],
   "source": [
    "game_features['features'] = game_features.features.apply(literal_eval)\n",
    "games_list = full_df['bgg_id'].unique()\n",
    "game_features = game_features.drop((game_features['bgg_id'])[~game_features['bgg_id'].isin(games_list)].index)\n",
    "item_features = dataset.build_item_features((val['bgg_id'], val['features'] + [val['bgg_id']])\n",
    "                                        for idx, val in game_features.iterrows())"
   ],
   "metadata": {
    "collapsed": false,
    "pycharm": {
     "name": "#%%\n"
    }
   }
  },
  {
   "cell_type": "code",
   "execution_count": 11,
   "outputs": [
    {
     "name": "stdout",
     "output_type": "stream",
     "text": [
      "Preparing training interactions\n",
      "Preparing testing interactions\n"
     ]
    }
   ],
   "source": [
    "try:\n",
    "    train_interactions = scipy.sparse.load_npz('../notebooks_data/custom_train_interactions.npz')\n",
    "    test_interactions = scipy.sparse.load_npz('../notebooks_data/custom_test_interactions.npz')\n",
    "except:\n",
    "    train_interactions, test_interactions = prepare_interactions(train_df, test_df, dataset)\n",
    "    scipy.sparse.save_npz('../notebooks_data/custom_train_interactions.npz', train_interactions)\n",
    "    scipy.sparse.save_npz('../notebooks_data/custom_test_interactions.npz', test_interactions)"
   ],
   "metadata": {
    "collapsed": false,
    "pycharm": {
     "name": "#%%\n"
    }
   }
  },
  {
   "cell_type": "code",
   "execution_count": 46,
   "outputs": [],
   "source": [
    "users_profiles.index = users_profiles.index.map(dataset.mapping()[0])\n",
    "games_profiles.index = games_profiles.index.map(dataset.mapping()[2])\n",
    "users_profiles = users_profiles.sort_index()\n",
    "games_profiles = games_profiles.sort_index()"
   ],
   "metadata": {
    "collapsed": false,
    "pycharm": {
     "name": "#%%\n"
    }
   }
  },
  {
   "cell_type": "code",
   "execution_count": 47,
   "outputs": [],
   "source": [
    "users_profiles.values[:, :40] *= 3"
   ],
   "metadata": {
    "collapsed": false,
    "pycharm": {
     "name": "#%%\n"
    }
   }
  },
  {
   "cell_type": "code",
   "execution_count": 14,
   "outputs": [],
   "source": [
    "cython_users_profiles = np.ascontiguousarray(users_profiles.values, dtype=np.float32)\n",
    "cython_games_profiles = np.ascontiguousarray(games_profiles.values, dtype=np.float32)"
   ],
   "metadata": {
    "collapsed": false,
    "pycharm": {
     "name": "#%%\n"
    }
   }
  },
  {
   "cell_type": "markdown",
   "source": [
    "## Model training"
   ],
   "metadata": {
    "collapsed": false,
    "pycharm": {
     "name": "#%% md\n"
    }
   }
  },
  {
   "cell_type": "code",
   "execution_count": 15,
   "outputs": [
    {
     "name": "stderr",
     "output_type": "stream",
     "text": [
      "Epoch: 100%|██████████| 104/104 [1:27:05<00:00, 50.24s/it]\n"
     ]
    },
    {
     "data": {
      "text/plain": "<lightfm.lightfm.LightFM at 0x7f46a36ddc70>"
     },
     "execution_count": 15,
     "metadata": {},
     "output_type": "execute_result"
    }
   ],
   "source": [
    "PARAMS = {'no_components': 70,\n",
    "          'learning_schedule': 'adadelta',\n",
    "          'loss': 'custom',\n",
    "          'item_alpha': 3e-06,\n",
    "          'max_sampled': 10,\n",
    "          'rho': 0.93,\n",
    "          'epsilon': 1.0e-06,\n",
    "          'random_state': 42}\n",
    "\n",
    "model = LightFM(**PARAMS)\n",
    "model.fit_partial(\n",
    "    train_interactions, verbose=True, item_features=item_features, epochs=104,\n",
    "    num_threads=THREADS, user_profiles=cython_users_profiles, item_profiles=cython_games_profiles\n",
    ")"
   ],
   "metadata": {
    "collapsed": false,
    "pycharm": {
     "name": "#%%\n"
    }
   }
  },
  {
   "cell_type": "markdown",
   "source": [
    "## Inspecting predictions"
   ],
   "metadata": {
    "collapsed": false,
    "pycharm": {
     "name": "#%% md\n"
    }
   }
  },
  {
   "cell_type": "code",
   "execution_count": 16,
   "outputs": [],
   "source": [
    "tests = LightFMTests(model=model,\n",
    "                     train_df=train_df,\n",
    "                     dataset=dataset,\n",
    "                     train_interactions=train_interactions,\n",
    "                     test_interactions=test_interactions,\n",
    "                     item_features=item_features)"
   ],
   "metadata": {
    "collapsed": false,
    "pycharm": {
     "name": "#%%\n"
    }
   }
  },
  {
   "cell_type": "code",
   "execution_count": 55,
   "outputs": [],
   "source": [
    "def analyze(user_name):\n",
    "    def game_id_to_name(game_id, games_df):\n",
    "        game_info = games_df.loc[games_df['bgg_id'] == game_id]\n",
    "        return game_info\n",
    "    top_5 = tests.get_top_n_for_user_by_name(user_name=user_name, training_games_ids=USERS_TO_ADD[user_name], n=5)\n",
    "    top_20 = tests.get_top_n_for_user_by_name(user_name=user_name, training_games_ids=USERS_TO_ADD[user_name], n=20)\n",
    "    top_5_df = pd.DataFrame({\"bgg_user_name\": user_name, \"bgg_id\": top_5}).explode('bgg_id').reset_index(drop=True)\n",
    "    recommendations_profile = create_recommendations_profiles_embeddings(top_5_df, 5, games_df, categories_names, mechanics_names, 10)\n",
    "    print(\"Metric value:\", calculate_metric_scores(recommendations_profile, users_profiles.iloc[dataset.mapping()[0][user_name]:dataset.mapping()[0][user_name]+1]))\n",
    "    top_20_names = [game_id_to_name(game_id, games_df) for game_id in top_20]\n",
    "    return pd.concat(top_20_names)"
   ],
   "metadata": {
    "collapsed": false,
    "pycharm": {
     "name": "#%%\n"
    }
   }
  },
  {
   "cell_type": "code",
   "execution_count": 56,
   "outputs": [
    {
     "name": "stdout",
     "output_type": "stream",
     "text": [
      "Metric value: [2.25       1.41428571 1.         0.95639445 5.62068017]\n"
     ]
    },
    {
     "data": {
      "text/plain": "                                                  name  bgg_id  \\\n1095                               Monopoly: Star Wars    1298   \n23210  Monopoly: Star Wars Limited Collector's Edition   26696   \n2928                            Monopoly: The Simpsons    3394   \n7044   Monopoly: The Lord of the Rings Trilogy Edition    8041   \n4351                     Monopoly: Star Wars Episode I    5029   \n33089                                           Byzanz   38032   \n5884                                           Attack!    6752   \n6204                          Monopoly: Deluxe Edition    7098   \n597                            Monopoly: The Card Game     684   \n1548                                   Trump: The Game    1824   \n78105                     Carthago: Merchants & Guilds  233006   \n74435                              Food Truck Champion  213661   \n51571                                Cover Your Assets  121193   \n47905                                     Mundus Novus  103686   \n378                            Alhambra: The Card Game     431   \n27911                                        Merchants   32114   \n27842                     Monopoly: Electronic Banking   32032   \n25003                                  Before the Wind   28723   \n35576                                    Monopoly City   41186   \n1638                                     Anti-Monopoly    1931   \n\n                                                mechanic  \\\n1095   [Auction/Bidding:2012, Player Elimination:2685...   \n23210  [Auction/Bidding:2012, Player Elimination:2685...   \n2928   [Auction/Bidding:2012, Player Elimination:2685...   \n7044   [Auction/Bidding:2012, Player Elimination:2685...   \n4351   [Auction/Bidding:2012, Player Elimination:2685...   \n33089  [Auction/Bidding:2012, Auction: Turn Order Unt...   \n5884   [Action Points:2001, Area Movement:2046, Dice ...   \n6204   [Auction/Bidding:2012, Player Elimination:2685...   \n597                  [Set Collection:2004, Trading:2008]   \n1548   [Auction/Bidding:2012, Memory:2047, Roll / Spi...   \n78105  [Action Points:2001, Deck, Bag, and Pool Build...   \n74435  [Card Drafting:2041, Follow:2843, Hand Managem...   \n51571  [Hand Management:2040, Set Collection:2004, Ta...   \n47905  [Card Drafting:2041, Hand Management:2040, Set...   \n378    [Area Majority / Influence:2080, Card Drafting...   \n27911  [Hand Management:2040, Set Collection:2004, St...   \n27842  [Auction/Bidding:2012, Roll / Spin and Move:20...   \n25003  [Auction/Bidding:2012, Card Drafting:2041, Han...   \n35576  [Auction/Bidding:2012, Dice Rolling:2072, Roll...   \n1638   [Auction/Bidding:2012, Roll / Spin and Move:20...   \n\n                                                category  complexity  \\\n1095   [Economic:1021, Movies / TV / Radio theme:1064...      1.7609   \n23210  [Economic:1021, Movies / TV / Radio theme:1064...      1.6548   \n2928   [Economic:1021, Movies / TV / Radio theme:1064...      1.6154   \n7044   [Economic:1021, Movies / TV / Radio theme:1064...      1.5833   \n4351   [Economic:1021, Movies / TV / Radio theme:1064...      1.8276   \n33089  [Ancient:1050, Arabian:1052, Card Game:1002, E...      1.6145   \n5884   [Economic:1021, Miniatures:1047, Negotiation:1...      2.5472   \n6204                   [Economic:1021, Negotiation:1026]      1.8904   \n597    [Card Game:1002, Economic:1021, Negotiation:1026]      1.4681   \n1548   [Economic:1021, Memory:1045, Movies / TV / Rad...      1.7000   \n78105      [Ancient:1050, Card Game:1002, Economic:1021]      2.9565   \n74435  [Card Game:1002, Economic:1021, Industry / Man...      2.5556   \n51571                    [Card Game:1002, Economic:1021]      1.1379   \n47905  [Card Game:1002, Economic:1021, Nautical:1008,...      2.1845   \n378    [Arabian:1052, Card Game:1002, City Building:1...      1.7234   \n27911  [Card Game:1002, Economic:1021, Nautical:1008,...      1.7308   \n27842  [Economic:1021, Electronic:1072, Negotiation:1...      1.9167   \n25003     [Card Game:1002, Economic:1021, Nautical:1008]      2.5914   \n35576  [City Building:1029, Economic:1021, Electronic...      2.1111   \n1638                                     [Economic:1021]      1.6061   \n\n       max_players_best  min_players_best  max_players_rec  min_players_rec  \n1095                8.0               2.0              8.0              2.0  \n23210               8.0               2.0              8.0              2.0  \n2928                6.0               2.0              6.0              2.0  \n7044                6.0               2.0              6.0              2.0  \n4351                8.0               2.0              8.0              2.0  \n33089               6.0               3.0              6.0              3.0  \n5884                6.0               2.0              6.0              2.0  \n6204               10.0               2.0             10.0              2.0  \n597                 6.0               2.0              6.0              2.0  \n1548                4.0               3.0              4.0              3.0  \n78105               4.0               2.0              4.0              2.0  \n74435               5.0               2.0              5.0              2.0  \n51571               6.0               2.0              6.0              2.0  \n47905               4.0               4.0              6.0              2.0  \n378                 6.0               2.0              6.0              2.0  \n27911               4.0               4.0              4.0              2.0  \n27842               6.0               2.0              6.0              2.0  \n25003               4.0               4.0              4.0              3.0  \n35576               4.0               3.0              6.0              2.0  \n1638                6.0               2.0              6.0              2.0  ",
      "text/html": "<div>\n<style scoped>\n    .dataframe tbody tr th:only-of-type {\n        vertical-align: middle;\n    }\n\n    .dataframe tbody tr th {\n        vertical-align: top;\n    }\n\n    .dataframe thead th {\n        text-align: right;\n    }\n</style>\n<table border=\"1\" class=\"dataframe\">\n  <thead>\n    <tr style=\"text-align: right;\">\n      <th></th>\n      <th>name</th>\n      <th>bgg_id</th>\n      <th>mechanic</th>\n      <th>category</th>\n      <th>complexity</th>\n      <th>max_players_best</th>\n      <th>min_players_best</th>\n      <th>max_players_rec</th>\n      <th>min_players_rec</th>\n    </tr>\n  </thead>\n  <tbody>\n    <tr>\n      <th>1095</th>\n      <td>Monopoly: Star Wars</td>\n      <td>1298</td>\n      <td>[Auction/Bidding:2012, Player Elimination:2685...</td>\n      <td>[Economic:1021, Movies / TV / Radio theme:1064...</td>\n      <td>1.7609</td>\n      <td>8.0</td>\n      <td>2.0</td>\n      <td>8.0</td>\n      <td>2.0</td>\n    </tr>\n    <tr>\n      <th>23210</th>\n      <td>Monopoly: Star Wars Limited Collector's Edition</td>\n      <td>26696</td>\n      <td>[Auction/Bidding:2012, Player Elimination:2685...</td>\n      <td>[Economic:1021, Movies / TV / Radio theme:1064...</td>\n      <td>1.6548</td>\n      <td>8.0</td>\n      <td>2.0</td>\n      <td>8.0</td>\n      <td>2.0</td>\n    </tr>\n    <tr>\n      <th>2928</th>\n      <td>Monopoly: The Simpsons</td>\n      <td>3394</td>\n      <td>[Auction/Bidding:2012, Player Elimination:2685...</td>\n      <td>[Economic:1021, Movies / TV / Radio theme:1064...</td>\n      <td>1.6154</td>\n      <td>6.0</td>\n      <td>2.0</td>\n      <td>6.0</td>\n      <td>2.0</td>\n    </tr>\n    <tr>\n      <th>7044</th>\n      <td>Monopoly: The Lord of the Rings Trilogy Edition</td>\n      <td>8041</td>\n      <td>[Auction/Bidding:2012, Player Elimination:2685...</td>\n      <td>[Economic:1021, Movies / TV / Radio theme:1064...</td>\n      <td>1.5833</td>\n      <td>6.0</td>\n      <td>2.0</td>\n      <td>6.0</td>\n      <td>2.0</td>\n    </tr>\n    <tr>\n      <th>4351</th>\n      <td>Monopoly: Star Wars Episode I</td>\n      <td>5029</td>\n      <td>[Auction/Bidding:2012, Player Elimination:2685...</td>\n      <td>[Economic:1021, Movies / TV / Radio theme:1064...</td>\n      <td>1.8276</td>\n      <td>8.0</td>\n      <td>2.0</td>\n      <td>8.0</td>\n      <td>2.0</td>\n    </tr>\n    <tr>\n      <th>33089</th>\n      <td>Byzanz</td>\n      <td>38032</td>\n      <td>[Auction/Bidding:2012, Auction: Turn Order Unt...</td>\n      <td>[Ancient:1050, Arabian:1052, Card Game:1002, E...</td>\n      <td>1.6145</td>\n      <td>6.0</td>\n      <td>3.0</td>\n      <td>6.0</td>\n      <td>3.0</td>\n    </tr>\n    <tr>\n      <th>5884</th>\n      <td>Attack!</td>\n      <td>6752</td>\n      <td>[Action Points:2001, Area Movement:2046, Dice ...</td>\n      <td>[Economic:1021, Miniatures:1047, Negotiation:1...</td>\n      <td>2.5472</td>\n      <td>6.0</td>\n      <td>2.0</td>\n      <td>6.0</td>\n      <td>2.0</td>\n    </tr>\n    <tr>\n      <th>6204</th>\n      <td>Monopoly: Deluxe Edition</td>\n      <td>7098</td>\n      <td>[Auction/Bidding:2012, Player Elimination:2685...</td>\n      <td>[Economic:1021, Negotiation:1026]</td>\n      <td>1.8904</td>\n      <td>10.0</td>\n      <td>2.0</td>\n      <td>10.0</td>\n      <td>2.0</td>\n    </tr>\n    <tr>\n      <th>597</th>\n      <td>Monopoly: The Card Game</td>\n      <td>684</td>\n      <td>[Set Collection:2004, Trading:2008]</td>\n      <td>[Card Game:1002, Economic:1021, Negotiation:1026]</td>\n      <td>1.4681</td>\n      <td>6.0</td>\n      <td>2.0</td>\n      <td>6.0</td>\n      <td>2.0</td>\n    </tr>\n    <tr>\n      <th>1548</th>\n      <td>Trump: The Game</td>\n      <td>1824</td>\n      <td>[Auction/Bidding:2012, Memory:2047, Roll / Spi...</td>\n      <td>[Economic:1021, Memory:1045, Movies / TV / Rad...</td>\n      <td>1.7000</td>\n      <td>4.0</td>\n      <td>3.0</td>\n      <td>4.0</td>\n      <td>3.0</td>\n    </tr>\n    <tr>\n      <th>78105</th>\n      <td>Carthago: Merchants &amp; Guilds</td>\n      <td>233006</td>\n      <td>[Action Points:2001, Deck, Bag, and Pool Build...</td>\n      <td>[Ancient:1050, Card Game:1002, Economic:1021]</td>\n      <td>2.9565</td>\n      <td>4.0</td>\n      <td>2.0</td>\n      <td>4.0</td>\n      <td>2.0</td>\n    </tr>\n    <tr>\n      <th>74435</th>\n      <td>Food Truck Champion</td>\n      <td>213661</td>\n      <td>[Card Drafting:2041, Follow:2843, Hand Managem...</td>\n      <td>[Card Game:1002, Economic:1021, Industry / Man...</td>\n      <td>2.5556</td>\n      <td>5.0</td>\n      <td>2.0</td>\n      <td>5.0</td>\n      <td>2.0</td>\n    </tr>\n    <tr>\n      <th>51571</th>\n      <td>Cover Your Assets</td>\n      <td>121193</td>\n      <td>[Hand Management:2040, Set Collection:2004, Ta...</td>\n      <td>[Card Game:1002, Economic:1021]</td>\n      <td>1.1379</td>\n      <td>6.0</td>\n      <td>2.0</td>\n      <td>6.0</td>\n      <td>2.0</td>\n    </tr>\n    <tr>\n      <th>47905</th>\n      <td>Mundus Novus</td>\n      <td>103686</td>\n      <td>[Card Drafting:2041, Hand Management:2040, Set...</td>\n      <td>[Card Game:1002, Economic:1021, Nautical:1008,...</td>\n      <td>2.1845</td>\n      <td>4.0</td>\n      <td>4.0</td>\n      <td>6.0</td>\n      <td>2.0</td>\n    </tr>\n    <tr>\n      <th>378</th>\n      <td>Alhambra: The Card Game</td>\n      <td>431</td>\n      <td>[Area Majority / Influence:2080, Card Drafting...</td>\n      <td>[Arabian:1052, Card Game:1002, City Building:1...</td>\n      <td>1.7234</td>\n      <td>6.0</td>\n      <td>2.0</td>\n      <td>6.0</td>\n      <td>2.0</td>\n    </tr>\n    <tr>\n      <th>27911</th>\n      <td>Merchants</td>\n      <td>32114</td>\n      <td>[Hand Management:2040, Set Collection:2004, St...</td>\n      <td>[Card Game:1002, Economic:1021, Nautical:1008,...</td>\n      <td>1.7308</td>\n      <td>4.0</td>\n      <td>4.0</td>\n      <td>4.0</td>\n      <td>2.0</td>\n    </tr>\n    <tr>\n      <th>27842</th>\n      <td>Monopoly: Electronic Banking</td>\n      <td>32032</td>\n      <td>[Auction/Bidding:2012, Roll / Spin and Move:20...</td>\n      <td>[Economic:1021, Electronic:1072, Negotiation:1...</td>\n      <td>1.9167</td>\n      <td>6.0</td>\n      <td>2.0</td>\n      <td>6.0</td>\n      <td>2.0</td>\n    </tr>\n    <tr>\n      <th>25003</th>\n      <td>Before the Wind</td>\n      <td>28723</td>\n      <td>[Auction/Bidding:2012, Card Drafting:2041, Han...</td>\n      <td>[Card Game:1002, Economic:1021, Nautical:1008]</td>\n      <td>2.5914</td>\n      <td>4.0</td>\n      <td>4.0</td>\n      <td>4.0</td>\n      <td>3.0</td>\n    </tr>\n    <tr>\n      <th>35576</th>\n      <td>Monopoly City</td>\n      <td>41186</td>\n      <td>[Auction/Bidding:2012, Dice Rolling:2072, Roll...</td>\n      <td>[City Building:1029, Economic:1021, Electronic...</td>\n      <td>2.1111</td>\n      <td>4.0</td>\n      <td>3.0</td>\n      <td>6.0</td>\n      <td>2.0</td>\n    </tr>\n    <tr>\n      <th>1638</th>\n      <td>Anti-Monopoly</td>\n      <td>1931</td>\n      <td>[Auction/Bidding:2012, Roll / Spin and Move:20...</td>\n      <td>[Economic:1021]</td>\n      <td>1.6061</td>\n      <td>6.0</td>\n      <td>2.0</td>\n      <td>6.0</td>\n      <td>2.0</td>\n    </tr>\n  </tbody>\n</table>\n</div>"
     },
     "execution_count": 56,
     "metadata": {},
     "output_type": "execute_result"
    }
   ],
   "source": [
    "# Family: Catan, Monopoly, UNO, Ticket to Ride\n",
    "analyze(\"USER_1\")"
   ],
   "metadata": {
    "collapsed": false,
    "pycharm": {
     "name": "#%%\n"
    }
   }
  },
  {
   "cell_type": "code",
   "execution_count": 57,
   "outputs": [
    {
     "name": "stdout",
     "output_type": "stream",
     "text": [
      "Metric value: [1.95       1.62857143 0.68       0.93797174 5.19654317]\n"
     ]
    },
    {
     "data": {
      "text/plain": "                                      name  bgg_id  \\\n42845                              Eclipse   72125   \n63412          Star Wars: Imperial Assault  164153   \n27625      BattleTech Introductory Box Set   31759   \n80878  Eclipse: Second Dawn for the Galaxy  246900   \n69475                 Star Wars: Rebellion  187645   \n2401                              Car Wars    2795   \n73466                   The Edge: Dawnfall  207729   \n53975                      Duel of Ages II  129459   \n25340                                 Dust   29109   \n1443                             Gladiator    1693   \n70491                            Cry Havoc  192457   \n78125    Twilight Imperium: Fourth Edition  233078   \n66213                      Forbidden Stars  175155   \n47965    Star Wars: X-Wing Miniatures Game  103885   \n215                         Circus Maximus     244   \n21977                           Tannhäuser   25261   \n59566   Alien vs Predator: The Hunt Begins  149896   \n23                       Twilight Imperium      24   \n19854            StarCraft: The Board Game   22827   \n4515                                  Ogre    5206   \n\n                                                mechanic  \\\n42845  [Area Majority / Influence:2080, Dice Rolling:...   \n63412  [Dice Rolling:2072, Die Icon Resolution:2856, ...   \n27625  [Dice Rolling:2072, Hexagon Grid:2026, Variabl...   \n80878  [Alliances:2916, Area Majority / Influence:208...   \n69475  [Area Majority / Influence:2080, Area Movement...   \n2401   [Dice Rolling:2072, Grid Movement:2676, Impuls...   \n73466  [Area Majority / Influence:2080, Cooperative G...   \n53975  [Grid Movement:2676, Hexagon Grid:2026, Line o...   \n25340  [Area Majority / Influence:2080, Dice Rolling:...   \n1443   [Action Queue:2689, Critical Hits and Failures...   \n70491  [Area Majority / Influence:2080, Area Movement...   \n78125  [Action Drafting:2838, Area Majority / Influen...   \n66213  [Area Majority / Influence:2080, Area Movement...   \n47965  [Action Queue:2689, Critical Hits and Failures...   \n215    [Action Points:2001, Action Queue:2689, Bettin...   \n21977  [Dice Rolling:2072, Line of Sight:2975, Point ...   \n59566  [Action Points:2001, Area Movement:2046, Dice ...   \n23     [Dice Rolling:2072, Hexagon Grid:2026, Modular...   \n19854  [Area Majority / Influence:2080, Area Movement...   \n4515   [Dice Rolling:2072, Grid Movement:2676, Hexago...   \n\n                                                category  complexity  \\\n42845  [Civilization:1015, Fighting:1046, Science Fic...      3.7002   \n63412  [Adventure:1022, Exploration:1020, Fighting:10...      3.3099   \n27625  [Fighting:1046, Miniatures:1047, Science Ficti...      3.5395   \n80878  [Civilization:1015, Science Fiction:1016, Spac...      3.5341   \n69475  [Civil War:1102, Fighting:1046, Miniatures:104...      3.7252   \n2401   [Fighting:1046, Miniatures:1047, Racing:1031, ...      3.0976   \n73466  [Fantasy:1010, Fighting:1046, Miniatures:1047,...      3.0000   \n53975  [Adventure:1022, Fantasy:1010, Fighting:1046, ...      3.4111   \n25340  [Miniatures:1047, Science Fiction:1016, Wargam...      2.6133   \n1443   [Ancient:1050, Economic:1021, Fighting:1046, W...      2.9184   \n70491  [Fighting:1046, Miniatures:1047, Science Ficti...      3.2686   \n78125  [Civilization:1015, Economic:1021, Exploration...      4.2416   \n66213  [Bluffing:1023, Fighting:1046, Miniatures:1047...      3.8299   \n47965  [Aviation / Flight:2650, Bluffing:1023, Collec...      2.4884   \n215    [Ancient:1050, Fighting:1046, Racing:1031, War...      2.6485   \n21977  [Fantasy:1010, Fighting:1046, Horror:1024, Min...      2.7309   \n59566  [Miniatures:1047, Movies / TV / Radio theme:10...      3.4583   \n23     [Civilization:1015, Negotiation:1026, Politica...      3.4906   \n19854  [Civilization:1015, Fighting:1046, Miniatures:...      3.8486   \n4515   [Fighting:1046, Science Fiction:1016, Wargame:...      2.3469   \n\n       max_players_best  min_players_best  max_players_rec  min_players_rec  \n42845               6.0               4.0              6.0              2.0  \n63412               5.0               2.0              5.0              2.0  \n27625               6.0               2.0              6.0              2.0  \n80878               6.0               4.0              6.0              2.0  \n69475               2.0               2.0              2.0              2.0  \n2401                4.0               4.0              8.0              2.0  \n73466               2.0               2.0              4.0              1.0  \n53975               4.0               2.0              6.0              2.0  \n25340               6.0               4.0              6.0              2.0  \n1443                6.0               2.0              6.0              2.0  \n70491               4.0               4.0              4.0              2.0  \n78125               6.0               6.0              6.0              3.0  \n66213               3.0               3.0              4.0              2.0  \n47965               2.0               2.0              3.0              2.0  \n215                 8.0               4.0              9.0              4.0  \n21977               2.0               2.0              2.0              2.0  \n59566               3.0               3.0              3.0              2.0  \n23                  6.0               2.0              6.0              2.0  \n19854               4.0               4.0              6.0              2.0  \n4515                2.0               2.0              3.0              1.0  ",
      "text/html": "<div>\n<style scoped>\n    .dataframe tbody tr th:only-of-type {\n        vertical-align: middle;\n    }\n\n    .dataframe tbody tr th {\n        vertical-align: top;\n    }\n\n    .dataframe thead th {\n        text-align: right;\n    }\n</style>\n<table border=\"1\" class=\"dataframe\">\n  <thead>\n    <tr style=\"text-align: right;\">\n      <th></th>\n      <th>name</th>\n      <th>bgg_id</th>\n      <th>mechanic</th>\n      <th>category</th>\n      <th>complexity</th>\n      <th>max_players_best</th>\n      <th>min_players_best</th>\n      <th>max_players_rec</th>\n      <th>min_players_rec</th>\n    </tr>\n  </thead>\n  <tbody>\n    <tr>\n      <th>42845</th>\n      <td>Eclipse</td>\n      <td>72125</td>\n      <td>[Area Majority / Influence:2080, Dice Rolling:...</td>\n      <td>[Civilization:1015, Fighting:1046, Science Fic...</td>\n      <td>3.7002</td>\n      <td>6.0</td>\n      <td>4.0</td>\n      <td>6.0</td>\n      <td>2.0</td>\n    </tr>\n    <tr>\n      <th>63412</th>\n      <td>Star Wars: Imperial Assault</td>\n      <td>164153</td>\n      <td>[Dice Rolling:2072, Die Icon Resolution:2856, ...</td>\n      <td>[Adventure:1022, Exploration:1020, Fighting:10...</td>\n      <td>3.3099</td>\n      <td>5.0</td>\n      <td>2.0</td>\n      <td>5.0</td>\n      <td>2.0</td>\n    </tr>\n    <tr>\n      <th>27625</th>\n      <td>BattleTech Introductory Box Set</td>\n      <td>31759</td>\n      <td>[Dice Rolling:2072, Hexagon Grid:2026, Variabl...</td>\n      <td>[Fighting:1046, Miniatures:1047, Science Ficti...</td>\n      <td>3.5395</td>\n      <td>6.0</td>\n      <td>2.0</td>\n      <td>6.0</td>\n      <td>2.0</td>\n    </tr>\n    <tr>\n      <th>80878</th>\n      <td>Eclipse: Second Dawn for the Galaxy</td>\n      <td>246900</td>\n      <td>[Alliances:2916, Area Majority / Influence:208...</td>\n      <td>[Civilization:1015, Science Fiction:1016, Spac...</td>\n      <td>3.5341</td>\n      <td>6.0</td>\n      <td>4.0</td>\n      <td>6.0</td>\n      <td>2.0</td>\n    </tr>\n    <tr>\n      <th>69475</th>\n      <td>Star Wars: Rebellion</td>\n      <td>187645</td>\n      <td>[Area Majority / Influence:2080, Area Movement...</td>\n      <td>[Civil War:1102, Fighting:1046, Miniatures:104...</td>\n      <td>3.7252</td>\n      <td>2.0</td>\n      <td>2.0</td>\n      <td>2.0</td>\n      <td>2.0</td>\n    </tr>\n    <tr>\n      <th>2401</th>\n      <td>Car Wars</td>\n      <td>2795</td>\n      <td>[Dice Rolling:2072, Grid Movement:2676, Impuls...</td>\n      <td>[Fighting:1046, Miniatures:1047, Racing:1031, ...</td>\n      <td>3.0976</td>\n      <td>4.0</td>\n      <td>4.0</td>\n      <td>8.0</td>\n      <td>2.0</td>\n    </tr>\n    <tr>\n      <th>73466</th>\n      <td>The Edge: Dawnfall</td>\n      <td>207729</td>\n      <td>[Area Majority / Influence:2080, Cooperative G...</td>\n      <td>[Fantasy:1010, Fighting:1046, Miniatures:1047,...</td>\n      <td>3.0000</td>\n      <td>2.0</td>\n      <td>2.0</td>\n      <td>4.0</td>\n      <td>1.0</td>\n    </tr>\n    <tr>\n      <th>53975</th>\n      <td>Duel of Ages II</td>\n      <td>129459</td>\n      <td>[Grid Movement:2676, Hexagon Grid:2026, Line o...</td>\n      <td>[Adventure:1022, Fantasy:1010, Fighting:1046, ...</td>\n      <td>3.4111</td>\n      <td>4.0</td>\n      <td>2.0</td>\n      <td>6.0</td>\n      <td>2.0</td>\n    </tr>\n    <tr>\n      <th>25340</th>\n      <td>Dust</td>\n      <td>29109</td>\n      <td>[Area Majority / Influence:2080, Dice Rolling:...</td>\n      <td>[Miniatures:1047, Science Fiction:1016, Wargam...</td>\n      <td>2.6133</td>\n      <td>6.0</td>\n      <td>4.0</td>\n      <td>6.0</td>\n      <td>2.0</td>\n    </tr>\n    <tr>\n      <th>1443</th>\n      <td>Gladiator</td>\n      <td>1693</td>\n      <td>[Action Queue:2689, Critical Hits and Failures...</td>\n      <td>[Ancient:1050, Economic:1021, Fighting:1046, W...</td>\n      <td>2.9184</td>\n      <td>6.0</td>\n      <td>2.0</td>\n      <td>6.0</td>\n      <td>2.0</td>\n    </tr>\n    <tr>\n      <th>70491</th>\n      <td>Cry Havoc</td>\n      <td>192457</td>\n      <td>[Area Majority / Influence:2080, Area Movement...</td>\n      <td>[Fighting:1046, Miniatures:1047, Science Ficti...</td>\n      <td>3.2686</td>\n      <td>4.0</td>\n      <td>4.0</td>\n      <td>4.0</td>\n      <td>2.0</td>\n    </tr>\n    <tr>\n      <th>78125</th>\n      <td>Twilight Imperium: Fourth Edition</td>\n      <td>233078</td>\n      <td>[Action Drafting:2838, Area Majority / Influen...</td>\n      <td>[Civilization:1015, Economic:1021, Exploration...</td>\n      <td>4.2416</td>\n      <td>6.0</td>\n      <td>6.0</td>\n      <td>6.0</td>\n      <td>3.0</td>\n    </tr>\n    <tr>\n      <th>66213</th>\n      <td>Forbidden Stars</td>\n      <td>175155</td>\n      <td>[Area Majority / Influence:2080, Area Movement...</td>\n      <td>[Bluffing:1023, Fighting:1046, Miniatures:1047...</td>\n      <td>3.8299</td>\n      <td>3.0</td>\n      <td>3.0</td>\n      <td>4.0</td>\n      <td>2.0</td>\n    </tr>\n    <tr>\n      <th>47965</th>\n      <td>Star Wars: X-Wing Miniatures Game</td>\n      <td>103885</td>\n      <td>[Action Queue:2689, Critical Hits and Failures...</td>\n      <td>[Aviation / Flight:2650, Bluffing:1023, Collec...</td>\n      <td>2.4884</td>\n      <td>2.0</td>\n      <td>2.0</td>\n      <td>3.0</td>\n      <td>2.0</td>\n    </tr>\n    <tr>\n      <th>215</th>\n      <td>Circus Maximus</td>\n      <td>244</td>\n      <td>[Action Points:2001, Action Queue:2689, Bettin...</td>\n      <td>[Ancient:1050, Fighting:1046, Racing:1031, War...</td>\n      <td>2.6485</td>\n      <td>8.0</td>\n      <td>4.0</td>\n      <td>9.0</td>\n      <td>4.0</td>\n    </tr>\n    <tr>\n      <th>21977</th>\n      <td>Tannhäuser</td>\n      <td>25261</td>\n      <td>[Dice Rolling:2072, Line of Sight:2975, Point ...</td>\n      <td>[Fantasy:1010, Fighting:1046, Horror:1024, Min...</td>\n      <td>2.7309</td>\n      <td>2.0</td>\n      <td>2.0</td>\n      <td>2.0</td>\n      <td>2.0</td>\n    </tr>\n    <tr>\n      <th>59566</th>\n      <td>Alien vs Predator: The Hunt Begins</td>\n      <td>149896</td>\n      <td>[Action Points:2001, Area Movement:2046, Dice ...</td>\n      <td>[Miniatures:1047, Movies / TV / Radio theme:10...</td>\n      <td>3.4583</td>\n      <td>3.0</td>\n      <td>3.0</td>\n      <td>3.0</td>\n      <td>2.0</td>\n    </tr>\n    <tr>\n      <th>23</th>\n      <td>Twilight Imperium</td>\n      <td>24</td>\n      <td>[Dice Rolling:2072, Hexagon Grid:2026, Modular...</td>\n      <td>[Civilization:1015, Negotiation:1026, Politica...</td>\n      <td>3.4906</td>\n      <td>6.0</td>\n      <td>2.0</td>\n      <td>6.0</td>\n      <td>2.0</td>\n    </tr>\n    <tr>\n      <th>19854</th>\n      <td>StarCraft: The Board Game</td>\n      <td>22827</td>\n      <td>[Area Majority / Influence:2080, Area Movement...</td>\n      <td>[Civilization:1015, Fighting:1046, Miniatures:...</td>\n      <td>3.8486</td>\n      <td>4.0</td>\n      <td>4.0</td>\n      <td>6.0</td>\n      <td>2.0</td>\n    </tr>\n    <tr>\n      <th>4515</th>\n      <td>Ogre</td>\n      <td>5206</td>\n      <td>[Dice Rolling:2072, Grid Movement:2676, Hexago...</td>\n      <td>[Fighting:1046, Science Fiction:1016, Wargame:...</td>\n      <td>2.3469</td>\n      <td>2.0</td>\n      <td>2.0</td>\n      <td>3.0</td>\n      <td>1.0</td>\n    </tr>\n  </tbody>\n</table>\n</div>"
     },
     "execution_count": 57,
     "metadata": {},
     "output_type": "execute_result"
    }
   ],
   "source": [
    "# Negative interactions: Game of Thrones, War of the Ring, Twilight Imperium (3rd edition),\n",
    "# Battlestar Galactica, Scythe\n",
    "analyze(\"USER_2\")"
   ],
   "metadata": {
    "collapsed": false,
    "pycharm": {
     "name": "#%%\n"
    }
   }
  },
  {
   "cell_type": "code",
   "execution_count": 58,
   "outputs": [
    {
     "name": "stdout",
     "output_type": "stream",
     "text": [
      "Metric value: [2.4        1.95       0.75       0.70490904 5.80490904]\n"
     ]
    },
    {
     "data": {
      "text/plain": "                                    name  bgg_id  \\\n55718                           New Dawn  135654   \n72165         Agricola (Revised Edition)  200680   \n75260             Empires of the Void II  218509   \n64506                      Letter Tycoon  169147   \n58316               Three Kingdoms Redux  145371   \n22259             If Wishes Were Fishes!   25584   \n87376            Anachrony: Infinity Box  278292   \n64197                  Terraforming Mars  167791   \n88513                    The Magnificent  283863   \n65408                            Mombasa  172386   \n56334                            Praetor  137776   \n75737                 Donning the Purple  221155   \n58776                          La Granja  146886   \n37487                      High Frontier   47055   \n43673                         Key Market   78733   \n54974  Tesla vs. Edison: War of Currents  132544   \n295                 Advance to Boardwalk     334   \n71227   The Godfather: Corleone's Empire  195539   \n78452             Mystery of the Temples  234691   \n45765                          Hegemonic   92666   \n\n                                                mechanic  \\\n55718  [Area Majority / Influence:2080, Dice Rolling:...   \n72165  [Enclosure:2043, Hand Management:2040, Worker ...   \n75260  [Action Points:2001, Area Majority / Influence...   \n64506  [Commodity Speculation:2013, Hand Management:2...   \n58316  [Area Majority / Influence:2080, Auction/Biddi...   \n22259  [Area Majority / Influence:2080, Card Drafting...   \n87376  [Action Points:2001, Card Drafting:2041, Dice ...   \n64197  [Drafting:2984, End Game Bonuses:2875, Hand Ma...   \n88513  [Card Drafting:2041, Contracts:2912, Dice Roll...   \n65408  [Action Queue:2689, Area Majority / Influence:...   \n56334  [Drafting:2984, Market:2900, Modular Board:201...   \n75737  [Area Majority / Influence:2080, Dice Rolling:...   \n58776  [Area Majority / Influence:2080, Automatic Res...   \n37487  [Auction/Bidding:2012, Dice Rolling:2072, Hand...   \n43673  [Area Majority / Influence:2080, Area Movement...   \n54974  [Action Points:2001, Commodity Speculation:201...   \n295    [Area Majority / Influence:2080, Dice Rolling:...   \n71227  [Area Majority / Influence:2080, Auction/Biddi...   \n78452  [Action Queue:2689, Area Majority / Influence:...   \n45765  [Area Majority / Influence:2080, Hand Manageme...   \n\n                                                category  complexity  \\\n55718  [Economic:1021, Science Fiction:1016, Space Ex...      3.0244   \n72165        [Animals:1089, Economic:1021, Farming:1013]      3.5147   \n75260  [Civilization:1015, Economic:1021, Exploration...      3.4556   \n64506                    [Economic:1021, Word Game:1025]      2.0400   \n58316  [Ancient:1050, Civilization:1015, Economic:102...      4.0385   \n22259                      [Animals:1089, Economic:1021]      1.9487   \n87376  [Economic:1021, Miniatures:1047, Science Ficti...      4.0000   \n64197  [Economic:1021, Environmental:1084, Industry /...      3.2428   \n88513                         [Dice:1017, Economic:1021]      3.1792   \n65408                                    [Economic:1021]      3.8961   \n56334  [Ancient:1050, City Building:1029, Economic:1021]      3.0000   \n75737  [Ancient:1050, Civilization:1015, Economic:102...      3.0357   \n58776                      [Economic:1021, Farming:1013]      3.5826   \n37487  [Economic:1021, Industry / Manufacturing:1088,...      4.3319   \n43673       [Economic:1021, Farming:1013, Medieval:1035]      3.5122   \n54974  [Bluffing:1023, Card Game:1002, Economic:1021,...      3.2330   \n295                                      [Economic:1021]      1.5507   \n71227  [Economic:1021, Mafia:1033, Movies / TV / Radi...      2.6154   \n78452                      [Economic:1021, Fantasy:1010]      2.4000   \n45765  [Civilization:1015, Economic:1021, Science Fic...      3.6727   \n\n       max_players_best  min_players_best  max_players_rec  min_players_rec  \n55718               4.0               2.0              4.0              2.0  \n72165               4.0               4.0              4.0              1.0  \n75260               4.0               3.0              5.0              2.0  \n64506               5.0               2.0              5.0              2.0  \n58316               3.0               3.0              3.0              3.0  \n22259               3.0               3.0              5.0              2.0  \n87376               4.0               1.0              4.0              1.0  \n64197               3.0               3.0              4.0              1.0  \n88513               4.0               1.0              4.0              1.0  \n65408               4.0               4.0              4.0              2.0  \n56334               5.0               2.0              4.0              2.0  \n75737               3.0               3.0              3.0              1.0  \n58776               3.0               3.0              4.0              1.0  \n37487               4.0               3.0              5.0              1.0  \n43673               4.0               2.0              4.0              2.0  \n54974               5.0               2.0              5.0              3.0  \n295                 4.0               2.0              4.0              2.0  \n71227               4.0               4.0              5.0              2.0  \n78452               4.0               2.0              4.0              2.0  \n45765               6.0               2.0              6.0              2.0  ",
      "text/html": "<div>\n<style scoped>\n    .dataframe tbody tr th:only-of-type {\n        vertical-align: middle;\n    }\n\n    .dataframe tbody tr th {\n        vertical-align: top;\n    }\n\n    .dataframe thead th {\n        text-align: right;\n    }\n</style>\n<table border=\"1\" class=\"dataframe\">\n  <thead>\n    <tr style=\"text-align: right;\">\n      <th></th>\n      <th>name</th>\n      <th>bgg_id</th>\n      <th>mechanic</th>\n      <th>category</th>\n      <th>complexity</th>\n      <th>max_players_best</th>\n      <th>min_players_best</th>\n      <th>max_players_rec</th>\n      <th>min_players_rec</th>\n    </tr>\n  </thead>\n  <tbody>\n    <tr>\n      <th>55718</th>\n      <td>New Dawn</td>\n      <td>135654</td>\n      <td>[Area Majority / Influence:2080, Dice Rolling:...</td>\n      <td>[Economic:1021, Science Fiction:1016, Space Ex...</td>\n      <td>3.0244</td>\n      <td>4.0</td>\n      <td>2.0</td>\n      <td>4.0</td>\n      <td>2.0</td>\n    </tr>\n    <tr>\n      <th>72165</th>\n      <td>Agricola (Revised Edition)</td>\n      <td>200680</td>\n      <td>[Enclosure:2043, Hand Management:2040, Worker ...</td>\n      <td>[Animals:1089, Economic:1021, Farming:1013]</td>\n      <td>3.5147</td>\n      <td>4.0</td>\n      <td>4.0</td>\n      <td>4.0</td>\n      <td>1.0</td>\n    </tr>\n    <tr>\n      <th>75260</th>\n      <td>Empires of the Void II</td>\n      <td>218509</td>\n      <td>[Action Points:2001, Area Majority / Influence...</td>\n      <td>[Civilization:1015, Economic:1021, Exploration...</td>\n      <td>3.4556</td>\n      <td>4.0</td>\n      <td>3.0</td>\n      <td>5.0</td>\n      <td>2.0</td>\n    </tr>\n    <tr>\n      <th>64506</th>\n      <td>Letter Tycoon</td>\n      <td>169147</td>\n      <td>[Commodity Speculation:2013, Hand Management:2...</td>\n      <td>[Economic:1021, Word Game:1025]</td>\n      <td>2.0400</td>\n      <td>5.0</td>\n      <td>2.0</td>\n      <td>5.0</td>\n      <td>2.0</td>\n    </tr>\n    <tr>\n      <th>58316</th>\n      <td>Three Kingdoms Redux</td>\n      <td>145371</td>\n      <td>[Area Majority / Influence:2080, Auction/Biddi...</td>\n      <td>[Ancient:1050, Civilization:1015, Economic:102...</td>\n      <td>4.0385</td>\n      <td>3.0</td>\n      <td>3.0</td>\n      <td>3.0</td>\n      <td>3.0</td>\n    </tr>\n    <tr>\n      <th>22259</th>\n      <td>If Wishes Were Fishes!</td>\n      <td>25584</td>\n      <td>[Area Majority / Influence:2080, Card Drafting...</td>\n      <td>[Animals:1089, Economic:1021]</td>\n      <td>1.9487</td>\n      <td>3.0</td>\n      <td>3.0</td>\n      <td>5.0</td>\n      <td>2.0</td>\n    </tr>\n    <tr>\n      <th>87376</th>\n      <td>Anachrony: Infinity Box</td>\n      <td>278292</td>\n      <td>[Action Points:2001, Card Drafting:2041, Dice ...</td>\n      <td>[Economic:1021, Miniatures:1047, Science Ficti...</td>\n      <td>4.0000</td>\n      <td>4.0</td>\n      <td>1.0</td>\n      <td>4.0</td>\n      <td>1.0</td>\n    </tr>\n    <tr>\n      <th>64197</th>\n      <td>Terraforming Mars</td>\n      <td>167791</td>\n      <td>[Drafting:2984, End Game Bonuses:2875, Hand Ma...</td>\n      <td>[Economic:1021, Environmental:1084, Industry /...</td>\n      <td>3.2428</td>\n      <td>3.0</td>\n      <td>3.0</td>\n      <td>4.0</td>\n      <td>1.0</td>\n    </tr>\n    <tr>\n      <th>88513</th>\n      <td>The Magnificent</td>\n      <td>283863</td>\n      <td>[Card Drafting:2041, Contracts:2912, Dice Roll...</td>\n      <td>[Dice:1017, Economic:1021]</td>\n      <td>3.1792</td>\n      <td>4.0</td>\n      <td>1.0</td>\n      <td>4.0</td>\n      <td>1.0</td>\n    </tr>\n    <tr>\n      <th>65408</th>\n      <td>Mombasa</td>\n      <td>172386</td>\n      <td>[Action Queue:2689, Area Majority / Influence:...</td>\n      <td>[Economic:1021]</td>\n      <td>3.8961</td>\n      <td>4.0</td>\n      <td>4.0</td>\n      <td>4.0</td>\n      <td>2.0</td>\n    </tr>\n    <tr>\n      <th>56334</th>\n      <td>Praetor</td>\n      <td>137776</td>\n      <td>[Drafting:2984, Market:2900, Modular Board:201...</td>\n      <td>[Ancient:1050, City Building:1029, Economic:1021]</td>\n      <td>3.0000</td>\n      <td>5.0</td>\n      <td>2.0</td>\n      <td>4.0</td>\n      <td>2.0</td>\n    </tr>\n    <tr>\n      <th>75737</th>\n      <td>Donning the Purple</td>\n      <td>221155</td>\n      <td>[Area Majority / Influence:2080, Dice Rolling:...</td>\n      <td>[Ancient:1050, Civilization:1015, Economic:102...</td>\n      <td>3.0357</td>\n      <td>3.0</td>\n      <td>3.0</td>\n      <td>3.0</td>\n      <td>1.0</td>\n    </tr>\n    <tr>\n      <th>58776</th>\n      <td>La Granja</td>\n      <td>146886</td>\n      <td>[Area Majority / Influence:2080, Automatic Res...</td>\n      <td>[Economic:1021, Farming:1013]</td>\n      <td>3.5826</td>\n      <td>3.0</td>\n      <td>3.0</td>\n      <td>4.0</td>\n      <td>1.0</td>\n    </tr>\n    <tr>\n      <th>37487</th>\n      <td>High Frontier</td>\n      <td>47055</td>\n      <td>[Auction/Bidding:2012, Dice Rolling:2072, Hand...</td>\n      <td>[Economic:1021, Industry / Manufacturing:1088,...</td>\n      <td>4.3319</td>\n      <td>4.0</td>\n      <td>3.0</td>\n      <td>5.0</td>\n      <td>1.0</td>\n    </tr>\n    <tr>\n      <th>43673</th>\n      <td>Key Market</td>\n      <td>78733</td>\n      <td>[Area Majority / Influence:2080, Area Movement...</td>\n      <td>[Economic:1021, Farming:1013, Medieval:1035]</td>\n      <td>3.5122</td>\n      <td>4.0</td>\n      <td>2.0</td>\n      <td>4.0</td>\n      <td>2.0</td>\n    </tr>\n    <tr>\n      <th>54974</th>\n      <td>Tesla vs. Edison: War of Currents</td>\n      <td>132544</td>\n      <td>[Action Points:2001, Commodity Speculation:201...</td>\n      <td>[Bluffing:1023, Card Game:1002, Economic:1021,...</td>\n      <td>3.2330</td>\n      <td>5.0</td>\n      <td>2.0</td>\n      <td>5.0</td>\n      <td>3.0</td>\n    </tr>\n    <tr>\n      <th>295</th>\n      <td>Advance to Boardwalk</td>\n      <td>334</td>\n      <td>[Area Majority / Influence:2080, Dice Rolling:...</td>\n      <td>[Economic:1021]</td>\n      <td>1.5507</td>\n      <td>4.0</td>\n      <td>2.0</td>\n      <td>4.0</td>\n      <td>2.0</td>\n    </tr>\n    <tr>\n      <th>71227</th>\n      <td>The Godfather: Corleone's Empire</td>\n      <td>195539</td>\n      <td>[Area Majority / Influence:2080, Auction/Biddi...</td>\n      <td>[Economic:1021, Mafia:1033, Movies / TV / Radi...</td>\n      <td>2.6154</td>\n      <td>4.0</td>\n      <td>4.0</td>\n      <td>5.0</td>\n      <td>2.0</td>\n    </tr>\n    <tr>\n      <th>78452</th>\n      <td>Mystery of the Temples</td>\n      <td>234691</td>\n      <td>[Action Queue:2689, Area Majority / Influence:...</td>\n      <td>[Economic:1021, Fantasy:1010]</td>\n      <td>2.4000</td>\n      <td>4.0</td>\n      <td>2.0</td>\n      <td>4.0</td>\n      <td>2.0</td>\n    </tr>\n    <tr>\n      <th>45765</th>\n      <td>Hegemonic</td>\n      <td>92666</td>\n      <td>[Area Majority / Influence:2080, Hand Manageme...</td>\n      <td>[Civilization:1015, Economic:1021, Science Fic...</td>\n      <td>3.6727</td>\n      <td>6.0</td>\n      <td>2.0</td>\n      <td>6.0</td>\n      <td>2.0</td>\n    </tr>\n  </tbody>\n</table>\n</div>"
     },
     "execution_count": 58,
     "metadata": {},
     "output_type": "execute_result"
    }
   ],
   "source": [
    "# Worker placement: Viticulture, Agricola, Feast for Odin, West Kingdom\n",
    "analyze(\"USER_3\")"
   ],
   "metadata": {
    "collapsed": false,
    "pycharm": {
     "name": "#%%\n"
    }
   }
  },
  {
   "cell_type": "code",
   "execution_count": 59,
   "outputs": [
    {
     "name": "stdout",
     "output_type": "stream",
     "text": [
      "Metric value: [1.92857143 1.38461538 0.75294118 0.84243732 4.90856531]\n"
     ]
    },
    {
     "data": {
      "text/plain": "                                         name  bgg_id  \\\n95909              7 Wonders (Second Edition)  316377   \n378                   Alhambra: The Card Game     431   \n74435                     Food Truck Champion  213661   \n51571                       Cover Your Assets  121193   \n33089                                  Byzanz   38032   \n86133                  It's a Wonderful World  271324   \n37979  Legacy: The Testament of Duke de Crecy   52461   \n52161                            City of Iron  123499   \n78051                  Century: Golem Edition  232832   \n78105            Carthago: Merchants & Guilds  233006   \n73887                     Century: Spice Road  209685   \n71269               Bloodborne: The Card Game  195856   \n47905                            Mundus Novus  103686   \n78778                 Cerebria: The Card Game  236304   \n42942                                Braggart   72420   \n34677        A Game of Thrones: The Card Game   39953   \n71215            City of Iron: Second Edition  195503   \n44917                               Nightfall   88408   \n67364                                  Unfair  179172   \n91091         Dungeon Mayhem: Monster Madness  295577   \n\n                                                mechanic  \\\n95909  [Card Drafting:2041, Drafting:2984, Hand Manag...   \n378    [Area Majority / Influence:2080, Card Drafting...   \n74435  [Card Drafting:2041, Follow:2843, Hand Managem...   \n51571  [Hand Management:2040, Set Collection:2004, Ta...   \n33089  [Auction/Bidding:2012, Auction: Turn Order Unt...   \n86133  [Card Drafting:2041, Drafting:2984, End Game B...   \n37979  [Card Drafting:2041, End Game Bonuses:2875, Ha...   \n52161  [Action Points:2001, Area Majority / Influence...   \n78051  [Action Retrieval:2839, Card Drafting:2041, Co...   \n78105  [Action Points:2001, Deck, Bag, and Pool Build...   \n73887  [Action Retrieval:2839, Card Drafting:2041, Co...   \n71269  [Card Drafting:2041, Dice Rolling:2072, Hand M...   \n47905  [Card Drafting:2041, Hand Management:2040, Set...   \n78778  [Card Drafting:2041, Hand Management:2040, Set...   \n42942  [Card Drafting:2041, Hand Management:2040, Set...   \n34677  [Card Drafting:2041, Hand Management:2040, Sim...   \n71215  [Area Majority / Influence:2080, Deck, Bag, an...   \n44917  [Card Drafting:2041, Deck, Bag, and Pool Build...   \n67364  [Card Drafting:2041, Hand Management:2040, Inc...   \n91091  [Hand Management:2040, Player Elimination:2685...   \n\n                                                category  complexity  \\\n95909  [Ancient:1050, Card Game:1002, City Building:1...      2.1778   \n378    [Arabian:1052, Card Game:1002, City Building:1...      1.7234   \n74435  [Card Game:1002, Economic:1021, Industry / Man...      2.5556   \n51571                    [Card Game:1002, Economic:1021]      1.1379   \n33089  [Ancient:1050, Arabian:1052, Card Game:1002, E...      1.6145   \n86133  [Card Game:1002, Civilization:1015, Economic:1...      2.2895   \n37979  [Age of Reason:2726, Card Game:1002, Economic:...      2.7080   \n52161  [Card Game:1002, City Building:1029, Civilizat...      3.2353   \n78051      [Card Game:1002, Economic:1021, Fantasy:1010]      1.6706   \n78105      [Ancient:1050, Card Game:1002, Economic:1021]      2.9565   \n73887     [Card Game:1002, Economic:1021, Medieval:1035]      1.7835   \n71269  [Card Game:1002, Fantasy:1010, Horror:1024, Vi...      2.0847   \n47905  [Card Game:1002, Economic:1021, Nautical:1008,...      2.1845   \n78778                     [Card Game:1002, Fantasy:1010]      2.1429   \n42942  [Card Game:1002, Fantasy:1010, Humor:1079, Med...      1.2308   \n34677  [Card Game:1002, Collectible Components:1044, ...      3.2532   \n71215  [Card Game:1002, City Building:1029, Civilizat...      3.1667   \n44917  [Card Game:1002, Fantasy:1010, Fighting:1046, ...      2.6353   \n67364  [Card Game:1002, City Building:1029, Economic:...      2.7204   \n91091      [Card Game:1002, Fantasy:1010, Fighting:1046]      1.1000   \n\n       max_players_best  min_players_best  max_players_rec  min_players_rec  \n95909               5.0               4.0              7.0              3.0  \n378                 6.0               2.0              6.0              2.0  \n74435               5.0               2.0              5.0              2.0  \n51571               6.0               2.0              6.0              2.0  \n33089               6.0               3.0              6.0              3.0  \n86133               4.0               4.0              5.0              1.0  \n37979               4.0               1.0              4.0              1.0  \n52161               4.0               4.0              4.0              2.0  \n78051               3.0               3.0              5.0              2.0  \n78105               4.0               2.0              4.0              2.0  \n73887               4.0               3.0              5.0              2.0  \n71269               5.0               4.0              5.0              3.0  \n47905               4.0               4.0              6.0              2.0  \n78778               5.0               2.0              5.0              2.0  \n42942               6.0               2.0              6.0              2.0  \n34677               4.0               2.0              4.0              2.0  \n71215               4.0               2.0              4.0              2.0  \n44917               5.0               2.0              5.0              2.0  \n67364               4.0               4.0              5.0              2.0  \n91091               6.0               2.0              6.0              2.0  ",
      "text/html": "<div>\n<style scoped>\n    .dataframe tbody tr th:only-of-type {\n        vertical-align: middle;\n    }\n\n    .dataframe tbody tr th {\n        vertical-align: top;\n    }\n\n    .dataframe thead th {\n        text-align: right;\n    }\n</style>\n<table border=\"1\" class=\"dataframe\">\n  <thead>\n    <tr style=\"text-align: right;\">\n      <th></th>\n      <th>name</th>\n      <th>bgg_id</th>\n      <th>mechanic</th>\n      <th>category</th>\n      <th>complexity</th>\n      <th>max_players_best</th>\n      <th>min_players_best</th>\n      <th>max_players_rec</th>\n      <th>min_players_rec</th>\n    </tr>\n  </thead>\n  <tbody>\n    <tr>\n      <th>95909</th>\n      <td>7 Wonders (Second Edition)</td>\n      <td>316377</td>\n      <td>[Card Drafting:2041, Drafting:2984, Hand Manag...</td>\n      <td>[Ancient:1050, Card Game:1002, City Building:1...</td>\n      <td>2.1778</td>\n      <td>5.0</td>\n      <td>4.0</td>\n      <td>7.0</td>\n      <td>3.0</td>\n    </tr>\n    <tr>\n      <th>378</th>\n      <td>Alhambra: The Card Game</td>\n      <td>431</td>\n      <td>[Area Majority / Influence:2080, Card Drafting...</td>\n      <td>[Arabian:1052, Card Game:1002, City Building:1...</td>\n      <td>1.7234</td>\n      <td>6.0</td>\n      <td>2.0</td>\n      <td>6.0</td>\n      <td>2.0</td>\n    </tr>\n    <tr>\n      <th>74435</th>\n      <td>Food Truck Champion</td>\n      <td>213661</td>\n      <td>[Card Drafting:2041, Follow:2843, Hand Managem...</td>\n      <td>[Card Game:1002, Economic:1021, Industry / Man...</td>\n      <td>2.5556</td>\n      <td>5.0</td>\n      <td>2.0</td>\n      <td>5.0</td>\n      <td>2.0</td>\n    </tr>\n    <tr>\n      <th>51571</th>\n      <td>Cover Your Assets</td>\n      <td>121193</td>\n      <td>[Hand Management:2040, Set Collection:2004, Ta...</td>\n      <td>[Card Game:1002, Economic:1021]</td>\n      <td>1.1379</td>\n      <td>6.0</td>\n      <td>2.0</td>\n      <td>6.0</td>\n      <td>2.0</td>\n    </tr>\n    <tr>\n      <th>33089</th>\n      <td>Byzanz</td>\n      <td>38032</td>\n      <td>[Auction/Bidding:2012, Auction: Turn Order Unt...</td>\n      <td>[Ancient:1050, Arabian:1052, Card Game:1002, E...</td>\n      <td>1.6145</td>\n      <td>6.0</td>\n      <td>3.0</td>\n      <td>6.0</td>\n      <td>3.0</td>\n    </tr>\n    <tr>\n      <th>86133</th>\n      <td>It's a Wonderful World</td>\n      <td>271324</td>\n      <td>[Card Drafting:2041, Drafting:2984, End Game B...</td>\n      <td>[Card Game:1002, Civilization:1015, Economic:1...</td>\n      <td>2.2895</td>\n      <td>4.0</td>\n      <td>4.0</td>\n      <td>5.0</td>\n      <td>1.0</td>\n    </tr>\n    <tr>\n      <th>37979</th>\n      <td>Legacy: The Testament of Duke de Crecy</td>\n      <td>52461</td>\n      <td>[Card Drafting:2041, End Game Bonuses:2875, Ha...</td>\n      <td>[Age of Reason:2726, Card Game:1002, Economic:...</td>\n      <td>2.7080</td>\n      <td>4.0</td>\n      <td>1.0</td>\n      <td>4.0</td>\n      <td>1.0</td>\n    </tr>\n    <tr>\n      <th>52161</th>\n      <td>City of Iron</td>\n      <td>123499</td>\n      <td>[Action Points:2001, Area Majority / Influence...</td>\n      <td>[Card Game:1002, City Building:1029, Civilizat...</td>\n      <td>3.2353</td>\n      <td>4.0</td>\n      <td>4.0</td>\n      <td>4.0</td>\n      <td>2.0</td>\n    </tr>\n    <tr>\n      <th>78051</th>\n      <td>Century: Golem Edition</td>\n      <td>232832</td>\n      <td>[Action Retrieval:2839, Card Drafting:2041, Co...</td>\n      <td>[Card Game:1002, Economic:1021, Fantasy:1010]</td>\n      <td>1.6706</td>\n      <td>3.0</td>\n      <td>3.0</td>\n      <td>5.0</td>\n      <td>2.0</td>\n    </tr>\n    <tr>\n      <th>78105</th>\n      <td>Carthago: Merchants &amp; Guilds</td>\n      <td>233006</td>\n      <td>[Action Points:2001, Deck, Bag, and Pool Build...</td>\n      <td>[Ancient:1050, Card Game:1002, Economic:1021]</td>\n      <td>2.9565</td>\n      <td>4.0</td>\n      <td>2.0</td>\n      <td>4.0</td>\n      <td>2.0</td>\n    </tr>\n    <tr>\n      <th>73887</th>\n      <td>Century: Spice Road</td>\n      <td>209685</td>\n      <td>[Action Retrieval:2839, Card Drafting:2041, Co...</td>\n      <td>[Card Game:1002, Economic:1021, Medieval:1035]</td>\n      <td>1.7835</td>\n      <td>4.0</td>\n      <td>3.0</td>\n      <td>5.0</td>\n      <td>2.0</td>\n    </tr>\n    <tr>\n      <th>71269</th>\n      <td>Bloodborne: The Card Game</td>\n      <td>195856</td>\n      <td>[Card Drafting:2041, Dice Rolling:2072, Hand M...</td>\n      <td>[Card Game:1002, Fantasy:1010, Horror:1024, Vi...</td>\n      <td>2.0847</td>\n      <td>5.0</td>\n      <td>4.0</td>\n      <td>5.0</td>\n      <td>3.0</td>\n    </tr>\n    <tr>\n      <th>47905</th>\n      <td>Mundus Novus</td>\n      <td>103686</td>\n      <td>[Card Drafting:2041, Hand Management:2040, Set...</td>\n      <td>[Card Game:1002, Economic:1021, Nautical:1008,...</td>\n      <td>2.1845</td>\n      <td>4.0</td>\n      <td>4.0</td>\n      <td>6.0</td>\n      <td>2.0</td>\n    </tr>\n    <tr>\n      <th>78778</th>\n      <td>Cerebria: The Card Game</td>\n      <td>236304</td>\n      <td>[Card Drafting:2041, Hand Management:2040, Set...</td>\n      <td>[Card Game:1002, Fantasy:1010]</td>\n      <td>2.1429</td>\n      <td>5.0</td>\n      <td>2.0</td>\n      <td>5.0</td>\n      <td>2.0</td>\n    </tr>\n    <tr>\n      <th>42942</th>\n      <td>Braggart</td>\n      <td>72420</td>\n      <td>[Card Drafting:2041, Hand Management:2040, Set...</td>\n      <td>[Card Game:1002, Fantasy:1010, Humor:1079, Med...</td>\n      <td>1.2308</td>\n      <td>6.0</td>\n      <td>2.0</td>\n      <td>6.0</td>\n      <td>2.0</td>\n    </tr>\n    <tr>\n      <th>34677</th>\n      <td>A Game of Thrones: The Card Game</td>\n      <td>39953</td>\n      <td>[Card Drafting:2041, Hand Management:2040, Sim...</td>\n      <td>[Card Game:1002, Collectible Components:1044, ...</td>\n      <td>3.2532</td>\n      <td>4.0</td>\n      <td>2.0</td>\n      <td>4.0</td>\n      <td>2.0</td>\n    </tr>\n    <tr>\n      <th>71215</th>\n      <td>City of Iron: Second Edition</td>\n      <td>195503</td>\n      <td>[Area Majority / Influence:2080, Deck, Bag, an...</td>\n      <td>[Card Game:1002, City Building:1029, Civilizat...</td>\n      <td>3.1667</td>\n      <td>4.0</td>\n      <td>2.0</td>\n      <td>4.0</td>\n      <td>2.0</td>\n    </tr>\n    <tr>\n      <th>44917</th>\n      <td>Nightfall</td>\n      <td>88408</td>\n      <td>[Card Drafting:2041, Deck, Bag, and Pool Build...</td>\n      <td>[Card Game:1002, Fantasy:1010, Fighting:1046, ...</td>\n      <td>2.6353</td>\n      <td>5.0</td>\n      <td>2.0</td>\n      <td>5.0</td>\n      <td>2.0</td>\n    </tr>\n    <tr>\n      <th>67364</th>\n      <td>Unfair</td>\n      <td>179172</td>\n      <td>[Card Drafting:2041, Hand Management:2040, Inc...</td>\n      <td>[Card Game:1002, City Building:1029, Economic:...</td>\n      <td>2.7204</td>\n      <td>4.0</td>\n      <td>4.0</td>\n      <td>5.0</td>\n      <td>2.0</td>\n    </tr>\n    <tr>\n      <th>91091</th>\n      <td>Dungeon Mayhem: Monster Madness</td>\n      <td>295577</td>\n      <td>[Hand Management:2040, Player Elimination:2685...</td>\n      <td>[Card Game:1002, Fantasy:1010, Fighting:1046]</td>\n      <td>1.1000</td>\n      <td>6.0</td>\n      <td>2.0</td>\n      <td>6.0</td>\n      <td>2.0</td>\n    </tr>\n  </tbody>\n</table>\n</div>"
     },
     "execution_count": 59,
     "metadata": {},
     "output_type": "execute_result"
    }
   ],
   "source": [
    "# Our games: Spirit Island, Citadel, Splendor, Avalon, Codenames, Crew, Love Letter, 7 wonders, viticulture, Descent\n",
    "analyze(\"USER_4\")"
   ],
   "metadata": {
    "collapsed": false,
    "pycharm": {
     "name": "#%%\n"
    }
   }
  },
  {
   "cell_type": "code",
   "execution_count": 60,
   "outputs": [
    {
     "name": "stdout",
     "output_type": "stream",
     "text": [
      "Metric value: [2.44       1.32       0.8        0.70534209 5.26534209]\n"
     ]
    },
    {
     "data": {
      "text/plain": "                                                    name  bgg_id  \\\n3083                        Mordheim: City of the Damned    3565   \n61167                                  Krosmaster: Quest  155827   \n62359                   Dungeon Saga: Dwarf King's Quest  160081   \n71779                          Heroes of Land, Air & Sea  198830   \n63412                        Star Wars: Imperial Assault  164153   \n60983                                      Arcadia Quest  155068   \n36822                             Chaos in the Old World   43111   \n2401                                            Car Wars    2795   \n67540                             Arcadia Quest: Inferno  179803   \n6549                            WarCraft: The Board Game    7479   \n42845                                            Eclipse   72125   \n56912                                       Cthulhu Wars  139976   \n64181  Magic: The Gathering – Arena of the Planeswalkers  167698   \n53975                                    Duel of Ages II  129459   \n27625                    BattleTech Introductory Box Set   31759   \n65304                                         The Others  172047   \n58757         Shadows of Brimstone: City of the Ancients  146791   \n61370              Super Dungeon Explore: Forgotten King  156548   \n611                                       Battle Masters     700   \n39264    Dungeons & Dragons: Castle Ravenloft Board Game   59946   \n\n                                                mechanic  \\\n3083   [Dice Rolling:2072, Measurement Movement:2949,...   \n61167  [Action Points:2001, Dice Rolling:2072, Grid M...   \n62359  [Dice Rolling:2072, Grid Movement:2676, Modula...   \n71779  [Action Points:2001, Area Majority / Influence...   \n63412  [Dice Rolling:2072, Die Icon Resolution:2856, ...   \n60983  [Dice Rolling:2072, Grid Movement:2676, Modula...   \n36822  [Action Points:2001, Area Majority / Influence...   \n2401   [Dice Rolling:2072, Grid Movement:2676, Impuls...   \n67540  [Dice Rolling:2072, Grid Movement:2676, Modula...   \n6549   [Dice Rolling:2072, Modular Board:2011, Team-B...   \n42845  [Area Majority / Influence:2080, Dice Rolling:...   \n56912  [Action Points:2001, Area Majority / Influence...   \n64181  [Dice Rolling:2072, Grid Movement:2676, Hand M...   \n53975  [Grid Movement:2676, Hexagon Grid:2026, Line o...   \n27625  [Dice Rolling:2072, Hexagon Grid:2026, Variabl...   \n65304  [Area Majority / Influence:2080, Area Movement...   \n58757  [Cooperative Game:2023, Dice Rolling:2072, Gri...   \n61370  [Action Points:2001, Cooperative Game:2023, Di...   \n611    [Chit-Pull System:2057, Dice Rolling:2072, Die...   \n39264  [Cooperative Game:2023, Dice Rolling:2072, Gri...   \n\n                                                category  complexity  \\\n3083   [Exploration:1020, Fantasy:1010, Fighting:1046...      3.0882   \n61167  [Adventure:1022, Exploration:1020, Fantasy:101...      3.0909   \n62359  [Adventure:1022, Exploration:1020, Fantasy:101...      2.4773   \n71779  [Exploration:1020, Fantasy:1010, Fighting:1046...      3.3140   \n63412  [Adventure:1022, Exploration:1020, Fighting:10...      3.3099   \n60983  [Adventure:1022, Exploration:1020, Fantasy:101...      2.5352   \n36822  [Fantasy:1010, Fighting:1046, Horror:1024, Myt...      3.1892   \n2401   [Fighting:1046, Miniatures:1047, Racing:1031, ...      3.0976   \n67540  [Adventure:1022, Fantasy:1010, Fighting:1046, ...      2.4091   \n6549   [City Building:1029, Fantasy:1010, Fighting:10...      2.7567   \n42845  [Civilization:1015, Fighting:1046, Science Fic...      3.7002   \n56912  [Fantasy:1010, Fighting:1046, Horror:1024, Min...      3.1434   \n64181  [Fantasy:1010, Fighting:1046, Miniatures:1047,...      2.3542   \n53975  [Adventure:1022, Fantasy:1010, Fighting:1046, ...      3.4111   \n27625  [Fighting:1046, Miniatures:1047, Science Ficti...      3.5395   \n65304  [Fantasy:1010, Fighting:1046, Horror:1024, Min...      3.0291   \n58757  [Adventure:1022, American West:1055, Explorati...      3.3425   \n61370  [Adventure:1022, Exploration:1020, Fantasy:101...      3.1429   \n611    [Fantasy:1010, Fighting:1046, Miniatures:1047,...      1.8701   \n39264  [Adventure:1022, Exploration:1020, Fantasy:101...      2.5101   \n\n       max_players_best  min_players_best  max_players_rec  min_players_rec  \n3083                4.0               2.0              6.0              2.0  \n61167               6.0               2.0              6.0              2.0  \n62359               5.0               2.0              5.0              2.0  \n71779               4.0               4.0              5.0              2.0  \n63412               5.0               2.0              5.0              2.0  \n60983               4.0               4.0              4.0              2.0  \n36822               4.0               4.0              4.0              3.0  \n2401                4.0               4.0              8.0              2.0  \n67540               4.0               4.0              4.0              2.0  \n6549                4.0               4.0              4.0              2.0  \n42845               6.0               4.0              6.0              2.0  \n56912               4.0               4.0              5.0              3.0  \n64181               4.0               2.0              5.0              2.0  \n53975               4.0               2.0              6.0              2.0  \n27625               6.0               2.0              6.0              2.0  \n65304               5.0               5.0              5.0              2.0  \n58757               4.0               4.0              5.0              1.0  \n61370               4.0               4.0              5.0              1.0  \n611                 2.0               2.0              3.0              2.0  \n39264               4.0               4.0              5.0              1.0  ",
      "text/html": "<div>\n<style scoped>\n    .dataframe tbody tr th:only-of-type {\n        vertical-align: middle;\n    }\n\n    .dataframe tbody tr th {\n        vertical-align: top;\n    }\n\n    .dataframe thead th {\n        text-align: right;\n    }\n</style>\n<table border=\"1\" class=\"dataframe\">\n  <thead>\n    <tr style=\"text-align: right;\">\n      <th></th>\n      <th>name</th>\n      <th>bgg_id</th>\n      <th>mechanic</th>\n      <th>category</th>\n      <th>complexity</th>\n      <th>max_players_best</th>\n      <th>min_players_best</th>\n      <th>max_players_rec</th>\n      <th>min_players_rec</th>\n    </tr>\n  </thead>\n  <tbody>\n    <tr>\n      <th>3083</th>\n      <td>Mordheim: City of the Damned</td>\n      <td>3565</td>\n      <td>[Dice Rolling:2072, Measurement Movement:2949,...</td>\n      <td>[Exploration:1020, Fantasy:1010, Fighting:1046...</td>\n      <td>3.0882</td>\n      <td>4.0</td>\n      <td>2.0</td>\n      <td>6.0</td>\n      <td>2.0</td>\n    </tr>\n    <tr>\n      <th>61167</th>\n      <td>Krosmaster: Quest</td>\n      <td>155827</td>\n      <td>[Action Points:2001, Dice Rolling:2072, Grid M...</td>\n      <td>[Adventure:1022, Exploration:1020, Fantasy:101...</td>\n      <td>3.0909</td>\n      <td>6.0</td>\n      <td>2.0</td>\n      <td>6.0</td>\n      <td>2.0</td>\n    </tr>\n    <tr>\n      <th>62359</th>\n      <td>Dungeon Saga: Dwarf King's Quest</td>\n      <td>160081</td>\n      <td>[Dice Rolling:2072, Grid Movement:2676, Modula...</td>\n      <td>[Adventure:1022, Exploration:1020, Fantasy:101...</td>\n      <td>2.4773</td>\n      <td>5.0</td>\n      <td>2.0</td>\n      <td>5.0</td>\n      <td>2.0</td>\n    </tr>\n    <tr>\n      <th>71779</th>\n      <td>Heroes of Land, Air &amp; Sea</td>\n      <td>198830</td>\n      <td>[Action Points:2001, Area Majority / Influence...</td>\n      <td>[Exploration:1020, Fantasy:1010, Fighting:1046...</td>\n      <td>3.3140</td>\n      <td>4.0</td>\n      <td>4.0</td>\n      <td>5.0</td>\n      <td>2.0</td>\n    </tr>\n    <tr>\n      <th>63412</th>\n      <td>Star Wars: Imperial Assault</td>\n      <td>164153</td>\n      <td>[Dice Rolling:2072, Die Icon Resolution:2856, ...</td>\n      <td>[Adventure:1022, Exploration:1020, Fighting:10...</td>\n      <td>3.3099</td>\n      <td>5.0</td>\n      <td>2.0</td>\n      <td>5.0</td>\n      <td>2.0</td>\n    </tr>\n    <tr>\n      <th>60983</th>\n      <td>Arcadia Quest</td>\n      <td>155068</td>\n      <td>[Dice Rolling:2072, Grid Movement:2676, Modula...</td>\n      <td>[Adventure:1022, Exploration:1020, Fantasy:101...</td>\n      <td>2.5352</td>\n      <td>4.0</td>\n      <td>4.0</td>\n      <td>4.0</td>\n      <td>2.0</td>\n    </tr>\n    <tr>\n      <th>36822</th>\n      <td>Chaos in the Old World</td>\n      <td>43111</td>\n      <td>[Action Points:2001, Area Majority / Influence...</td>\n      <td>[Fantasy:1010, Fighting:1046, Horror:1024, Myt...</td>\n      <td>3.1892</td>\n      <td>4.0</td>\n      <td>4.0</td>\n      <td>4.0</td>\n      <td>3.0</td>\n    </tr>\n    <tr>\n      <th>2401</th>\n      <td>Car Wars</td>\n      <td>2795</td>\n      <td>[Dice Rolling:2072, Grid Movement:2676, Impuls...</td>\n      <td>[Fighting:1046, Miniatures:1047, Racing:1031, ...</td>\n      <td>3.0976</td>\n      <td>4.0</td>\n      <td>4.0</td>\n      <td>8.0</td>\n      <td>2.0</td>\n    </tr>\n    <tr>\n      <th>67540</th>\n      <td>Arcadia Quest: Inferno</td>\n      <td>179803</td>\n      <td>[Dice Rolling:2072, Grid Movement:2676, Modula...</td>\n      <td>[Adventure:1022, Fantasy:1010, Fighting:1046, ...</td>\n      <td>2.4091</td>\n      <td>4.0</td>\n      <td>4.0</td>\n      <td>4.0</td>\n      <td>2.0</td>\n    </tr>\n    <tr>\n      <th>6549</th>\n      <td>WarCraft: The Board Game</td>\n      <td>7479</td>\n      <td>[Dice Rolling:2072, Modular Board:2011, Team-B...</td>\n      <td>[City Building:1029, Fantasy:1010, Fighting:10...</td>\n      <td>2.7567</td>\n      <td>4.0</td>\n      <td>4.0</td>\n      <td>4.0</td>\n      <td>2.0</td>\n    </tr>\n    <tr>\n      <th>42845</th>\n      <td>Eclipse</td>\n      <td>72125</td>\n      <td>[Area Majority / Influence:2080, Dice Rolling:...</td>\n      <td>[Civilization:1015, Fighting:1046, Science Fic...</td>\n      <td>3.7002</td>\n      <td>6.0</td>\n      <td>4.0</td>\n      <td>6.0</td>\n      <td>2.0</td>\n    </tr>\n    <tr>\n      <th>56912</th>\n      <td>Cthulhu Wars</td>\n      <td>139976</td>\n      <td>[Action Points:2001, Area Majority / Influence...</td>\n      <td>[Fantasy:1010, Fighting:1046, Horror:1024, Min...</td>\n      <td>3.1434</td>\n      <td>4.0</td>\n      <td>4.0</td>\n      <td>5.0</td>\n      <td>3.0</td>\n    </tr>\n    <tr>\n      <th>64181</th>\n      <td>Magic: The Gathering – Arena of the Planeswalkers</td>\n      <td>167698</td>\n      <td>[Dice Rolling:2072, Grid Movement:2676, Hand M...</td>\n      <td>[Fantasy:1010, Fighting:1046, Miniatures:1047,...</td>\n      <td>2.3542</td>\n      <td>4.0</td>\n      <td>2.0</td>\n      <td>5.0</td>\n      <td>2.0</td>\n    </tr>\n    <tr>\n      <th>53975</th>\n      <td>Duel of Ages II</td>\n      <td>129459</td>\n      <td>[Grid Movement:2676, Hexagon Grid:2026, Line o...</td>\n      <td>[Adventure:1022, Fantasy:1010, Fighting:1046, ...</td>\n      <td>3.4111</td>\n      <td>4.0</td>\n      <td>2.0</td>\n      <td>6.0</td>\n      <td>2.0</td>\n    </tr>\n    <tr>\n      <th>27625</th>\n      <td>BattleTech Introductory Box Set</td>\n      <td>31759</td>\n      <td>[Dice Rolling:2072, Hexagon Grid:2026, Variabl...</td>\n      <td>[Fighting:1046, Miniatures:1047, Science Ficti...</td>\n      <td>3.5395</td>\n      <td>6.0</td>\n      <td>2.0</td>\n      <td>6.0</td>\n      <td>2.0</td>\n    </tr>\n    <tr>\n      <th>65304</th>\n      <td>The Others</td>\n      <td>172047</td>\n      <td>[Area Majority / Influence:2080, Area Movement...</td>\n      <td>[Fantasy:1010, Fighting:1046, Horror:1024, Min...</td>\n      <td>3.0291</td>\n      <td>5.0</td>\n      <td>5.0</td>\n      <td>5.0</td>\n      <td>2.0</td>\n    </tr>\n    <tr>\n      <th>58757</th>\n      <td>Shadows of Brimstone: City of the Ancients</td>\n      <td>146791</td>\n      <td>[Cooperative Game:2023, Dice Rolling:2072, Gri...</td>\n      <td>[Adventure:1022, American West:1055, Explorati...</td>\n      <td>3.3425</td>\n      <td>4.0</td>\n      <td>4.0</td>\n      <td>5.0</td>\n      <td>1.0</td>\n    </tr>\n    <tr>\n      <th>61370</th>\n      <td>Super Dungeon Explore: Forgotten King</td>\n      <td>156548</td>\n      <td>[Action Points:2001, Cooperative Game:2023, Di...</td>\n      <td>[Adventure:1022, Exploration:1020, Fantasy:101...</td>\n      <td>3.1429</td>\n      <td>4.0</td>\n      <td>4.0</td>\n      <td>5.0</td>\n      <td>1.0</td>\n    </tr>\n    <tr>\n      <th>611</th>\n      <td>Battle Masters</td>\n      <td>700</td>\n      <td>[Chit-Pull System:2057, Dice Rolling:2072, Die...</td>\n      <td>[Fantasy:1010, Fighting:1046, Miniatures:1047,...</td>\n      <td>1.8701</td>\n      <td>2.0</td>\n      <td>2.0</td>\n      <td>3.0</td>\n      <td>2.0</td>\n    </tr>\n    <tr>\n      <th>39264</th>\n      <td>Dungeons &amp; Dragons: Castle Ravenloft Board Game</td>\n      <td>59946</td>\n      <td>[Cooperative Game:2023, Dice Rolling:2072, Gri...</td>\n      <td>[Adventure:1022, Exploration:1020, Fantasy:101...</td>\n      <td>2.5101</td>\n      <td>4.0</td>\n      <td>4.0</td>\n      <td>5.0</td>\n      <td>1.0</td>\n    </tr>\n  </tbody>\n</table>\n</div>"
     },
     "execution_count": 60,
     "metadata": {},
     "output_type": "execute_result"
    }
   ],
   "source": [
    "# Ameritrash: Runewars, Arkham Horror, Starcraft, Last Night on Earth, Talisman, Divine Right\n",
    "analyze(\"USER_5\")"
   ],
   "metadata": {
    "collapsed": false,
    "pycharm": {
     "name": "#%%\n"
    }
   }
  },
  {
   "cell_type": "code",
   "execution_count": 61,
   "outputs": [
    {
     "name": "stdout",
     "output_type": "stream",
     "text": [
      "Metric value: [2.4        0.91578947 0.68571429 0.7365691  4.73807286]\n"
     ]
    },
    {
     "data": {
      "text/plain": "                               name  bgg_id  \\\n66458                           504  175878   \n47811        The Gnomes of Zavandor  103184   \n47735     Caverna: The Cave Farmers  102794   \n1106          Die Magier von Pangea    1309   \n78452        Mystery of the Temples  234691   \n73066       Key to the City: London  205507   \n12177       The Scepter of Zavandor   13884   \n48237                   Archipelago  105551   \n72215                   Pixie Queen  200890   \n75201              Rise to Nobility  218293   \n74491        Founders of Gloomhaven  214032   \n82321                Raccoon Tycoon  254386   \n43673                    Key Market   78733   \n24558                  Cash-a-Catch   28218   \n51866                     Keyflower  122515   \n48327  Power Grid: The First Sparks  106662   \n30667          The Dutch Golden Age   35289   \n85091     Greenland (Third Edition)  266447   \n63343                        Feudum  163839   \n71215  City of Iron: Second Edition  195503   \n\n                                                mechanic  \\\n66458  [Area Majority / Influence:2080, Area Movement...   \n47811  [Card Drafting:2041, Commodity Speculation:201...   \n47735  [Automatic Resource Growth:2903, Increase Valu...   \n1106   [Modular Board:2011, Pick-up and Deliver:2007,...   \n78452  [Action Queue:2689, Area Majority / Influence:...   \n73066  [Auction/Bidding:2012, Modular Board:2011, Set...   \n12177  [Auction/Bidding:2012, Set Collection:2004, Va...   \n48237  [Area Majority / Influence:2080, Auction/Biddi...   \n72215      [Auction/Bidding:2012, Worker Placement:2082]   \n75201  [Dice Rolling:2072, Set Collection:2004, Varia...   \n74491  [Action Retrieval:2839, Auction/Bidding:2012, ...   \n82321  [Auction/Bidding:2012, Auction: Turn Order Unt...   \n43673  [Area Majority / Influence:2080, Area Movement...   \n24558        [Auction/Bidding:2012, Set Collection:2004]   \n51866  [Auction/Bidding:2012, Auction: Fixed Placemen...   \n48327  [Area Movement:2046, Card Drafting:2041, Modul...   \n30667  [Area Majority / Influence:2080, Area Movement...   \n85091  [Auction/Bidding:2012, Dice Rolling:2072, Simu...   \n63343  [Action Queue:2689, Area Majority / Influence:...   \n71215  [Area Majority / Influence:2080, Deck, Bag, an...   \n\n                                                category  complexity  \\\n66458  [Animals:1089, City Building:1029, Economic:10...      3.4700   \n47811                      [Economic:1021, Fantasy:1010]      2.5789   \n47735  [Animals:1089, Economic:1021, Fantasy:1010, Fa...      3.7898   \n1106                       [Economic:1021, Fantasy:1010]      2.3276   \n78452                      [Economic:1021, Fantasy:1010]      2.4000   \n73066  [City Building:1029, Economic:1021, Territory ...      2.7222   \n12177                      [Economic:1021, Fantasy:1010]      3.5100   \n48237  [Civilization:1015, Economic:1021, Exploration...      3.7323   \n72215      [Economic:1021, Fantasy:1010, Mythology:1082]      3.1905   \n75201  [City Building:1029, Dice:1017, Economic:1021,...      3.2917   \n74491  [City Building:1029, Economic:1021, Fantasy:1010]      4.1170   \n82321                      [Animals:1089, Economic:1021]      2.1064   \n43673       [Economic:1021, Farming:1013, Medieval:1035]      3.5122   \n24558  [Action / Dexterity:1032, Animals:1089, Card G...      1.5583   \n51866  [City Building:1029, Economic:1021, Renaissanc...      3.3458   \n48327    [Animals:1089, Economic:1021, Prehistoric:1036]      2.7031   \n30667  [Economic:1021, Pike and Shot:2725, Territory ...      2.5062   \n85091  [Animals:1089, Card Game:1002, Economic:1021, ...      3.5882   \n63343  [Adventure:1022, Economic:1021, Fantasy:1010, ...      4.5853   \n71215  [Card Game:1002, City Building:1029, Civilizat...      3.1667   \n\n       max_players_best  min_players_best  max_players_rec  min_players_rec  \n66458               4.0               4.0              4.0              2.0  \n47811               4.0               2.0              4.0              2.0  \n47735               4.0               4.0              5.0              1.0  \n1106                4.0               2.0              4.0              2.0  \n78452               4.0               2.0              4.0              2.0  \n73066               6.0               2.0              6.0              2.0  \n12177               4.0               4.0              5.0              2.0  \n48237               4.0               4.0              5.0              2.0  \n72215               4.0               3.0              5.0              3.0  \n75201               6.0               1.0              4.0              1.0  \n74491               4.0               4.0              4.0              1.0  \n82321               4.0               4.0              5.0              2.0  \n43673               4.0               2.0              4.0              2.0  \n24558               5.0               3.0              5.0              3.0  \n51866               4.0               4.0              6.0              2.0  \n48327               4.0               4.0              6.0              3.0  \n30667               4.0               3.0              4.0              3.0  \n85091               4.0               1.0              4.0              1.0  \n63343               4.0               4.0              5.0              2.0  \n71215               4.0               2.0              4.0              2.0  ",
      "text/html": "<div>\n<style scoped>\n    .dataframe tbody tr th:only-of-type {\n        vertical-align: middle;\n    }\n\n    .dataframe tbody tr th {\n        vertical-align: top;\n    }\n\n    .dataframe thead th {\n        text-align: right;\n    }\n</style>\n<table border=\"1\" class=\"dataframe\">\n  <thead>\n    <tr style=\"text-align: right;\">\n      <th></th>\n      <th>name</th>\n      <th>bgg_id</th>\n      <th>mechanic</th>\n      <th>category</th>\n      <th>complexity</th>\n      <th>max_players_best</th>\n      <th>min_players_best</th>\n      <th>max_players_rec</th>\n      <th>min_players_rec</th>\n    </tr>\n  </thead>\n  <tbody>\n    <tr>\n      <th>66458</th>\n      <td>504</td>\n      <td>175878</td>\n      <td>[Area Majority / Influence:2080, Area Movement...</td>\n      <td>[Animals:1089, City Building:1029, Economic:10...</td>\n      <td>3.4700</td>\n      <td>4.0</td>\n      <td>4.0</td>\n      <td>4.0</td>\n      <td>2.0</td>\n    </tr>\n    <tr>\n      <th>47811</th>\n      <td>The Gnomes of Zavandor</td>\n      <td>103184</td>\n      <td>[Card Drafting:2041, Commodity Speculation:201...</td>\n      <td>[Economic:1021, Fantasy:1010]</td>\n      <td>2.5789</td>\n      <td>4.0</td>\n      <td>2.0</td>\n      <td>4.0</td>\n      <td>2.0</td>\n    </tr>\n    <tr>\n      <th>47735</th>\n      <td>Caverna: The Cave Farmers</td>\n      <td>102794</td>\n      <td>[Automatic Resource Growth:2903, Increase Valu...</td>\n      <td>[Animals:1089, Economic:1021, Fantasy:1010, Fa...</td>\n      <td>3.7898</td>\n      <td>4.0</td>\n      <td>4.0</td>\n      <td>5.0</td>\n      <td>1.0</td>\n    </tr>\n    <tr>\n      <th>1106</th>\n      <td>Die Magier von Pangea</td>\n      <td>1309</td>\n      <td>[Modular Board:2011, Pick-up and Deliver:2007,...</td>\n      <td>[Economic:1021, Fantasy:1010]</td>\n      <td>2.3276</td>\n      <td>4.0</td>\n      <td>2.0</td>\n      <td>4.0</td>\n      <td>2.0</td>\n    </tr>\n    <tr>\n      <th>78452</th>\n      <td>Mystery of the Temples</td>\n      <td>234691</td>\n      <td>[Action Queue:2689, Area Majority / Influence:...</td>\n      <td>[Economic:1021, Fantasy:1010]</td>\n      <td>2.4000</td>\n      <td>4.0</td>\n      <td>2.0</td>\n      <td>4.0</td>\n      <td>2.0</td>\n    </tr>\n    <tr>\n      <th>73066</th>\n      <td>Key to the City: London</td>\n      <td>205507</td>\n      <td>[Auction/Bidding:2012, Modular Board:2011, Set...</td>\n      <td>[City Building:1029, Economic:1021, Territory ...</td>\n      <td>2.7222</td>\n      <td>6.0</td>\n      <td>2.0</td>\n      <td>6.0</td>\n      <td>2.0</td>\n    </tr>\n    <tr>\n      <th>12177</th>\n      <td>The Scepter of Zavandor</td>\n      <td>13884</td>\n      <td>[Auction/Bidding:2012, Set Collection:2004, Va...</td>\n      <td>[Economic:1021, Fantasy:1010]</td>\n      <td>3.5100</td>\n      <td>4.0</td>\n      <td>4.0</td>\n      <td>5.0</td>\n      <td>2.0</td>\n    </tr>\n    <tr>\n      <th>48237</th>\n      <td>Archipelago</td>\n      <td>105551</td>\n      <td>[Area Majority / Influence:2080, Auction/Biddi...</td>\n      <td>[Civilization:1015, Economic:1021, Exploration...</td>\n      <td>3.7323</td>\n      <td>4.0</td>\n      <td>4.0</td>\n      <td>5.0</td>\n      <td>2.0</td>\n    </tr>\n    <tr>\n      <th>72215</th>\n      <td>Pixie Queen</td>\n      <td>200890</td>\n      <td>[Auction/Bidding:2012, Worker Placement:2082]</td>\n      <td>[Economic:1021, Fantasy:1010, Mythology:1082]</td>\n      <td>3.1905</td>\n      <td>4.0</td>\n      <td>3.0</td>\n      <td>5.0</td>\n      <td>3.0</td>\n    </tr>\n    <tr>\n      <th>75201</th>\n      <td>Rise to Nobility</td>\n      <td>218293</td>\n      <td>[Dice Rolling:2072, Set Collection:2004, Varia...</td>\n      <td>[City Building:1029, Dice:1017, Economic:1021,...</td>\n      <td>3.2917</td>\n      <td>6.0</td>\n      <td>1.0</td>\n      <td>4.0</td>\n      <td>1.0</td>\n    </tr>\n    <tr>\n      <th>74491</th>\n      <td>Founders of Gloomhaven</td>\n      <td>214032</td>\n      <td>[Action Retrieval:2839, Auction/Bidding:2012, ...</td>\n      <td>[City Building:1029, Economic:1021, Fantasy:1010]</td>\n      <td>4.1170</td>\n      <td>4.0</td>\n      <td>4.0</td>\n      <td>4.0</td>\n      <td>1.0</td>\n    </tr>\n    <tr>\n      <th>82321</th>\n      <td>Raccoon Tycoon</td>\n      <td>254386</td>\n      <td>[Auction/Bidding:2012, Auction: Turn Order Unt...</td>\n      <td>[Animals:1089, Economic:1021]</td>\n      <td>2.1064</td>\n      <td>4.0</td>\n      <td>4.0</td>\n      <td>5.0</td>\n      <td>2.0</td>\n    </tr>\n    <tr>\n      <th>43673</th>\n      <td>Key Market</td>\n      <td>78733</td>\n      <td>[Area Majority / Influence:2080, Area Movement...</td>\n      <td>[Economic:1021, Farming:1013, Medieval:1035]</td>\n      <td>3.5122</td>\n      <td>4.0</td>\n      <td>2.0</td>\n      <td>4.0</td>\n      <td>2.0</td>\n    </tr>\n    <tr>\n      <th>24558</th>\n      <td>Cash-a-Catch</td>\n      <td>28218</td>\n      <td>[Auction/Bidding:2012, Set Collection:2004]</td>\n      <td>[Action / Dexterity:1032, Animals:1089, Card G...</td>\n      <td>1.5583</td>\n      <td>5.0</td>\n      <td>3.0</td>\n      <td>5.0</td>\n      <td>3.0</td>\n    </tr>\n    <tr>\n      <th>51866</th>\n      <td>Keyflower</td>\n      <td>122515</td>\n      <td>[Auction/Bidding:2012, Auction: Fixed Placemen...</td>\n      <td>[City Building:1029, Economic:1021, Renaissanc...</td>\n      <td>3.3458</td>\n      <td>4.0</td>\n      <td>4.0</td>\n      <td>6.0</td>\n      <td>2.0</td>\n    </tr>\n    <tr>\n      <th>48327</th>\n      <td>Power Grid: The First Sparks</td>\n      <td>106662</td>\n      <td>[Area Movement:2046, Card Drafting:2041, Modul...</td>\n      <td>[Animals:1089, Economic:1021, Prehistoric:1036]</td>\n      <td>2.7031</td>\n      <td>4.0</td>\n      <td>4.0</td>\n      <td>6.0</td>\n      <td>3.0</td>\n    </tr>\n    <tr>\n      <th>30667</th>\n      <td>The Dutch Golden Age</td>\n      <td>35289</td>\n      <td>[Area Majority / Influence:2080, Area Movement...</td>\n      <td>[Economic:1021, Pike and Shot:2725, Territory ...</td>\n      <td>2.5062</td>\n      <td>4.0</td>\n      <td>3.0</td>\n      <td>4.0</td>\n      <td>3.0</td>\n    </tr>\n    <tr>\n      <th>85091</th>\n      <td>Greenland (Third Edition)</td>\n      <td>266447</td>\n      <td>[Auction/Bidding:2012, Dice Rolling:2072, Simu...</td>\n      <td>[Animals:1089, Card Game:1002, Economic:1021, ...</td>\n      <td>3.5882</td>\n      <td>4.0</td>\n      <td>1.0</td>\n      <td>4.0</td>\n      <td>1.0</td>\n    </tr>\n    <tr>\n      <th>63343</th>\n      <td>Feudum</td>\n      <td>163839</td>\n      <td>[Action Queue:2689, Area Majority / Influence:...</td>\n      <td>[Adventure:1022, Economic:1021, Fantasy:1010, ...</td>\n      <td>4.5853</td>\n      <td>4.0</td>\n      <td>4.0</td>\n      <td>5.0</td>\n      <td>2.0</td>\n    </tr>\n    <tr>\n      <th>71215</th>\n      <td>City of Iron: Second Edition</td>\n      <td>195503</td>\n      <td>[Area Majority / Influence:2080, Deck, Bag, an...</td>\n      <td>[Card Game:1002, City Building:1029, Civilizat...</td>\n      <td>3.1667</td>\n      <td>4.0</td>\n      <td>2.0</td>\n      <td>4.0</td>\n      <td>2.0</td>\n    </tr>\n  </tbody>\n</table>\n</div>"
     },
     "execution_count": 61,
     "metadata": {},
     "output_type": "execute_result"
    }
   ],
   "source": [
    "# Eurogames: Catan, Puerto Rico, Carcassone, Ra, El Grande, Five Tribes\n",
    "analyze(\"USER_6\")"
   ],
   "metadata": {
    "collapsed": false,
    "pycharm": {
     "name": "#%%\n"
    }
   }
  },
  {
   "cell_type": "code",
   "execution_count": null,
   "outputs": [],
   "source": [],
   "metadata": {
    "collapsed": false,
    "pycharm": {
     "name": "#%%\n"
    }
   }
  }
 ],
 "metadata": {
  "kernelspec": {
   "display_name": "Python 3",
   "language": "python",
   "name": "python3"
  },
  "language_info": {
   "codemirror_mode": {
    "name": "ipython",
    "version": 2
   },
   "file_extension": ".py",
   "mimetype": "text/x-python",
   "name": "python",
   "nbconvert_exporter": "python",
   "pygments_lexer": "ipython2",
   "version": "2.7.6"
  }
 },
 "nbformat": 4,
 "nbformat_minor": 0
}