{
 "cells": [
  {
   "cell_type": "code",
   "execution_count": 3,
   "metadata": {
    "collapsed": true
   },
   "outputs": [],
   "source": [
    "import pickle\n",
    "\n",
    "import pandas as pd\n",
    "import scipy.sparse\n",
    "\n",
    "from lightfm import LightFM"
   ]
  },
  {
   "cell_type": "code",
   "execution_count": 4,
   "outputs": [],
   "source": [
    "DATA_ROOT = '../../data'\n",
    "THREADS = 8"
   ],
   "metadata": {
    "collapsed": false,
    "pycharm": {
     "name": "#%%\n"
    }
   }
  },
  {
   "cell_type": "markdown",
   "source": [
    "## Data loading"
   ],
   "metadata": {
    "collapsed": false,
    "pycharm": {
     "name": "#%% md\n"
    }
   }
  },
  {
   "cell_type": "code",
   "execution_count": 5,
   "outputs": [],
   "source": [
    "full_df = pd.read_csv(f'{DATA_ROOT}/ratings_all_implicit.csv.gz')\n",
    "train_df = pd.read_csv(f'{DATA_ROOT}/ratings_train_implicit.csv.gz')\n",
    "games_df = pd.read_json(f'{DATA_ROOT}/bgg_GameItem.jl', lines=True)[[\n",
    "    'name', 'bgg_id', 'mechanic', 'category', 'complexity',\n",
    "    'max_players_best', 'min_players_best', 'max_players_rec', 'min_players_rec'\n",
    "]]\n",
    "\n",
    "features_names = pd.read_csv(f'{DATA_ROOT}/game_features_names.csv.gz').values.flatten()\n",
    "game_features = pd.read_csv(f'{DATA_ROOT}/game_features.csv.gz')\n",
    "\n",
    "dataset = pd.read_pickle(f'{DATA_ROOT}/dataset.pkl')\n",
    "item_features = pd.read_pickle(f'{DATA_ROOT}/item_features.pkl')\n",
    "\n",
    "train_interactions = scipy.sparse.load_npz(f'{DATA_ROOT}/train_interactions.npz')\n",
    "test_interactions = scipy.sparse.load_npz(f'{DATA_ROOT}/test_interactions.npz')"
   ],
   "metadata": {
    "collapsed": false,
    "pycharm": {
     "name": "#%%\n"
    }
   }
  },
  {
   "cell_type": "markdown",
   "source": [
    "## Model fitting"
   ],
   "metadata": {
    "collapsed": false,
    "pycharm": {
     "name": "#%% md\n"
    }
   }
  },
  {
   "cell_type": "code",
   "execution_count": 6,
   "outputs": [],
   "source": [
    "PARAMS = {'no_components': 70,\n",
    "          'learning_schedule': 'adadelta',\n",
    "          'loss': 'warp',\n",
    "          'item_alpha': 3e-06,\n",
    "          'max_sampled': 10,\n",
    "          'rho': 0.95,\n",
    "          'epsilon': 1.0e-06,\n",
    "          'random_state': 42}\n",
    "\n",
    "model = LightFM(**PARAMS)"
   ],
   "metadata": {
    "collapsed": false,
    "pycharm": {
     "name": "#%%\n"
    }
   }
  },
  {
   "cell_type": "code",
   "execution_count": 7,
   "outputs": [
    {
     "name": "stderr",
     "output_type": "stream",
     "text": [
      "Epoch: 100%|██████████| 104/104 [1:33:14<00:00, 53.80s/it]\n"
     ]
    },
    {
     "data": {
      "text/plain": "<lightfm.lightfm.LightFM at 0x7f96d4059460>"
     },
     "execution_count": 7,
     "metadata": {},
     "output_type": "execute_result"
    }
   ],
   "source": [
    "model.fit(train_interactions, verbose=True, item_features=item_features, epochs = 104, num_threads=THREADS)"
   ],
   "metadata": {
    "collapsed": false,
    "pycharm": {
     "name": "#%%\n"
    }
   }
  },
  {
   "cell_type": "code",
   "execution_count": 8,
   "outputs": [],
   "source": [
    "pickle.dump(model, open('../notebooks_data/warp_model.pkl', 'wb'))"
   ],
   "metadata": {
    "collapsed": false,
    "pycharm": {
     "name": "#%%\n"
    }
   }
  },
  {
   "cell_type": "code",
   "execution_count": null,
   "outputs": [],
   "source": [],
   "metadata": {
    "collapsed": false,
    "pycharm": {
     "name": "#%%\n"
    }
   }
  }
 ],
 "metadata": {
  "kernelspec": {
   "display_name": "Python 3",
   "language": "python",
   "name": "python3"
  },
  "language_info": {
   "codemirror_mode": {
    "name": "ipython",
    "version": 2
   },
   "file_extension": ".py",
   "mimetype": "text/x-python",
   "name": "python",
   "nbconvert_exporter": "python",
   "pygments_lexer": "ipython2",
   "version": "2.7.6"
  }
 },
 "nbformat": 4,
 "nbformat_minor": 0
}