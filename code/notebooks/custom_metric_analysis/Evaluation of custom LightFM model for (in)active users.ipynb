{
 "cells": [
  {
   "cell_type": "code",
   "execution_count": 12,
   "metadata": {
    "collapsed": true
   },
   "outputs": [],
   "source": [
    "import matplotlib.pyplot as plt\n",
    "import numpy as np\n",
    "import pandas as pd\n",
    "import scipy.sparse\n",
    "from tqdm import tqdm\n",
    "\n",
    "from recommender.testing.custom_metric_utils import create_recommendations_profiles_embeddings, calculate_metric_scores\n",
    "from recommender.tools.lightfm_utils import LightFMTests\n",
    "\n",
    "THREADS = 8"
   ]
  },
  {
   "cell_type": "markdown",
   "source": [
    "## Data loading"
   ],
   "metadata": {
    "collapsed": false,
    "pycharm": {
     "name": "#%% md\n"
    }
   }
  },
  {
   "cell_type": "code",
   "execution_count": 13,
   "outputs": [],
   "source": [
    "DATA_ROOT='../../data'\n",
    "\n",
    "model = pd.read_pickle('../notebooks_data/custom_model.pkl')"
   ],
   "metadata": {
    "collapsed": false,
    "pycharm": {
     "name": "#%%\n"
    }
   }
  },
  {
   "cell_type": "code",
   "execution_count": 14,
   "outputs": [],
   "source": [
    "dataset = pd.read_pickle(f'{DATA_ROOT}/dataset.pkl')\n",
    "item_features = pd.read_pickle(f'{DATA_ROOT}/item_features.pkl')\n",
    "train_interactions = scipy.sparse.load_npz(f'{DATA_ROOT}/train_interactions.npz')\n",
    "full_test_interactions = scipy.sparse.load_npz(f'{DATA_ROOT}/test_interactions.npz')"
   ],
   "metadata": {
    "collapsed": false,
    "pycharm": {
     "name": "#%%\n"
    }
   }
  },
  {
   "cell_type": "code",
   "execution_count": 15,
   "outputs": [],
   "source": [
    "full_df = pd.read_csv(f'{DATA_ROOT}/ratings_all_implicit.csv.gz')\n",
    "train_df = pd.read_csv(f'{DATA_ROOT}/ratings_train_implicit.csv.gz')\n",
    "test_df = pd.read_csv(f'{DATA_ROOT}/ratings_test_implicit.csv.gz')\n",
    "games_df = pd.read_json(f'{DATA_ROOT}/bgg_GameItem.jl', lines=True)[[\n",
    "    'name', 'bgg_id', 'mechanic', 'category', 'complexity',\n",
    "    'max_players_best', 'min_players_best', 'max_players_rec', 'min_players_rec'\n",
    "]]\n",
    "\n",
    "features_names = pd.read_csv(f'{DATA_ROOT}/game_features_names.csv.gz').values.flatten()\n",
    "game_features = pd.read_csv(f'{DATA_ROOT}/game_features.csv.gz')"
   ],
   "metadata": {
    "collapsed": false,
    "pycharm": {
     "name": "#%%\n"
    }
   }
  },
  {
   "cell_type": "code",
   "execution_count": 16,
   "outputs": [],
   "source": [
    "users_profiles = pd.read_pickle(f'{DATA_ROOT}/users_profiles.pkl')\n",
    "test_users_profiles = pd.read_pickle(f'{DATA_ROOT}/test_users_profiles.pkl')\n",
    "games_profiles = pd.read_pickle(f'{DATA_ROOT}/games_profiles.pkl')"
   ],
   "metadata": {
    "collapsed": false,
    "pycharm": {
     "name": "#%%\n"
    }
   }
  },
  {
   "cell_type": "code",
   "execution_count": 17,
   "outputs": [],
   "source": [
    "users_profiles.index = users_profiles.index.map(dataset.mapping()[0])\n",
    "test_users_profiles.index = test_users_profiles.index.map(dataset.mapping()[0])\n",
    "games_profiles.index = games_profiles.index.map(dataset.mapping()[2])\n",
    "users_profiles = users_profiles.sort_index()\n",
    "test_users_profiles = test_users_profiles.sort_index()\n",
    "games_profiles = games_profiles.sort_index()"
   ],
   "metadata": {
    "collapsed": false,
    "pycharm": {
     "name": "#%%\n"
    }
   }
  },
  {
   "cell_type": "code",
   "execution_count": 18,
   "outputs": [],
   "source": [
    "users_profiles.values[:, :40] *= 3\n",
    "test_users_profiles.values[:, :40] *= 3"
   ],
   "metadata": {
    "collapsed": false,
    "pycharm": {
     "name": "#%%\n"
    }
   }
  },
  {
   "cell_type": "code",
   "execution_count": 19,
   "outputs": [],
   "source": [
    "mechanics_names = features_names[:20]\n",
    "categories_names = features_names[20:40]"
   ],
   "metadata": {
    "collapsed": false,
    "pycharm": {
     "name": "#%%\n"
    }
   }
  },
  {
   "cell_type": "markdown",
   "source": [
    "## Users activity"
   ],
   "metadata": {
    "collapsed": false,
    "pycharm": {
     "name": "#%% md\n"
    }
   }
  },
  {
   "cell_type": "code",
   "execution_count": 20,
   "outputs": [],
   "source": [
    "train_counts = train_df['bgg_user_name'].value_counts().rename('train')\n",
    "test_counts = test_df['bgg_user_name'].value_counts().rename('test')\n",
    "\n",
    "users_df = pd.concat((train_counts, test_counts), axis=1).dropna()"
   ],
   "metadata": {
    "collapsed": false,
    "pycharm": {
     "name": "#%%\n"
    }
   }
  },
  {
   "cell_type": "code",
   "execution_count": 21,
   "outputs": [
    {
     "data": {
      "text/plain": "(array([10128., 24252., 17810.,  8763.,  4989.,  7357.,  1985.,   663.,\n          285.,   289.]),\n array([   1,   10,   25,   50,   75,  100,  200,  300,  400,  500, 1000]),\n <BarContainer object of 10 artists>)"
     },
     "execution_count": 21,
     "metadata": {},
     "output_type": "execute_result"
    },
    {
     "data": {
      "text/plain": "<Figure size 432x288 with 1 Axes>",
      "image/png": "[encoded data removed]"
     },
     "metadata": {
      "needs_background": "light"
     },
     "output_type": "display_data"
    }
   ],
   "source": [
    "plt.hist(users_df['train'], bins=[1, 10, 25, 50, 75, 100, 200, 300, 400, 500, 1000])"
   ],
   "metadata": {
    "collapsed": false,
    "pycharm": {
     "name": "#%%\n"
    }
   }
  },
  {
   "cell_type": "markdown",
   "source": [
    "## Utils"
   ],
   "metadata": {
    "collapsed": false,
    "pycharm": {
     "name": "#%% md\n"
    }
   }
  },
  {
   "cell_type": "code",
   "execution_count": 24,
   "outputs": [],
   "source": [
    "def evaluate(min_train, max_train, min_test, max_test):\n",
    "    users = users_df[(users_df['train'] > min_train)\n",
    "                     & (users_df['train'] < max_train)\n",
    "                     & (users_df['test'] > min_test)\n",
    "                     & (users_df['test'] < max_test)].index.values\n",
    "    print(\"Number of chosen users: \", len(users))\n",
    "    chosen_ratings = test_df[test_df['bgg_user_name'].isin(users)]\n",
    "    print(\"Number of ratings of chosen users: \", len(chosen_ratings))\n",
    "    test_interactions = dataset.build_interactions(\n",
    "        (\n",
    "            (val[\"bgg_user_name\"], val[\"bgg_id\"], val[\"value\"])\n",
    "            for idx, val in chosen_ratings.iterrows()\n",
    "        )\n",
    "    )[1]\n",
    "    print(\"Test interactions prepared\")\n",
    "    test_class = LightFMTests(model=model,\n",
    "                              train_df=train_df,\n",
    "                              dataset=dataset,\n",
    "                              train_interactions=train_interactions,\n",
    "                              test_interactions=test_interactions,\n",
    "                              item_features=item_features)\n",
    "    precision = test_class.precision_at_k(k=5,\n",
    "                                          num_threads=THREADS).mean()\n",
    "    print(\"Precision calculated: \", precision)\n",
    "    users_names = np.random.choice(users, size=len(users), replace=False)\n",
    "    users_id = pd.Series(users_names).map(dataset.mapping()[0]).values\n",
    "    users_id.sort()\n",
    "    num_recs = 5\n",
    "    recommendation_profiles = create_recommendations_profiles_embeddings(\n",
    "        test_class.get_top_n(num_recs, users_id), num_recs, games_df, categories_names, mechanics_names, 10\n",
    "    )\n",
    "    recommendation_profiles.index = recommendation_profiles.index.map(dataset.mapping()[0])\n",
    "    recommendation_profiles = recommendation_profiles.sort_index()\n",
    "    score = calculate_metric_scores(recommendation_profiles, test_users_profiles.loc[users_id])\n",
    "    print(\"Custom metric score calculated: \", score)\n",
    "    return precision, score, len(users)"
   ],
   "metadata": {
    "collapsed": false,
    "pycharm": {
     "name": "#%%\n"
    }
   }
  },
  {
   "cell_type": "markdown",
   "source": [
    "## Results"
   ],
   "metadata": {
    "collapsed": false,
    "pycharm": {
     "name": "#%% md\n"
    }
   }
  },
  {
   "cell_type": "code",
   "execution_count": 25,
   "outputs": [
    {
     "name": "stderr",
     "output_type": "stream",
     "text": [
      "  0%|          | 0/10 [00:00<?, ?it/s]"
     ]
    },
    {
     "name": "stdout",
     "output_type": "stream",
     "text": [
      "Number of chosen users:  8387\n",
      "Number of ratings of chosen users:  44440\n",
      "Test interactions prepared\n",
      "Precision calculated:  0.0077023963\n"
     ]
    },
    {
     "name": "stderr",
     "output_type": "stream",
     "text": [
      " 10%|█         | 1/10 [01:05<09:48, 65.43s/it]"
     ]
    },
    {
     "name": "stdout",
     "output_type": "stream",
     "text": [
      "Custom metric score calculated:  [1.60436567 1.48358487 0.71664944 0.73886294 4.54346291]\n",
      "Number of chosen users:  11874\n",
      "Number of ratings of chosen users:  101761\n",
      "Test interactions prepared\n",
      "Precision calculated:  0.00889338\n"
     ]
    },
    {
     "name": "stderr",
     "output_type": "stream",
     "text": [
      " 20%|██        | 2/10 [02:40<11:02, 82.83s/it]"
     ]
    },
    {
     "name": "stdout",
     "output_type": "stream",
     "text": [
      "Custom metric score calculated:  [1.5362098  1.46902123 0.70672902 0.75538809 4.46734815]\n",
      "Number of chosen users:  17057\n",
      "Number of ratings of chosen users:  263166\n",
      "Test interactions prepared\n",
      "Precision calculated:  0.01002521\n"
     ]
    },
    {
     "name": "stderr",
     "output_type": "stream",
     "text": [
      " 30%|███       | 3/10 [05:09<13:11, 113.05s/it]"
     ]
    },
    {
     "name": "stdout",
     "output_type": "stream",
     "text": [
      "Custom metric score calculated:  [1.47209292 1.45767156 0.69665008 0.77389435 4.40030892]\n",
      "Number of chosen users:  13102\n",
      "Number of ratings of chosen users:  398159\n",
      "Test interactions prepared\n",
      "Precision calculated:  0.013768891\n"
     ]
    },
    {
     "name": "stderr",
     "output_type": "stream",
     "text": [
      " 40%|████      | 4/10 [07:22<12:04, 120.81s/it]"
     ]
    },
    {
     "name": "stdout",
     "output_type": "stream",
     "text": [
      "Custom metric score calculated:  [1.42158669 1.4487394  0.68973872 0.79094616 4.35101097]\n",
      "Number of chosen users:  8515\n",
      "Number of ratings of chosen users:  549280\n",
      "Test interactions prepared\n",
      "Precision calculated:  0.022618907\n"
     ]
    },
    {
     "name": "stderr",
     "output_type": "stream",
     "text": [
      " 50%|█████     | 5/10 [09:18<09:55, 119.17s/it]"
     ]
    },
    {
     "name": "stdout",
     "output_type": "stream",
     "text": [
      "Custom metric score calculated:  [1.3752814  1.43449398 0.67915256 0.80585793 4.29478587]\n",
      "Number of chosen users:  1656\n",
      "Number of ratings of chosen users:  233136\n",
      "Test interactions prepared\n",
      "Precision calculated:  0.03804348\n"
     ]
    },
    {
     "name": "stderr",
     "output_type": "stream",
     "text": [
      " 60%|██████    | 6/10 [09:57<06:07, 91.82s/it] "
     ]
    },
    {
     "name": "stdout",
     "output_type": "stream",
     "text": [
      "Custom metric score calculated:  [1.32856608 1.41139575 0.66944545 0.8279827  4.23738998]\n",
      "Number of chosen users:  307\n",
      "Number of ratings of chosen users:  89822\n",
      "Test interactions prepared\n",
      "Precision calculated:  0.07557003\n"
     ]
    },
    {
     "name": "stderr",
     "output_type": "stream",
     "text": [
      " 70%|███████   | 7/10 [10:15<03:23, 67.87s/it]"
     ]
    },
    {
     "name": "stdout",
     "output_type": "stream",
     "text": [
      "Custom metric score calculated:  [1.28190738 1.405193   0.65597035 0.8413669  4.18443763]\n",
      "Number of chosen users:  52706\n",
      "Number of ratings of chosen users:  837774\n",
      "Test interactions prepared\n",
      "Precision calculated:  0.010279666\n"
     ]
    },
    {
     "name": "stderr",
     "output_type": "stream",
     "text": [
      " 80%|████████  | 8/10 [17:48<06:20, 190.42s/it]"
     ]
    },
    {
     "name": "stdout",
     "output_type": "stream",
     "text": [
      "Custom metric score calculated:  [1.49581522 1.46204086 0.70060651 0.76819205 4.42665464]\n",
      "Number of chosen users:  10185\n",
      "Number of ratings of chosen users:  783914\n",
      "Test interactions prepared\n",
      "Precision calculated:  0.02509573\n"
     ]
    },
    {
     "name": "stderr",
     "output_type": "stream",
     "text": [
      " 90%|█████████ | 9/10 [20:20<02:58, 178.35s/it]"
     ]
    },
    {
     "name": "stdout",
     "output_type": "stream",
     "text": [
      "Custom metric score calculated:  [1.36759431 1.43066446 0.67756444 0.80948506 4.28530826]\n",
      "Number of chosen users:  64832\n",
      "Number of ratings of chosen users:  1724508\n",
      "Test interactions prepared\n",
      "Precision calculated:  0.0128917815\n"
     ]
    },
    {
     "name": "stderr",
     "output_type": "stream",
     "text": [
      "100%|██████████| 10/10 [30:39<00:00, 183.97s/it]"
     ]
    },
    {
     "name": "stdout",
     "output_type": "stream",
     "text": [
      "Custom metric score calculated:  [1.47755611 1.4573342  0.69715176 0.77435706 4.40639914]\n"
     ]
    },
    {
     "name": "stderr",
     "output_type": "stream",
     "text": [
      "\n"
     ]
    }
   ],
   "source": [
    "precision_scores = []\n",
    "custom_metric_scores = []\n",
    "users_count = []\n",
    "buckets = [(0, 15), (15, 25), (25, 50), (50, 100), (100, 250), (250, 500), (500, np.inf),\n",
    "           (10, 100), (100, 500), (0, np.inf)]\n",
    "for min_train, max_train in tqdm(buckets):\n",
    "    precision_score, custom_metric_score, users = evaluate(min_train=min_train,\n",
    "                                                    max_train=max_train,\n",
    "                                                    min_test=4,\n",
    "                                                    max_test=np.inf)\n",
    "    precision_scores.append(precision_score)\n",
    "    custom_metric_scores.append(custom_metric_score)\n",
    "    users_count.append(users)"
   ],
   "metadata": {
    "collapsed": false,
    "pycharm": {
     "name": "#%%\n"
    }
   }
  },
  {
   "cell_type": "code",
   "execution_count": 26,
   "outputs": [],
   "source": [
    "results = [{\"min_train\": train_count[0],\n",
    "            \"max_train\": train_count[1],\n",
    "            \"num_users\": users,\n",
    "            \"precision\": precision,\n",
    "            \"custom_metric_score\": metric_score[4],\n",
    "            \"categories_score\": metric_score[0],\n",
    "            \"mechanics_score\": metric_score[1],\n",
    "            \"players_count_score\": metric_score[2],\n",
    "            \"complexity_score\": metric_score[3]\n",
    "           } for train_count, precision, metric_score, users in zip(buckets, precision_scores, custom_metric_scores, users_count)\n",
    "          ]"
   ],
   "metadata": {
    "collapsed": false,
    "pycharm": {
     "name": "#%%\n"
    }
   }
  },
  {
   "cell_type": "code",
   "execution_count": 27,
   "outputs": [
    {
     "data": {
      "text/plain": "   min_train  max_train  num_users  precision  custom_metric_score  \\\n0          0       15.0       8387   0.007702             4.543463   \n1         15       25.0      11874   0.008893             4.467348   \n2         25       50.0      17057   0.010025             4.400309   \n3         50      100.0      13102   0.013769             4.351011   \n4        100      250.0       8515   0.022619             4.294786   \n5        250      500.0       1656   0.038043             4.237390   \n6        500        inf        307   0.075570             4.184438   \n7         10      100.0      52706   0.010280             4.426655   \n8        100      500.0      10185   0.025096             4.285308   \n9          0        inf      64832   0.012892             4.406399   \n\n   categories_score  mechanics_score  players_count_score  complexity_score  \n0          1.604366         1.483585             0.716649          0.738863  \n1          1.536210         1.469021             0.706729          0.755388  \n2          1.472093         1.457672             0.696650          0.773894  \n3          1.421587         1.448739             0.689739          0.790946  \n4          1.375281         1.434494             0.679153          0.805858  \n5          1.328566         1.411396             0.669445          0.827983  \n6          1.281907         1.405193             0.655970          0.841367  \n7          1.495815         1.462041             0.700607          0.768192  \n8          1.367594         1.430664             0.677564          0.809485  \n9          1.477556         1.457334             0.697152          0.774357  ",
      "text/html": "<div>\n<style scoped>\n    .dataframe tbody tr th:only-of-type {\n        vertical-align: middle;\n    }\n\n    .dataframe tbody tr th {\n        vertical-align: top;\n    }\n\n    .dataframe thead th {\n        text-align: right;\n    }\n</style>\n<table border=\"1\" class=\"dataframe\">\n  <thead>\n    <tr style=\"text-align: right;\">\n      <th></th>\n      <th>min_train</th>\n      <th>max_train</th>\n      <th>num_users</th>\n      <th>precision</th>\n      <th>custom_metric_score</th>\n      <th>categories_score</th>\n      <th>mechanics_score</th>\n      <th>players_count_score</th>\n      <th>complexity_score</th>\n    </tr>\n  </thead>\n  <tbody>\n    <tr>\n      <th>0</th>\n      <td>0</td>\n      <td>15.0</td>\n      <td>8387</td>\n      <td>0.007702</td>\n      <td>4.543463</td>\n      <td>1.604366</td>\n      <td>1.483585</td>\n      <td>0.716649</td>\n      <td>0.738863</td>\n    </tr>\n    <tr>\n      <th>1</th>\n      <td>15</td>\n      <td>25.0</td>\n      <td>11874</td>\n      <td>0.008893</td>\n      <td>4.467348</td>\n      <td>1.536210</td>\n      <td>1.469021</td>\n      <td>0.706729</td>\n      <td>0.755388</td>\n    </tr>\n    <tr>\n      <th>2</th>\n      <td>25</td>\n      <td>50.0</td>\n      <td>17057</td>\n      <td>0.010025</td>\n      <td>4.400309</td>\n      <td>1.472093</td>\n      <td>1.457672</td>\n      <td>0.696650</td>\n      <td>0.773894</td>\n    </tr>\n    <tr>\n      <th>3</th>\n      <td>50</td>\n      <td>100.0</td>\n      <td>13102</td>\n      <td>0.013769</td>\n      <td>4.351011</td>\n      <td>1.421587</td>\n      <td>1.448739</td>\n      <td>0.689739</td>\n      <td>0.790946</td>\n    </tr>\n    <tr>\n      <th>4</th>\n      <td>100</td>\n      <td>250.0</td>\n      <td>8515</td>\n      <td>0.022619</td>\n      <td>4.294786</td>\n      <td>1.375281</td>\n      <td>1.434494</td>\n      <td>0.679153</td>\n      <td>0.805858</td>\n    </tr>\n    <tr>\n      <th>5</th>\n      <td>250</td>\n      <td>500.0</td>\n      <td>1656</td>\n      <td>0.038043</td>\n      <td>4.237390</td>\n      <td>1.328566</td>\n      <td>1.411396</td>\n      <td>0.669445</td>\n      <td>0.827983</td>\n    </tr>\n    <tr>\n      <th>6</th>\n      <td>500</td>\n      <td>inf</td>\n      <td>307</td>\n      <td>0.075570</td>\n      <td>4.184438</td>\n      <td>1.281907</td>\n      <td>1.405193</td>\n      <td>0.655970</td>\n      <td>0.841367</td>\n    </tr>\n    <tr>\n      <th>7</th>\n      <td>10</td>\n      <td>100.0</td>\n      <td>52706</td>\n      <td>0.010280</td>\n      <td>4.426655</td>\n      <td>1.495815</td>\n      <td>1.462041</td>\n      <td>0.700607</td>\n      <td>0.768192</td>\n    </tr>\n    <tr>\n      <th>8</th>\n      <td>100</td>\n      <td>500.0</td>\n      <td>10185</td>\n      <td>0.025096</td>\n      <td>4.285308</td>\n      <td>1.367594</td>\n      <td>1.430664</td>\n      <td>0.677564</td>\n      <td>0.809485</td>\n    </tr>\n    <tr>\n      <th>9</th>\n      <td>0</td>\n      <td>inf</td>\n      <td>64832</td>\n      <td>0.012892</td>\n      <td>4.406399</td>\n      <td>1.477556</td>\n      <td>1.457334</td>\n      <td>0.697152</td>\n      <td>0.774357</td>\n    </tr>\n  </tbody>\n</table>\n</div>"
     },
     "execution_count": 27,
     "metadata": {},
     "output_type": "execute_result"
    }
   ],
   "source": [
    "pd.DataFrame(results)"
   ],
   "metadata": {
    "collapsed": false,
    "pycharm": {
     "name": "#%%\n"
    }
   }
  },
  {
   "cell_type": "code",
   "execution_count": null,
   "outputs": [],
   "source": [],
   "metadata": {
    "collapsed": false,
    "pycharm": {
     "name": "#%%\n"
    }
   }
  }
 ],
 "metadata": {
  "kernelspec": {
   "display_name": "Python 3",
   "language": "python",
   "name": "python3"
  },
  "language_info": {
   "codemirror_mode": {
    "name": "ipython",
    "version": 2
   },
   "file_extension": ".py",
   "mimetype": "text/x-python",
   "name": "python",
   "nbconvert_exporter": "python",
   "pygments_lexer": "ipython2",
   "version": "2.7.6"
  }
 },
 "nbformat": 4,
 "nbformat_minor": 0
}