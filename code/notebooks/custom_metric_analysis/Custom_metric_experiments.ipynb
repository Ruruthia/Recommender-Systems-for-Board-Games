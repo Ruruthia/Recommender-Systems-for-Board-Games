{
 "cells": [
  {
   "cell_type": "code",
   "execution_count": 1,
   "id": "foreign-commodity",
   "metadata": {},
   "outputs": [],
   "source": [
    "import pickle\n",
    "import random\n",
    "\n",
    "import numpy as np\n",
    "import pandas as pd\n",
    "import scipy.sparse\n",
    "from tqdm.auto import tqdm\n",
    "\n",
    "from recommender.testing.custom_metric_utils import calculate_metric_scores\n",
    "from recommender.testing.custom_metric_utils import create_recommendations_profiles_embeddings, create_users_profiles_embeddings\n",
    "\n",
    "from recommender.tools.lightfm_utils import LightFMTests"
   ]
  },
  {
   "cell_type": "markdown",
   "id": "adjustable-rolling",
   "metadata": {},
   "source": [
    "## Data loading"
   ]
  },
  {
   "cell_type": "code",
   "execution_count": 2,
   "id": "productive-taste",
   "metadata": {},
   "outputs": [],
   "source": [
    "DATA_ROOT = '../../data'\n",
    "train_df = pd.read_csv(f'{DATA_ROOT}/ratings_train_implicit.csv.gz')\n",
    "test_df = pd.read_csv(f'{DATA_ROOT}/ratings_test_implicit.csv.gz')\n",
    "full_df = pd.read_csv(f'{DATA_ROOT}/ratings_all_implicit.csv.gz')\n",
    "features_names = pd.read_csv(f'{DATA_ROOT}/game_features_names.csv.gz').values.flatten()\n",
    "games_features_df = pd.read_json(f'{DATA_ROOT}/bgg_GameItem.jl', lines=True)\\\n",
    "[['bgg_id', 'mechanic', 'category', 'complexity', 'max_players_best', 'min_players_best', 'max_players_rec', 'min_players_rec']]"
   ]
  },
  {
   "cell_type": "code",
   "execution_count": 3,
   "outputs": [],
   "source": [
    "users_profiles = pd.read_pickle(f'{DATA_ROOT}/users_profiles.pkl')\n",
    "test_users_profiles = pd.read_pickle(f'{DATA_ROOT}/test_users_profiles.pkl')\n",
    "games_profiles = pd.read_pickle(f'{DATA_ROOT}/games_profiles.pkl')"
   ],
   "metadata": {
    "collapsed": false,
    "pycharm": {
     "name": "#%%\n"
    }
   }
  },
  {
   "cell_type": "code",
   "execution_count": 4,
   "outputs": [],
   "source": [
    "mechanics_names = features_names[:20]\n",
    "categories_names = features_names[20:40]"
   ],
   "metadata": {
    "collapsed": false,
    "pycharm": {
     "name": "#%%\n"
    }
   }
  },
  {
   "cell_type": "markdown",
   "id": "advance-manitoba",
   "metadata": {},
   "source": [
    "## LightFM model"
   ]
  },
  {
   "cell_type": "code",
   "execution_count": 5,
   "id": "unnecessary-camping",
   "metadata": {},
   "outputs": [],
   "source": [
    "dataset = pd.read_pickle(f'{DATA_ROOT}/dataset.pkl')\n",
    "item_features = pd.read_pickle(f'{DATA_ROOT}/item_features.pkl')\n",
    "train_interactions = scipy.sparse.load_npz(f'{DATA_ROOT}/train_interactions.npz')\n",
    "test_interactions = scipy.sparse.load_npz(f'{DATA_ROOT}/test_interactions.npz')"
   ]
  },
  {
   "cell_type": "code",
   "execution_count": 6,
   "id": "blessed-concern",
   "metadata": {},
   "outputs": [],
   "source": [
    "model = pd.read_pickle('../notebooks_data/warp_model.pkl')\n",
    "test_class = LightFMTests(model=model,\n",
    "                      train_df=train_df,\n",
    "                      dataset=dataset,\n",
    "                      train_interactions=train_interactions,\n",
    "                      test_interactions=test_interactions,\n",
    "                      item_features=item_features)"
   ]
  },
  {
   "cell_type": "markdown",
   "source": [],
   "metadata": {
    "collapsed": false,
    "pycharm": {
     "name": "#%% md\n"
    }
   }
  },
  {
   "cell_type": "code",
   "execution_count": 7,
   "id": "31cd5c31",
   "metadata": {
    "pycharm": {
     "name": "#%%\n"
    }
   },
   "outputs": [],
   "source": [
    "train_counts = train_df['bgg_user_name'].value_counts().rename('train')\n",
    "test_counts = test_df['bgg_user_name'].value_counts().rename('test')\n",
    "\n",
    "df = pd.concat((train_counts, test_counts), axis=1).dropna()\n",
    "users = df[(df['train'] >= 10) & (df['test'] >= 5)].index.values"
   ]
  },
  {
   "cell_type": "code",
   "execution_count": 8,
   "outputs": [
    {
     "data": {
      "text/plain": "64832"
     },
     "execution_count": 8,
     "metadata": {},
     "output_type": "execute_result"
    }
   ],
   "source": [
    "len(users)"
   ],
   "metadata": {
    "collapsed": false,
    "pycharm": {
     "name": "#%%\n"
    }
   }
  },
  {
   "cell_type": "code",
   "execution_count": 9,
   "id": "4ac9244e",
   "metadata": {
    "pycharm": {
     "name": "#%%\n"
    }
   },
   "outputs": [
    {
     "data": {
      "text/plain": "  0%|          | 0/5000 [00:00<?, ?it/s]",
      "application/vnd.jupyter.widget-view+json": {
       "version_major": 2,
       "version_minor": 0,
       "model_id": "48dfda49a9a444beb810ce9afa6b3a9d"
      }
     },
     "metadata": {},
     "output_type": "display_data"
    },
    {
     "name": "stdout",
     "output_type": "stream",
     "text": [
      "Test games:  1.4851917212562356\n",
      "Random games:  0.3052717159612862\n",
      "Recommended games:  1.6059528218575938\n"
     ]
    }
   ],
   "source": [
    "DEBUG = False\n",
    "random_users = np.random.choice(users, size=100, replace=False)\n",
    "test_metric_scores = []\n",
    "random_metric_scores = []\n",
    "recommended_metric_scores = []\n",
    "random_users_games = test_df.loc[test_df['bgg_user_name'].isin(random_users)]\n",
    "test_games_grouped = random_users_games .groupby('bgg_user_name')[\"bgg_id\"]\n",
    "tqdm.pandas()\n",
    "\n",
    "for user, test_games in tqdm(test_games_grouped):\n",
    "    user_profile = users_profiles.loc[user]\n",
    "    num_recs = len(test_games)\n",
    "    test_games = pd.DataFrame({\"bgg_user_name\": user, \"bgg_id\": test_games})\n",
    "    test_games_profiles = create_recommendations_profiles_embeddings(test_games, num_recs, games_features_df, categories_names, mechanics_names, 10)\n",
    "    metric = calculate_metric_scores(test_games_profiles, user_profile)\n",
    "    test_metric_scores.append(metric)\n",
    "    if DEBUG:\n",
    "        print(\"Test_games: \", metric[-1])\n",
    "\n",
    "    random_games = train_df.sample(5)\n",
    "    random_games_profiles = create_recommendations_profiles_embeddings(random_games, 5, games_features_df, categories_names, mechanics_names, 10)\n",
    "    metric = calculate_metric_scores(random_games_profiles, user_profile)\n",
    "    random_metric_scores.append(metric)\n",
    "    if DEBUG:\n",
    "        print(\"Random_games: \", metric[-1])\n",
    "\n",
    "    recommended_games = test_class.get_top_n(\n",
    "        users_inner_id_subset=[dataset.mapping()[0][user]],\n",
    "        n=5,\n",
    "    )\n",
    "    recommended_games_profiles = create_recommendations_profiles_embeddings(recommended_games, 5, games_features_df, categories_names, mechanics_names, 10)\n",
    "    metric = calculate_metric_scores(recommended_games_profiles, user_profile)\n",
    "    recommended_metric_scores.append(metric)\n",
    "    if DEBUG:\n",
    "        print(\"Recommended games: \", metric[-1])\n",
    "print(\"Test games: \", np.array(test_metric_scores).mean(axis = 0)[-1])\n",
    "print(\"Random games: \", np.array(random_metric_scores).mean(axis = 0)[-1])\n",
    "print(\"Recommended games: \", np.array(recommended_metric_scores).mean(axis = 0)[-1])"
   ]
  },
  {
   "cell_type": "markdown",
   "id": "c8ad5098",
   "metadata": {},
   "source": [
    "# Evaluation on strongly defined users"
   ]
  },
  {
   "cell_type": "code",
   "execution_count": 32,
   "id": "0bae126d",
   "metadata": {},
   "outputs": [],
   "source": [
    "USERS_TO_ADD = [\n",
    "    # Family: Catan, Monopoly, UNO, Ticket to Ride, Scrabble + Cluedo, Carcassone, Splendor \n",
    "    {\"bgg_user_name\": \"USER_1\", \"train\": [13, 1406, 2223, 9209, 320], \"test\": [130592, 822, 148228]},\n",
    "    # Complex games: Game of Thrones, War of the Ring, Twilight Imperium (3rd edition),\n",
    "    # Blood Rage, Scythe + Star Wars: Rebellion, Root, Battlestar Galactica\n",
    "    {\"bgg_user_name\": \"USER_2\", \"train\": [103343, 2228, 12493, 170216, 169786], \"test\": [187645, 237182, 37111]},\n",
    "    # Worker placement: Viticulture, Agricola, Feast for Odin, West Kingdom 1, 3, + 2, Stone Age, Caylus\n",
    "    {\"bgg_user_name\": \"USER_3\", \"train\": [183394, 31260, 177736, 236457, 296151], \"test\": [266810, 34635, 18602]},\n",
    "    # Ameritrash: Runewars, Arkham Horror, Starcraft + Last Night on Earth, Talisman, Divine Right \n",
    "    {\"bgg_user_name\": \"USER_4\", \"train\": [59294, 15987, 22827], \"test\": [29368, 27627, 23]},\n",
    "    # Eurogames: Catan, Puerto Rico, Carcassone + Ra, El Grande, Five Tribes\n",
    "    {\"bgg_user_name\": \"USER_5\", \"train\": [13, 3076, 822], \"test\": [12, 93, 157354]},\n",
    "]"
   ]
  },
  {
   "cell_type": "code",
   "execution_count": 35,
   "outputs": [
    {
     "name": "stdout",
     "output_type": "stream",
     "text": [
      "Similar games:  [0.25       0.14583333 0.38095238 0.93945532 1.71624104]\n",
      "Random games:  [0.05555556 0.04166667 0.17460317 0.14965318 0.42147858]\n",
      "--------\n",
      "Similar games:  [0.43589744 0.4        0.2        0.88510251 1.92099994]\n",
      "Random games:  [0.1025641  0.09259259 0.06666667 0.64208555 0.90390891]\n",
      "--------\n",
      "Similar games:  [0.5        0.06060606 0.33333333 0.71553873 1.60947812]\n",
      "Random games:  [0.         0.08080808 0.22222222 0.22123458 0.52426489]\n",
      "--------\n",
      "Similar games:  [0.48148148 0.35555556 0.66666667 0.19043728 1.69414098]\n",
      "Random games:  [0.03703704 0.02222222 0.         0.         0.05925926]\n",
      "--------\n",
      "Similar games:  [0.         0.11111111 0.33333333 0.80098784 1.24543228]\n",
      "Random games:  [0.         0.01851852 0.25925926 0.35811306 0.63589084]\n",
      "--------\n"
     ]
    }
   ],
   "source": [
    "for user in USERS_TO_ADD:\n",
    "    user_games = pd.DataFrame.from_records([user])\n",
    "    user_train_games = user_games[['bgg_user_name', 'train']].explode('train').rename(columns = {\"train\": \"bgg_id\"})\n",
    "    user_test_games = user_games[['bgg_user_name', 'test']].explode('test').rename(columns = {\"test\": \"bgg_id\"})\n",
    "    n_recs = len(user_test_games)\n",
    "    user_profile = create_users_profiles_embeddings(user_train_games, games_features_df, categories_names, mechanics_names, 10)\n",
    "    similar_games_profiles = create_recommendations_profiles_embeddings(user_test_games, n_recs, games_features_df, categories_names, mechanics_names, 10)\n",
    "    metric = calculate_metric_scores(similar_games_profiles, user_profile)\n",
    "    print(\"Similar games: \", metric)\n",
    "    random_games = train_df.sample(n_recs)\n",
    "    random_games_profiles = create_recommendations_profiles_embeddings(random_games, n_recs, games_features_df, categories_names, mechanics_names, 10)\n",
    "    metric = calculate_metric_scores(random_games_profiles, user_profile)\n",
    "    print(\"Random games: \", metric)\n",
    "    print(\"--------\")"
   ],
   "metadata": {
    "collapsed": false,
    "pycharm": {
     "name": "#%%\n"
    }
   }
  },
  {
   "cell_type": "markdown",
   "source": [],
   "metadata": {
    "collapsed": false,
    "pycharm": {
     "name": "#%% md\n"
    }
   }
  },
  {
   "cell_type": "code",
   "execution_count": 41,
   "outputs": [
    {
     "data": {
      "text/plain": "       bgg_id                                           mechanic  \\\n61558  157354  [Auction/Bidding:2012, Constrained Bidding:292...   \n\n                                                category  complexity  \\\n61558  [Animals:1089, Arabian:1052, Fantasy:1010, Myt...      2.8542   \n\n       max_players_best  min_players_best  max_players_rec  min_players_rec  \n61558               2.0               2.0              4.0              2.0  ",
      "text/html": "<div>\n<style scoped>\n    .dataframe tbody tr th:only-of-type {\n        vertical-align: middle;\n    }\n\n    .dataframe tbody tr th {\n        vertical-align: top;\n    }\n\n    .dataframe thead th {\n        text-align: right;\n    }\n</style>\n<table border=\"1\" class=\"dataframe\">\n  <thead>\n    <tr style=\"text-align: right;\">\n      <th></th>\n      <th>bgg_id</th>\n      <th>mechanic</th>\n      <th>category</th>\n      <th>complexity</th>\n      <th>max_players_best</th>\n      <th>min_players_best</th>\n      <th>max_players_rec</th>\n      <th>min_players_rec</th>\n    </tr>\n  </thead>\n  <tbody>\n    <tr>\n      <th>61558</th>\n      <td>157354</td>\n      <td>[Auction/Bidding:2012, Constrained Bidding:292...</td>\n      <td>[Animals:1089, Arabian:1052, Fantasy:1010, Myt...</td>\n      <td>2.8542</td>\n      <td>2.0</td>\n      <td>2.0</td>\n      <td>4.0</td>\n      <td>2.0</td>\n    </tr>\n  </tbody>\n</table>\n</div>"
     },
     "execution_count": 41,
     "metadata": {},
     "output_type": "execute_result"
    }
   ],
   "source": [
    "# [12, 93, 157354]\n",
    "\n",
    "games_features_df[games_features_df['bgg_id'] == 157354]"
   ],
   "metadata": {
    "collapsed": false,
    "pycharm": {
     "name": "#%%\n"
    }
   }
  },
  {
   "cell_type": "code",
   "execution_count": null,
   "outputs": [],
   "source": [],
   "metadata": {
    "collapsed": false,
    "pycharm": {
     "name": "#%%\n"
    }
   }
  }
 ],
 "metadata": {
  "kernelspec": {
   "display_name": "Python 3",
   "language": "python",
   "name": "python3"
  },
  "language_info": {
   "codemirror_mode": {
    "name": "ipython",
    "version": 3
   },
   "file_extension": ".py",
   "mimetype": "text/x-python",
   "name": "python",
   "nbconvert_exporter": "python",
   "pygments_lexer": "ipython3",
   "version": "3.8.10"
  }
 },
 "nbformat": 4,
 "nbformat_minor": 5
}