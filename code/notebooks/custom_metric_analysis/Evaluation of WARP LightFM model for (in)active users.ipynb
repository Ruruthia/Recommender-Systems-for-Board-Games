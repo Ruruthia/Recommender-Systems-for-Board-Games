{
 "cells": [
  {
   "cell_type": "code",
   "execution_count": 1,
   "metadata": {
    "collapsed": true
   },
   "outputs": [],
   "source": [
    "import matplotlib.pyplot as plt\n",
    "import numpy as np\n",
    "import pandas as pd\n",
    "import scipy.sparse\n",
    "from tqdm import tqdm\n",
    "\n",
    "from recommender.testing.custom_metric_utils import create_recommendations_profiles_embeddings, calculate_metric_scores\n",
    "from recommender.tools.lightfm_utils import LightFMTests\n",
    "\n",
    "THREADS = 8"
   ]
  },
  {
   "cell_type": "markdown",
   "source": [
    "## Data loading"
   ],
   "metadata": {
    "collapsed": false,
    "pycharm": {
     "name": "#%% md\n"
    }
   }
  },
  {
   "cell_type": "code",
   "execution_count": 2,
   "outputs": [],
   "source": [
    "DATA_ROOT='../../data'\n",
    "\n",
    "model = pd.read_pickle('../notebooks_data/warp_model.pkl')"
   ],
   "metadata": {
    "collapsed": false,
    "pycharm": {
     "name": "#%%\n"
    }
   }
  },
  {
   "cell_type": "code",
   "execution_count": 3,
   "outputs": [],
   "source": [
    "dataset = pd.read_pickle(f'{DATA_ROOT}/dataset.pkl')\n",
    "item_features = pd.read_pickle(f'{DATA_ROOT}/item_features.pkl')\n",
    "train_interactions = scipy.sparse.load_npz(f'{DATA_ROOT}/train_interactions.npz')\n",
    "full_test_interactions = scipy.sparse.load_npz(f'{DATA_ROOT}/test_interactions.npz')"
   ],
   "metadata": {
    "collapsed": false,
    "pycharm": {
     "name": "#%%\n"
    }
   }
  },
  {
   "cell_type": "code",
   "execution_count": 4,
   "outputs": [],
   "source": [
    "full_df = pd.read_csv(f'{DATA_ROOT}/ratings_all_implicit.csv.gz')\n",
    "train_df = pd.read_csv(f'{DATA_ROOT}/ratings_train_implicit.csv.gz')\n",
    "test_df = pd.read_csv(f'{DATA_ROOT}/ratings_test_implicit.csv.gz')\n",
    "games_df = pd.read_json(f'{DATA_ROOT}/bgg_GameItem.jl', lines=True)[[\n",
    "    'name', 'bgg_id', 'mechanic', 'category', 'complexity',\n",
    "    'max_players_best', 'min_players_best', 'max_players_rec', 'min_players_rec'\n",
    "]]\n",
    "\n",
    "features_names = pd.read_csv(f'{DATA_ROOT}/game_features_names.csv.gz').values.flatten()\n",
    "game_features = pd.read_csv(f'{DATA_ROOT}/game_features.csv.gz')"
   ],
   "metadata": {
    "collapsed": false,
    "pycharm": {
     "name": "#%%\n"
    }
   }
  },
  {
   "cell_type": "code",
   "execution_count": 5,
   "outputs": [],
   "source": [
    "users_profiles = pd.read_pickle(f'{DATA_ROOT}/users_profiles.pkl')\n",
    "test_users_profiles = pd.read_pickle(f'{DATA_ROOT}/test_users_profiles.pkl')\n",
    "games_profiles = pd.read_pickle(f'{DATA_ROOT}/games_profiles.pkl')"
   ],
   "metadata": {
    "collapsed": false,
    "pycharm": {
     "name": "#%%\n"
    }
   }
  },
  {
   "cell_type": "code",
   "execution_count": 6,
   "outputs": [],
   "source": [
    "users_profiles.index = users_profiles.index.map(dataset.mapping()[0])\n",
    "test_users_profiles.index = test_users_profiles.index.map(dataset.mapping()[0])\n",
    "games_profiles.index = games_profiles.index.map(dataset.mapping()[2])\n",
    "users_profiles = users_profiles.sort_index()\n",
    "test_users_profiles = test_users_profiles.sort_index()\n",
    "games_profiles = games_profiles.sort_index()"
   ],
   "metadata": {
    "collapsed": false,
    "pycharm": {
     "name": "#%%\n"
    }
   }
  },
  {
   "cell_type": "code",
   "execution_count": 7,
   "outputs": [],
   "source": [
    "users_profiles.values[:, :40] *= 3\n",
    "test_users_profiles.values[:, :40] *= 3"
   ],
   "metadata": {
    "collapsed": false,
    "pycharm": {
     "name": "#%%\n"
    }
   }
  },
  {
   "cell_type": "code",
   "execution_count": 8,
   "outputs": [],
   "source": [
    "mechanics_names = features_names[:20]\n",
    "categories_names = features_names[20:40]"
   ],
   "metadata": {
    "collapsed": false,
    "pycharm": {
     "name": "#%%\n"
    }
   }
  },
  {
   "cell_type": "markdown",
   "source": [
    "## Users activity"
   ],
   "metadata": {
    "collapsed": false,
    "pycharm": {
     "name": "#%% md\n"
    }
   }
  },
  {
   "cell_type": "code",
   "execution_count": 9,
   "outputs": [],
   "source": [
    "train_counts = train_df['bgg_user_name'].value_counts().rename('train')\n",
    "test_counts = test_df['bgg_user_name'].value_counts().rename('test')\n",
    "\n",
    "users_df = pd.concat((train_counts, test_counts), axis=1).dropna()"
   ],
   "metadata": {
    "collapsed": false,
    "pycharm": {
     "name": "#%%\n"
    }
   }
  },
  {
   "cell_type": "code",
   "execution_count": 10,
   "outputs": [
    {
     "data": {
      "text/plain": "(array([10128., 24252., 17810.,  8763.,  4989.,  7357.,  1985.,   663.,\n          285.,   289.]),\n array([   1,   10,   25,   50,   75,  100,  200,  300,  400,  500, 1000]),\n <BarContainer object of 10 artists>)"
     },
     "execution_count": 10,
     "metadata": {},
     "output_type": "execute_result"
    },
    {
     "data": {
      "text/plain": "<Figure size 432x288 with 1 Axes>",
      "image/png": "[encoded data removed]"
     },
     "metadata": {
      "needs_background": "light"
     },
     "output_type": "display_data"
    }
   ],
   "source": [
    "plt.hist(users_df['train'], bins=[1, 10, 25, 50, 75, 100, 200, 300, 400, 500, 1000])"
   ],
   "metadata": {
    "collapsed": false,
    "pycharm": {
     "name": "#%%\n"
    }
   }
  },
  {
   "cell_type": "markdown",
   "source": [
    "## Utils"
   ],
   "metadata": {
    "collapsed": false,
    "pycharm": {
     "name": "#%% md\n"
    }
   }
  },
  {
   "cell_type": "code",
   "execution_count": 11,
   "outputs": [],
   "source": [
    "def evaluate(min_train, max_train, min_test, max_test):\n",
    "    users = users_df[(users_df['train'] > min_train)\n",
    "                     & (users_df['train'] < max_train)\n",
    "                     & (users_df['test'] > min_test)\n",
    "                     & (users_df['test'] < max_test)].index.values\n",
    "    print(\"Number of chosen users: \", len(users))\n",
    "    chosen_ratings = test_df[test_df['bgg_user_name'].isin(users)]\n",
    "    print(\"Number of ratings of chosen users: \", len(chosen_ratings))\n",
    "    test_interactions = dataset.build_interactions(\n",
    "        (\n",
    "            (val[\"bgg_user_name\"], val[\"bgg_id\"], val[\"value\"])\n",
    "            for idx, val in chosen_ratings.iterrows()\n",
    "        )\n",
    "    )[1]\n",
    "    print(\"Test interactions prepared\")\n",
    "    test_class = LightFMTests(model=model,\n",
    "                              train_df=train_df,\n",
    "                              dataset=dataset,\n",
    "                              train_interactions=train_interactions,\n",
    "                              test_interactions=test_interactions,\n",
    "                              item_features=item_features)\n",
    "    precision = test_class.precision_at_k(k=5,\n",
    "                                          num_threads=THREADS).mean()\n",
    "    print(\"Precision calculated: \", precision)\n",
    "    users_names = np.random.choice(users, size=min(1000, len(users)), replace=False)\n",
    "    users_id = pd.Series(users_names).map(dataset.mapping()[0]).values\n",
    "    users_id.sort()\n",
    "    num_recs = 5\n",
    "    recommendation_profiles = create_recommendations_profiles_embeddings(\n",
    "        test_class.get_top_n(num_recs, users_id), num_recs, games_df, categories_names, mechanics_names, 10\n",
    "    )\n",
    "    recommendation_profiles.index = recommendation_profiles.index.map(dataset.mapping()[0])\n",
    "    recommendation_profiles = recommendation_profiles.sort_index()\n",
    "    score = calculate_metric_scores(recommendation_profiles, test_users_profiles.loc[users_id])\n",
    "    print(\"Custom metric score calculated: \", score)\n",
    "    score = calculate_metric_scores(recommendation_profiles, users_profiles.loc[users_id])\n",
    "    print(\"Custom metric score calculated: \", score)\n",
    "    return precision, score"
   ],
   "metadata": {
    "collapsed": false,
    "pycharm": {
     "name": "#%%\n"
    }
   }
  },
  {
   "cell_type": "markdown",
   "source": [
    "## Results"
   ],
   "metadata": {
    "collapsed": false,
    "pycharm": {
     "name": "#%% md\n"
    }
   }
  },
  {
   "cell_type": "code",
   "execution_count": 12,
   "outputs": [
    {
     "name": "stderr",
     "output_type": "stream",
     "text": [
      "  0%|          | 0/10 [00:00<?, ?it/s]"
     ]
    },
    {
     "name": "stdout",
     "output_type": "stream",
     "text": [
      "Number of chosen users:  8387\n",
      "Number of ratings of chosen users:  44440\n",
      "Test interactions prepared\n",
      "Precision calculated:  0.14598784\n"
     ]
    },
    {
     "name": "stderr",
     "output_type": "stream",
     "text": [
      " 10%|█         | 1/10 [00:15<02:16, 15.21s/it]"
     ]
    },
    {
     "name": "stdout",
     "output_type": "stream",
     "text": [
      "Custom metric score calculated:  [0.72127633 0.94304085 0.32677417 0.77418911 2.76528046]\n",
      "Custom metric score calculated:  [0.74042643 0.94649511 0.32809552 0.75836452 2.77338159]\n",
      "Number of chosen users:  11874\n",
      "Number of ratings of chosen users:  101761\n",
      "Test interactions prepared\n",
      "Precision calculated:  0.19435744\n"
     ]
    },
    {
     "name": "stderr",
     "output_type": "stream",
     "text": [
      " 20%|██        | 2/10 [00:33<02:13, 16.73s/it]"
     ]
    },
    {
     "name": "stdout",
     "output_type": "stream",
     "text": [
      "Custom metric score calculated:  [0.72261124 0.88201414 0.31950814 0.7836157  2.70774922]\n",
      "Custom metric score calculated:  [0.7291947  0.88165037 0.31881676 0.7721332  2.70179504]\n",
      "Number of chosen users:  17057\n",
      "Number of ratings of chosen users:  263166\n",
      "Test interactions prepared\n",
      "Precision calculated:  0.26894534\n"
     ]
    },
    {
     "name": "stderr",
     "output_type": "stream",
     "text": [
      " 30%|███       | 3/10 [00:57<02:22, 20.33s/it]"
     ]
    },
    {
     "name": "stdout",
     "output_type": "stream",
     "text": [
      "Custom metric score calculated:  [0.67378818 0.82278732 0.30435582 0.79392088 2.5948522 ]\n",
      "Custom metric score calculated:  [0.6797871  0.82225996 0.30349657 0.7854321  2.59097573]\n",
      "Number of chosen users:  13102\n",
      "Number of ratings of chosen users:  398159\n",
      "Test interactions prepared\n",
      "Precision calculated:  0.38845977\n"
     ]
    },
    {
     "name": "stderr",
     "output_type": "stream",
     "text": [
      " 40%|████      | 4/10 [01:26<02:21, 23.64s/it]"
     ]
    },
    {
     "name": "stdout",
     "output_type": "stream",
     "text": [
      "Custom metric score calculated:  [0.64819341 0.78326809 0.30207189 0.79063332 2.52416671]\n",
      "Custom metric score calculated:  [0.64824291 0.78276319 0.30139326 0.78582628 2.51822563]\n",
      "Number of chosen users:  8515\n",
      "Number of ratings of chosen users:  549280\n",
      "Test interactions prepared\n",
      "Precision calculated:  0.55903697\n"
     ]
    },
    {
     "name": "stderr",
     "output_type": "stream",
     "text": [
      " 50%|█████     | 5/10 [02:01<02:19, 27.92s/it]"
     ]
    },
    {
     "name": "stdout",
     "output_type": "stream",
     "text": [
      "Custom metric score calculated:  [0.57574833 0.72949702 0.30002424 0.78525591 2.3905255 ]\n",
      "Custom metric score calculated:  [0.57585908 0.7279847  0.29959263 0.78306229 2.3864987 ]\n",
      "Number of chosen users:  1656\n",
      "Number of ratings of chosen users:  233136\n",
      "Test interactions prepared\n",
      "Precision calculated:  0.7379227\n"
     ]
    },
    {
     "name": "stderr",
     "output_type": "stream",
     "text": [
      " 60%|██████    | 6/10 [02:29<01:51, 27.76s/it]"
     ]
    },
    {
     "name": "stdout",
     "output_type": "stream",
     "text": [
      "Custom metric score calculated:  [0.52404358 0.69165515 0.30032337 0.77818548 2.29420758]\n",
      "Custom metric score calculated:  [0.52399534 0.69127484 0.30001019 0.77730041 2.29258078]\n",
      "Number of chosen users:  307\n",
      "Number of ratings of chosen users:  89822\n",
      "Test interactions prepared\n",
      "Precision calculated:  0.876873\n"
     ]
    },
    {
     "name": "stderr",
     "output_type": "stream",
     "text": [
      " 70%|███████   | 7/10 [02:44<01:11, 23.76s/it]"
     ]
    },
    {
     "name": "stdout",
     "output_type": "stream",
     "text": [
      "Custom metric score calculated:  [0.46681256 0.67772003 0.29872597 0.75789983 2.20115839]\n",
      "Custom metric score calculated:  [0.46770516 0.67811213 0.29845475 0.75759026 2.2018623 ]\n",
      "Number of chosen users:  52706\n",
      "Number of ratings of chosen users:  837774\n",
      "Test interactions prepared\n",
      "Precision calculated:  0.2608925\n"
     ]
    },
    {
     "name": "stderr",
     "output_type": "stream",
     "text": [
      " 80%|████████  | 8/10 [03:32<01:02, 31.38s/it]"
     ]
    },
    {
     "name": "stdout",
     "output_type": "stream",
     "text": [
      "Custom metric score calculated:  [0.66670182 0.8491679  0.31609012 0.78227581 2.61423565]\n",
      "Custom metric score calculated:  [0.67525254 0.85079195 0.31613022 0.77391158 2.61608629]\n",
      "Number of chosen users:  10185\n",
      "Number of ratings of chosen users:  783914\n",
      "Test interactions prepared\n",
      "Precision calculated:  0.5883358\n"
     ]
    },
    {
     "name": "stderr",
     "output_type": "stream",
     "text": [
      " 90%|█████████ | 9/10 [04:15<00:35, 35.14s/it]"
     ]
    },
    {
     "name": "stdout",
     "output_type": "stream",
     "text": [
      "Custom metric score calculated:  [0.57891531 0.72646879 0.30128319 0.78800021 2.3946675 ]\n",
      "Custom metric score calculated:  [0.58005084 0.72623936 0.30122698 0.78612872 2.3936459 ]\n",
      "Number of chosen users:  64832\n",
      "Number of ratings of chosen users:  1724508\n",
      "Test interactions prepared\n",
      "Precision calculated:  0.3130738\n"
     ]
    },
    {
     "name": "stderr",
     "output_type": "stream",
     "text": [
      "100%|██████████| 10/10 [05:34<00:00, 33.41s/it]"
     ]
    },
    {
     "name": "stdout",
     "output_type": "stream",
     "text": [
      "Custom metric score calculated:  [0.66585176 0.82878824 0.31139227 0.78290412 2.58893638]\n",
      "Custom metric score calculated:  [0.66963879 0.82757079 0.31117044 0.77644046 2.58482048]\n"
     ]
    },
    {
     "name": "stderr",
     "output_type": "stream",
     "text": [
      "\n"
     ]
    }
   ],
   "source": [
    "precision_scores = []\n",
    "custom_metric_scores = []\n",
    "buckets = [(0, 15), (15, 25), (25, 50), (50, 100), (100, 250), (250, 500), (500, np.inf),\n",
    "           (10, 100), (100, 500), (0, np.inf)]\n",
    "for min_train, max_train in tqdm(buckets):\n",
    "    precision_score, custom_metric_score = evaluate(min_train=min_train,\n",
    "                                                    max_train=max_train,\n",
    "                                                    min_test=4,\n",
    "                                                    max_test=np.inf)\n",
    "    precision_scores.append(precision_score)\n",
    "    custom_metric_scores.append(custom_metric_score)"
   ],
   "metadata": {
    "collapsed": false,
    "pycharm": {
     "name": "#%%\n"
    }
   }
  },
  {
   "cell_type": "code",
   "execution_count": 19,
   "outputs": [],
   "source": [
    "results = [{\"min_train\": train_count[0],\n",
    "            \"max_train\": train_count[1],\n",
    "            \"precision\": precision,\n",
    "            \"custom_metric_score\": metric_score[4],\n",
    "            \"categories_score\": metric_score[0],\n",
    "            \"mechanics_score\": metric_score[1],\n",
    "            \"players_count_score\": metric_score[2],\n",
    "            \"complexity_score\": metric_score[3]\n",
    "           } for train_count, precision, metric_score in zip(buckets, precision_scores, custom_metric_scores)\n",
    "          ]"
   ],
   "metadata": {
    "collapsed": false,
    "pycharm": {
     "name": "#%%\n"
    }
   }
  },
  {
   "cell_type": "code",
   "execution_count": 20,
   "outputs": [
    {
     "data": {
      "text/plain": "   min_train  max_train  precision  custom_metric_score  categories_score  \\\n0          0       15.0   0.145988             2.773382          0.740426   \n1         15       25.0   0.194357             2.701795          0.729195   \n2         25       50.0   0.268945             2.590976          0.679787   \n3         50      100.0   0.388460             2.518226          0.648243   \n4        100      250.0   0.559037             2.386499          0.575859   \n5        250      500.0   0.737923             2.292581          0.523995   \n6        500        inf   0.876873             2.201862          0.467705   \n7         10      100.0   0.260893             2.616086          0.675253   \n8        100      500.0   0.588336             2.393646          0.580051   \n9          0        inf   0.313074             2.584820          0.669639   \n\n   mechanics_score  players_count_score  complexity_score  \n0         0.946495             0.328096          0.758365  \n1         0.881650             0.318817          0.772133  \n2         0.822260             0.303497          0.785432  \n3         0.782763             0.301393          0.785826  \n4         0.727985             0.299593          0.783062  \n5         0.691275             0.300010          0.777300  \n6         0.678112             0.298455          0.757590  \n7         0.850792             0.316130          0.773912  \n8         0.726239             0.301227          0.786129  \n9         0.827571             0.311170          0.776440  ",
      "text/html": "<div>\n<style scoped>\n    .dataframe tbody tr th:only-of-type {\n        vertical-align: middle;\n    }\n\n    .dataframe tbody tr th {\n        vertical-align: top;\n    }\n\n    .dataframe thead th {\n        text-align: right;\n    }\n</style>\n<table border=\"1\" class=\"dataframe\">\n  <thead>\n    <tr style=\"text-align: right;\">\n      <th></th>\n      <th>min_train</th>\n      <th>max_train</th>\n      <th>precision</th>\n      <th>custom_metric_score</th>\n      <th>categories_score</th>\n      <th>mechanics_score</th>\n      <th>players_count_score</th>\n      <th>complexity_score</th>\n    </tr>\n  </thead>\n  <tbody>\n    <tr>\n      <th>0</th>\n      <td>0</td>\n      <td>15.0</td>\n      <td>0.145988</td>\n      <td>2.773382</td>\n      <td>0.740426</td>\n      <td>0.946495</td>\n      <td>0.328096</td>\n      <td>0.758365</td>\n    </tr>\n    <tr>\n      <th>1</th>\n      <td>15</td>\n      <td>25.0</td>\n      <td>0.194357</td>\n      <td>2.701795</td>\n      <td>0.729195</td>\n      <td>0.881650</td>\n      <td>0.318817</td>\n      <td>0.772133</td>\n    </tr>\n    <tr>\n      <th>2</th>\n      <td>25</td>\n      <td>50.0</td>\n      <td>0.268945</td>\n      <td>2.590976</td>\n      <td>0.679787</td>\n      <td>0.822260</td>\n      <td>0.303497</td>\n      <td>0.785432</td>\n    </tr>\n    <tr>\n      <th>3</th>\n      <td>50</td>\n      <td>100.0</td>\n      <td>0.388460</td>\n      <td>2.518226</td>\n      <td>0.648243</td>\n      <td>0.782763</td>\n      <td>0.301393</td>\n      <td>0.785826</td>\n    </tr>\n    <tr>\n      <th>4</th>\n      <td>100</td>\n      <td>250.0</td>\n      <td>0.559037</td>\n      <td>2.386499</td>\n      <td>0.575859</td>\n      <td>0.727985</td>\n      <td>0.299593</td>\n      <td>0.783062</td>\n    </tr>\n    <tr>\n      <th>5</th>\n      <td>250</td>\n      <td>500.0</td>\n      <td>0.737923</td>\n      <td>2.292581</td>\n      <td>0.523995</td>\n      <td>0.691275</td>\n      <td>0.300010</td>\n      <td>0.777300</td>\n    </tr>\n    <tr>\n      <th>6</th>\n      <td>500</td>\n      <td>inf</td>\n      <td>0.876873</td>\n      <td>2.201862</td>\n      <td>0.467705</td>\n      <td>0.678112</td>\n      <td>0.298455</td>\n      <td>0.757590</td>\n    </tr>\n    <tr>\n      <th>7</th>\n      <td>10</td>\n      <td>100.0</td>\n      <td>0.260893</td>\n      <td>2.616086</td>\n      <td>0.675253</td>\n      <td>0.850792</td>\n      <td>0.316130</td>\n      <td>0.773912</td>\n    </tr>\n    <tr>\n      <th>8</th>\n      <td>100</td>\n      <td>500.0</td>\n      <td>0.588336</td>\n      <td>2.393646</td>\n      <td>0.580051</td>\n      <td>0.726239</td>\n      <td>0.301227</td>\n      <td>0.786129</td>\n    </tr>\n    <tr>\n      <th>9</th>\n      <td>0</td>\n      <td>inf</td>\n      <td>0.313074</td>\n      <td>2.584820</td>\n      <td>0.669639</td>\n      <td>0.827571</td>\n      <td>0.311170</td>\n      <td>0.776440</td>\n    </tr>\n  </tbody>\n</table>\n</div>"
     },
     "execution_count": 20,
     "metadata": {},
     "output_type": "execute_result"
    }
   ],
   "source": [
    "pd.DataFrame(results)"
   ],
   "metadata": {
    "collapsed": false,
    "pycharm": {
     "name": "#%%\n"
    }
   }
  },
  {
   "cell_type": "code",
   "execution_count": null,
   "outputs": [],
   "source": [],
   "metadata": {
    "collapsed": false,
    "pycharm": {
     "name": "#%%\n"
    }
   }
  }
 ],
 "metadata": {
  "kernelspec": {
   "display_name": "Python 3",
   "language": "python",
   "name": "python3"
  },
  "language_info": {
   "codemirror_mode": {
    "name": "ipython",
    "version": 2
   },
   "file_extension": ".py",
   "mimetype": "text/x-python",
   "name": "python",
   "nbconvert_exporter": "python",
   "pygments_lexer": "ipython2",
   "version": "2.7.6"
  }
 },
 "nbformat": 4,
 "nbformat_minor": 0
}